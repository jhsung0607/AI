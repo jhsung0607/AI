{
  "cells": [
    {
      "cell_type": "markdown",
      "metadata": {
        "id": "D1OYuYG112Jn"
      },
      "source": [
        "# 0. bike\n",
        "\n",
        "### 데이터셋 출처\n",
        "* https://www.kaggle.com/competitions/bike-sharing-demand\n",
        "\n",
        "### 데이터 구성\n",
        "datetime - hourly date + timestamp  \n",
        "\n",
        "season -  1 = spring, 2 = summer, 3 = fall, 4 = winter \n",
        "\n",
        "holiday - whether the day is considered a holiday\n",
        "\n",
        "workingday - whether the day is neither a weekend nor holiday\n",
        "\n",
        "weather\n",
        "- 1: Clear, Few clouds, Partly cloudy, Partly cloudy\n",
        "\n",
        "- 2: Mist + Cloudy, Mist + Broken clouds, Mist + Few clouds, Mist\n",
        "\n",
        "- 3: Light Snow, Light Rain + Thunderstorm + Scattered clouds, Light Rain + Scattered clouds\n",
        "\n",
        "- 4: Heavy Rain + Ice Pallets + Thunderstorm + Mist, Snow + Fog \n",
        "temp - temperature in Celsius\n",
        "\n",
        "atemp - \"feels like\" temperature in Celsius\n",
        "humidity - relative humidity\n",
        "\n",
        "windspeed - wind speed\n",
        "\n",
        "casual - number of non-registered user rentals initiated\n",
        "\n",
        "registered - number of registered user rentals initiated\n",
        "\n",
        "count - number of total rentals"
      ]
    },
    {
      "cell_type": "markdown",
      "metadata": {
        "id": "RhoydNgX12Jq"
      },
      "source": [
        "## 필요한 라이브러리 로드"
      ]
    },
    {
      "cell_type": "code",
      "execution_count": 1,
      "metadata": {
        "id": "vuH1YNnn12Jr"
      },
      "outputs": [],
      "source": [
        "import pandas as pd\n",
        "import numpy as np\n",
        "import seaborn as sns\n",
        "import matplotlib.pyplot as plt"
      ]
    },
    {
      "cell_type": "markdown",
      "metadata": {
        "id": "DZHRI4sp12Js"
      },
      "source": [
        "## 데이터셋 로드\n",
        "* season 은 계절로 1,2,3,4로 ordinal encoding(순서가 있는 값)으로 인코딩이 되어 있다.\n",
        "* weather 는 1이면 맑은 날, 2는 흐린날, 3은 눈,비 오는 날, 4는 폭우, 폭설, 우박 내리는 날\n",
        "* temp - 섭씨 기온\n",
        "* atemp - 체감온도"
      ]
    },
    {
      "cell_type": "code",
      "source": [
        "from google.colab import drive\n",
        "drive.mount('/gdrive')"
      ],
      "metadata": {
        "colab": {
          "base_uri": "https://localhost:8080/"
        },
        "id": "g3q8ogB15Ibb",
        "outputId": "d955df30-42d1-49e8-dc13-148d96ffe3bc"
      },
      "execution_count": 2,
      "outputs": [
        {
          "output_type": "stream",
          "name": "stdout",
          "text": [
            "Mounted at /gdrive\n"
          ]
        }
      ]
    },
    {
      "cell_type": "code",
      "source": [
        "train = pd.read_csv(\"/gdrive/My Drive/Colab Notebooks/data/bike/train.csv\")\n",
        "test = pd.read_csv(\"/gdrive/My Drive/Colab Notebooks/data/bike/test.csv\")"
      ],
      "metadata": {
        "id": "xvB_22Dd5JBJ"
      },
      "execution_count": 3,
      "outputs": []
    },
    {
      "cell_type": "code",
      "execution_count": 4,
      "metadata": {
        "colab": {
          "base_uri": "https://localhost:8080/",
          "height": 130
        },
        "id": "qUxMFjwG12Jt",
        "outputId": "8a2d59a6-48dc-4aaf-a927-85f769f030d9"
      },
      "outputs": [
        {
          "output_type": "stream",
          "name": "stdout",
          "text": [
            "(10886, 12)\n"
          ]
        },
        {
          "output_type": "execute_result",
          "data": {
            "text/plain": [
              "              datetime  season  holiday  workingday  weather  temp   atemp  \\\n",
              "0  2011-01-01 00:00:00       1        0           0        1  9.84  14.395   \n",
              "1  2011-01-01 01:00:00       1        0           0        1  9.02  13.635   \n",
              "\n",
              "   humidity  windspeed  casual  registered  count  \n",
              "0        81        0.0       3          13     16  \n",
              "1        80        0.0       8          32     40  "
            ],
            "text/html": [
              "\n",
              "  <div id=\"df-08413783-40d5-43e1-b994-9b243bfa8d8c\">\n",
              "    <div class=\"colab-df-container\">\n",
              "      <div>\n",
              "<style scoped>\n",
              "    .dataframe tbody tr th:only-of-type {\n",
              "        vertical-align: middle;\n",
              "    }\n",
              "\n",
              "    .dataframe tbody tr th {\n",
              "        vertical-align: top;\n",
              "    }\n",
              "\n",
              "    .dataframe thead th {\n",
              "        text-align: right;\n",
              "    }\n",
              "</style>\n",
              "<table border=\"1\" class=\"dataframe\">\n",
              "  <thead>\n",
              "    <tr style=\"text-align: right;\">\n",
              "      <th></th>\n",
              "      <th>datetime</th>\n",
              "      <th>season</th>\n",
              "      <th>holiday</th>\n",
              "      <th>workingday</th>\n",
              "      <th>weather</th>\n",
              "      <th>temp</th>\n",
              "      <th>atemp</th>\n",
              "      <th>humidity</th>\n",
              "      <th>windspeed</th>\n",
              "      <th>casual</th>\n",
              "      <th>registered</th>\n",
              "      <th>count</th>\n",
              "    </tr>\n",
              "  </thead>\n",
              "  <tbody>\n",
              "    <tr>\n",
              "      <th>0</th>\n",
              "      <td>2011-01-01 00:00:00</td>\n",
              "      <td>1</td>\n",
              "      <td>0</td>\n",
              "      <td>0</td>\n",
              "      <td>1</td>\n",
              "      <td>9.84</td>\n",
              "      <td>14.395</td>\n",
              "      <td>81</td>\n",
              "      <td>0.0</td>\n",
              "      <td>3</td>\n",
              "      <td>13</td>\n",
              "      <td>16</td>\n",
              "    </tr>\n",
              "    <tr>\n",
              "      <th>1</th>\n",
              "      <td>2011-01-01 01:00:00</td>\n",
              "      <td>1</td>\n",
              "      <td>0</td>\n",
              "      <td>0</td>\n",
              "      <td>1</td>\n",
              "      <td>9.02</td>\n",
              "      <td>13.635</td>\n",
              "      <td>80</td>\n",
              "      <td>0.0</td>\n",
              "      <td>8</td>\n",
              "      <td>32</td>\n",
              "      <td>40</td>\n",
              "    </tr>\n",
              "  </tbody>\n",
              "</table>\n",
              "</div>\n",
              "      <button class=\"colab-df-convert\" onclick=\"convertToInteractive('df-08413783-40d5-43e1-b994-9b243bfa8d8c')\"\n",
              "              title=\"Convert this dataframe to an interactive table.\"\n",
              "              style=\"display:none;\">\n",
              "        \n",
              "  <svg xmlns=\"http://www.w3.org/2000/svg\" height=\"24px\"viewBox=\"0 0 24 24\"\n",
              "       width=\"24px\">\n",
              "    <path d=\"M0 0h24v24H0V0z\" fill=\"none\"/>\n",
              "    <path d=\"M18.56 5.44l.94 2.06.94-2.06 2.06-.94-2.06-.94-.94-2.06-.94 2.06-2.06.94zm-11 1L8.5 8.5l.94-2.06 2.06-.94-2.06-.94L8.5 2.5l-.94 2.06-2.06.94zm10 10l.94 2.06.94-2.06 2.06-.94-2.06-.94-.94-2.06-.94 2.06-2.06.94z\"/><path d=\"M17.41 7.96l-1.37-1.37c-.4-.4-.92-.59-1.43-.59-.52 0-1.04.2-1.43.59L10.3 9.45l-7.72 7.72c-.78.78-.78 2.05 0 2.83L4 21.41c.39.39.9.59 1.41.59.51 0 1.02-.2 1.41-.59l7.78-7.78 2.81-2.81c.8-.78.8-2.07 0-2.86zM5.41 20L4 18.59l7.72-7.72 1.47 1.35L5.41 20z\"/>\n",
              "  </svg>\n",
              "      </button>\n",
              "      \n",
              "  <style>\n",
              "    .colab-df-container {\n",
              "      display:flex;\n",
              "      flex-wrap:wrap;\n",
              "      gap: 12px;\n",
              "    }\n",
              "\n",
              "    .colab-df-convert {\n",
              "      background-color: #E8F0FE;\n",
              "      border: none;\n",
              "      border-radius: 50%;\n",
              "      cursor: pointer;\n",
              "      display: none;\n",
              "      fill: #1967D2;\n",
              "      height: 32px;\n",
              "      padding: 0 0 0 0;\n",
              "      width: 32px;\n",
              "    }\n",
              "\n",
              "    .colab-df-convert:hover {\n",
              "      background-color: #E2EBFA;\n",
              "      box-shadow: 0px 1px 2px rgba(60, 64, 67, 0.3), 0px 1px 3px 1px rgba(60, 64, 67, 0.15);\n",
              "      fill: #174EA6;\n",
              "    }\n",
              "\n",
              "    [theme=dark] .colab-df-convert {\n",
              "      background-color: #3B4455;\n",
              "      fill: #D2E3FC;\n",
              "    }\n",
              "\n",
              "    [theme=dark] .colab-df-convert:hover {\n",
              "      background-color: #434B5C;\n",
              "      box-shadow: 0px 1px 3px 1px rgba(0, 0, 0, 0.15);\n",
              "      filter: drop-shadow(0px 1px 2px rgba(0, 0, 0, 0.3));\n",
              "      fill: #FFFFFF;\n",
              "    }\n",
              "  </style>\n",
              "\n",
              "      <script>\n",
              "        const buttonEl =\n",
              "          document.querySelector('#df-08413783-40d5-43e1-b994-9b243bfa8d8c button.colab-df-convert');\n",
              "        buttonEl.style.display =\n",
              "          google.colab.kernel.accessAllowed ? 'block' : 'none';\n",
              "\n",
              "        async function convertToInteractive(key) {\n",
              "          const element = document.querySelector('#df-08413783-40d5-43e1-b994-9b243bfa8d8c');\n",
              "          const dataTable =\n",
              "            await google.colab.kernel.invokeFunction('convertToInteractive',\n",
              "                                                     [key], {});\n",
              "          if (!dataTable) return;\n",
              "\n",
              "          const docLinkHtml = 'Like what you see? Visit the ' +\n",
              "            '<a target=\"_blank\" href=https://colab.research.google.com/notebooks/data_table.ipynb>data table notebook</a>'\n",
              "            + ' to learn more about interactive tables.';\n",
              "          element.innerHTML = '';\n",
              "          dataTable['output_type'] = 'display_data';\n",
              "          await google.colab.output.renderOutput(dataTable, element);\n",
              "          const docLink = document.createElement('div');\n",
              "          docLink.innerHTML = docLinkHtml;\n",
              "          element.appendChild(docLink);\n",
              "        }\n",
              "      </script>\n",
              "    </div>\n",
              "  </div>\n",
              "  "
            ]
          },
          "metadata": {},
          "execution_count": 4
        }
      ],
      "source": [
        "print(train.shape)\n",
        "train.head(2)"
      ]
    },
    {
      "cell_type": "code",
      "execution_count": 5,
      "metadata": {
        "colab": {
          "base_uri": "https://localhost:8080/",
          "height": 130
        },
        "id": "PQgMWZ6W12Ju",
        "outputId": "5a8d90d3-c52d-4cfb-afe7-c2d6614055fb"
      },
      "outputs": [
        {
          "output_type": "stream",
          "name": "stdout",
          "text": [
            "(6493, 9)\n"
          ]
        },
        {
          "output_type": "execute_result",
          "data": {
            "text/plain": [
              "              datetime  season  holiday  workingday  weather   temp   atemp  \\\n",
              "0  2011-01-20 00:00:00       1        0           1        1  10.66  11.365   \n",
              "1  2011-01-20 01:00:00       1        0           1        1  10.66  13.635   \n",
              "\n",
              "   humidity  windspeed  \n",
              "0        56    26.0027  \n",
              "1        56     0.0000  "
            ],
            "text/html": [
              "\n",
              "  <div id=\"df-23a1ca3c-6217-47a8-90d4-9e80a7eeba1b\">\n",
              "    <div class=\"colab-df-container\">\n",
              "      <div>\n",
              "<style scoped>\n",
              "    .dataframe tbody tr th:only-of-type {\n",
              "        vertical-align: middle;\n",
              "    }\n",
              "\n",
              "    .dataframe tbody tr th {\n",
              "        vertical-align: top;\n",
              "    }\n",
              "\n",
              "    .dataframe thead th {\n",
              "        text-align: right;\n",
              "    }\n",
              "</style>\n",
              "<table border=\"1\" class=\"dataframe\">\n",
              "  <thead>\n",
              "    <tr style=\"text-align: right;\">\n",
              "      <th></th>\n",
              "      <th>datetime</th>\n",
              "      <th>season</th>\n",
              "      <th>holiday</th>\n",
              "      <th>workingday</th>\n",
              "      <th>weather</th>\n",
              "      <th>temp</th>\n",
              "      <th>atemp</th>\n",
              "      <th>humidity</th>\n",
              "      <th>windspeed</th>\n",
              "    </tr>\n",
              "  </thead>\n",
              "  <tbody>\n",
              "    <tr>\n",
              "      <th>0</th>\n",
              "      <td>2011-01-20 00:00:00</td>\n",
              "      <td>1</td>\n",
              "      <td>0</td>\n",
              "      <td>1</td>\n",
              "      <td>1</td>\n",
              "      <td>10.66</td>\n",
              "      <td>11.365</td>\n",
              "      <td>56</td>\n",
              "      <td>26.0027</td>\n",
              "    </tr>\n",
              "    <tr>\n",
              "      <th>1</th>\n",
              "      <td>2011-01-20 01:00:00</td>\n",
              "      <td>1</td>\n",
              "      <td>0</td>\n",
              "      <td>1</td>\n",
              "      <td>1</td>\n",
              "      <td>10.66</td>\n",
              "      <td>13.635</td>\n",
              "      <td>56</td>\n",
              "      <td>0.0000</td>\n",
              "    </tr>\n",
              "  </tbody>\n",
              "</table>\n",
              "</div>\n",
              "      <button class=\"colab-df-convert\" onclick=\"convertToInteractive('df-23a1ca3c-6217-47a8-90d4-9e80a7eeba1b')\"\n",
              "              title=\"Convert this dataframe to an interactive table.\"\n",
              "              style=\"display:none;\">\n",
              "        \n",
              "  <svg xmlns=\"http://www.w3.org/2000/svg\" height=\"24px\"viewBox=\"0 0 24 24\"\n",
              "       width=\"24px\">\n",
              "    <path d=\"M0 0h24v24H0V0z\" fill=\"none\"/>\n",
              "    <path d=\"M18.56 5.44l.94 2.06.94-2.06 2.06-.94-2.06-.94-.94-2.06-.94 2.06-2.06.94zm-11 1L8.5 8.5l.94-2.06 2.06-.94-2.06-.94L8.5 2.5l-.94 2.06-2.06.94zm10 10l.94 2.06.94-2.06 2.06-.94-2.06-.94-.94-2.06-.94 2.06-2.06.94z\"/><path d=\"M17.41 7.96l-1.37-1.37c-.4-.4-.92-.59-1.43-.59-.52 0-1.04.2-1.43.59L10.3 9.45l-7.72 7.72c-.78.78-.78 2.05 0 2.83L4 21.41c.39.39.9.59 1.41.59.51 0 1.02-.2 1.41-.59l7.78-7.78 2.81-2.81c.8-.78.8-2.07 0-2.86zM5.41 20L4 18.59l7.72-7.72 1.47 1.35L5.41 20z\"/>\n",
              "  </svg>\n",
              "      </button>\n",
              "      \n",
              "  <style>\n",
              "    .colab-df-container {\n",
              "      display:flex;\n",
              "      flex-wrap:wrap;\n",
              "      gap: 12px;\n",
              "    }\n",
              "\n",
              "    .colab-df-convert {\n",
              "      background-color: #E8F0FE;\n",
              "      border: none;\n",
              "      border-radius: 50%;\n",
              "      cursor: pointer;\n",
              "      display: none;\n",
              "      fill: #1967D2;\n",
              "      height: 32px;\n",
              "      padding: 0 0 0 0;\n",
              "      width: 32px;\n",
              "    }\n",
              "\n",
              "    .colab-df-convert:hover {\n",
              "      background-color: #E2EBFA;\n",
              "      box-shadow: 0px 1px 2px rgba(60, 64, 67, 0.3), 0px 1px 3px 1px rgba(60, 64, 67, 0.15);\n",
              "      fill: #174EA6;\n",
              "    }\n",
              "\n",
              "    [theme=dark] .colab-df-convert {\n",
              "      background-color: #3B4455;\n",
              "      fill: #D2E3FC;\n",
              "    }\n",
              "\n",
              "    [theme=dark] .colab-df-convert:hover {\n",
              "      background-color: #434B5C;\n",
              "      box-shadow: 0px 1px 3px 1px rgba(0, 0, 0, 0.15);\n",
              "      filter: drop-shadow(0px 1px 2px rgba(0, 0, 0, 0.3));\n",
              "      fill: #FFFFFF;\n",
              "    }\n",
              "  </style>\n",
              "\n",
              "      <script>\n",
              "        const buttonEl =\n",
              "          document.querySelector('#df-23a1ca3c-6217-47a8-90d4-9e80a7eeba1b button.colab-df-convert');\n",
              "        buttonEl.style.display =\n",
              "          google.colab.kernel.accessAllowed ? 'block' : 'none';\n",
              "\n",
              "        async function convertToInteractive(key) {\n",
              "          const element = document.querySelector('#df-23a1ca3c-6217-47a8-90d4-9e80a7eeba1b');\n",
              "          const dataTable =\n",
              "            await google.colab.kernel.invokeFunction('convertToInteractive',\n",
              "                                                     [key], {});\n",
              "          if (!dataTable) return;\n",
              "\n",
              "          const docLinkHtml = 'Like what you see? Visit the ' +\n",
              "            '<a target=\"_blank\" href=https://colab.research.google.com/notebooks/data_table.ipynb>data table notebook</a>'\n",
              "            + ' to learn more about interactive tables.';\n",
              "          element.innerHTML = '';\n",
              "          dataTable['output_type'] = 'display_data';\n",
              "          await google.colab.output.renderOutput(dataTable, element);\n",
              "          const docLink = document.createElement('div');\n",
              "          docLink.innerHTML = docLinkHtml;\n",
              "          element.appendChild(docLink);\n",
              "        }\n",
              "      </script>\n",
              "    </div>\n",
              "  </div>\n",
              "  "
            ]
          },
          "metadata": {},
          "execution_count": 5
        }
      ],
      "source": [
        "print(test.shape)\n",
        "test.head(2)"
      ]
    },
    {
      "cell_type": "code",
      "execution_count": 6,
      "metadata": {
        "colab": {
          "base_uri": "https://localhost:8080/"
        },
        "id": "oit2wSFh12Jv",
        "outputId": "b99a142f-0817-42ad-e019-b978414a9484"
      },
      "outputs": [
        {
          "output_type": "execute_result",
          "data": {
            "text/plain": [
              "{'casual', 'count', 'registered'}"
            ]
          },
          "metadata": {},
          "execution_count": 6
        }
      ],
      "source": [
        "set(train.columns) - set(test.columns)"
      ]
    },
    {
      "cell_type": "code",
      "execution_count": 7,
      "metadata": {
        "colab": {
          "base_uri": "https://localhost:8080/"
        },
        "id": "4UglGZ_f12Jv",
        "outputId": "e2628681-5937-4576-fdd2-639d0fcb25d0"
      },
      "outputs": [
        {
          "output_type": "stream",
          "name": "stdout",
          "text": [
            "<class 'pandas.core.frame.DataFrame'>\n",
            "RangeIndex: 10886 entries, 0 to 10885\n",
            "Data columns (total 12 columns):\n",
            " #   Column      Non-Null Count  Dtype  \n",
            "---  ------      --------------  -----  \n",
            " 0   datetime    10886 non-null  object \n",
            " 1   season      10886 non-null  int64  \n",
            " 2   holiday     10886 non-null  int64  \n",
            " 3   workingday  10886 non-null  int64  \n",
            " 4   weather     10886 non-null  int64  \n",
            " 5   temp        10886 non-null  float64\n",
            " 6   atemp       10886 non-null  float64\n",
            " 7   humidity    10886 non-null  int64  \n",
            " 8   windspeed   10886 non-null  float64\n",
            " 9   casual      10886 non-null  int64  \n",
            " 10  registered  10886 non-null  int64  \n",
            " 11  count       10886 non-null  int64  \n",
            "dtypes: float64(3), int64(8), object(1)\n",
            "memory usage: 1020.7+ KB\n"
          ]
        }
      ],
      "source": [
        "train.info()"
      ]
    },
    {
      "cell_type": "code",
      "execution_count": 8,
      "metadata": {
        "colab": {
          "base_uri": "https://localhost:8080/"
        },
        "id": "n3e3rugn12Jw",
        "outputId": "65e88f34-8e31-4a05-816a-b53d5095b12d"
      },
      "outputs": [
        {
          "output_type": "stream",
          "name": "stdout",
          "text": [
            "<class 'pandas.core.frame.DataFrame'>\n",
            "RangeIndex: 6493 entries, 0 to 6492\n",
            "Data columns (total 9 columns):\n",
            " #   Column      Non-Null Count  Dtype  \n",
            "---  ------      --------------  -----  \n",
            " 0   datetime    6493 non-null   object \n",
            " 1   season      6493 non-null   int64  \n",
            " 2   holiday     6493 non-null   int64  \n",
            " 3   workingday  6493 non-null   int64  \n",
            " 4   weather     6493 non-null   int64  \n",
            " 5   temp        6493 non-null   float64\n",
            " 6   atemp       6493 non-null   float64\n",
            " 7   humidity    6493 non-null   int64  \n",
            " 8   windspeed   6493 non-null   float64\n",
            "dtypes: float64(3), int64(5), object(1)\n",
            "memory usage: 456.7+ KB\n"
          ]
        }
      ],
      "source": [
        "test.info()"
      ]
    },
    {
      "cell_type": "code",
      "execution_count": 9,
      "metadata": {
        "colab": {
          "base_uri": "https://localhost:8080/"
        },
        "id": "-sNOHOhy12Jw",
        "outputId": "471af72b-4dd0-4b5c-bf01-ba48c4c4ec47"
      },
      "outputs": [
        {
          "output_type": "execute_result",
          "data": {
            "text/plain": [
              "datetime      0\n",
              "season        0\n",
              "holiday       0\n",
              "workingday    0\n",
              "weather       0\n",
              "temp          0\n",
              "atemp         0\n",
              "humidity      0\n",
              "windspeed     0\n",
              "casual        0\n",
              "registered    0\n",
              "count         0\n",
              "dtype: int64"
            ]
          },
          "metadata": {},
          "execution_count": 9
        }
      ],
      "source": [
        "train.isnull().sum()"
      ]
    },
    {
      "cell_type": "code",
      "execution_count": 10,
      "metadata": {
        "colab": {
          "base_uri": "https://localhost:8080/"
        },
        "id": "ptqRGInz12Jw",
        "outputId": "79f969fd-7f05-4da8-9704-c4d9b4da9d07"
      },
      "outputs": [
        {
          "output_type": "execute_result",
          "data": {
            "text/plain": [
              "datetime      0\n",
              "season        0\n",
              "holiday       0\n",
              "workingday    0\n",
              "weather       0\n",
              "temp          0\n",
              "atemp         0\n",
              "humidity      0\n",
              "windspeed     0\n",
              "dtype: int64"
            ]
          },
          "metadata": {},
          "execution_count": 10
        }
      ],
      "source": [
        "test.isnull().sum()"
      ]
    },
    {
      "cell_type": "code",
      "execution_count": 11,
      "metadata": {
        "colab": {
          "base_uri": "https://localhost:8080/",
          "height": 300
        },
        "id": "GTcHNYpE12Jx",
        "outputId": "f3a5eebb-3bdd-4ae2-c7ad-057cf3a9a556"
      },
      "outputs": [
        {
          "output_type": "execute_result",
          "data": {
            "text/plain": [
              "             season       holiday    workingday       weather         temp  \\\n",
              "count  10886.000000  10886.000000  10886.000000  10886.000000  10886.00000   \n",
              "mean       2.506614      0.028569      0.680875      1.418427     20.23086   \n",
              "std        1.116174      0.166599      0.466159      0.633839      7.79159   \n",
              "min        1.000000      0.000000      0.000000      1.000000      0.82000   \n",
              "25%        2.000000      0.000000      0.000000      1.000000     13.94000   \n",
              "50%        3.000000      0.000000      1.000000      1.000000     20.50000   \n",
              "75%        4.000000      0.000000      1.000000      2.000000     26.24000   \n",
              "max        4.000000      1.000000      1.000000      4.000000     41.00000   \n",
              "\n",
              "              atemp      humidity     windspeed        casual    registered  \\\n",
              "count  10886.000000  10886.000000  10886.000000  10886.000000  10886.000000   \n",
              "mean      23.655084     61.886460     12.799395     36.021955    155.552177   \n",
              "std        8.474601     19.245033      8.164537     49.960477    151.039033   \n",
              "min        0.760000      0.000000      0.000000      0.000000      0.000000   \n",
              "25%       16.665000     47.000000      7.001500      4.000000     36.000000   \n",
              "50%       24.240000     62.000000     12.998000     17.000000    118.000000   \n",
              "75%       31.060000     77.000000     16.997900     49.000000    222.000000   \n",
              "max       45.455000    100.000000     56.996900    367.000000    886.000000   \n",
              "\n",
              "              count  \n",
              "count  10886.000000  \n",
              "mean     191.574132  \n",
              "std      181.144454  \n",
              "min        1.000000  \n",
              "25%       42.000000  \n",
              "50%      145.000000  \n",
              "75%      284.000000  \n",
              "max      977.000000  "
            ],
            "text/html": [
              "\n",
              "  <div id=\"df-d03eb993-25e9-4480-982c-dc08a6096c7a\">\n",
              "    <div class=\"colab-df-container\">\n",
              "      <div>\n",
              "<style scoped>\n",
              "    .dataframe tbody tr th:only-of-type {\n",
              "        vertical-align: middle;\n",
              "    }\n",
              "\n",
              "    .dataframe tbody tr th {\n",
              "        vertical-align: top;\n",
              "    }\n",
              "\n",
              "    .dataframe thead th {\n",
              "        text-align: right;\n",
              "    }\n",
              "</style>\n",
              "<table border=\"1\" class=\"dataframe\">\n",
              "  <thead>\n",
              "    <tr style=\"text-align: right;\">\n",
              "      <th></th>\n",
              "      <th>season</th>\n",
              "      <th>holiday</th>\n",
              "      <th>workingday</th>\n",
              "      <th>weather</th>\n",
              "      <th>temp</th>\n",
              "      <th>atemp</th>\n",
              "      <th>humidity</th>\n",
              "      <th>windspeed</th>\n",
              "      <th>casual</th>\n",
              "      <th>registered</th>\n",
              "      <th>count</th>\n",
              "    </tr>\n",
              "  </thead>\n",
              "  <tbody>\n",
              "    <tr>\n",
              "      <th>count</th>\n",
              "      <td>10886.000000</td>\n",
              "      <td>10886.000000</td>\n",
              "      <td>10886.000000</td>\n",
              "      <td>10886.000000</td>\n",
              "      <td>10886.00000</td>\n",
              "      <td>10886.000000</td>\n",
              "      <td>10886.000000</td>\n",
              "      <td>10886.000000</td>\n",
              "      <td>10886.000000</td>\n",
              "      <td>10886.000000</td>\n",
              "      <td>10886.000000</td>\n",
              "    </tr>\n",
              "    <tr>\n",
              "      <th>mean</th>\n",
              "      <td>2.506614</td>\n",
              "      <td>0.028569</td>\n",
              "      <td>0.680875</td>\n",
              "      <td>1.418427</td>\n",
              "      <td>20.23086</td>\n",
              "      <td>23.655084</td>\n",
              "      <td>61.886460</td>\n",
              "      <td>12.799395</td>\n",
              "      <td>36.021955</td>\n",
              "      <td>155.552177</td>\n",
              "      <td>191.574132</td>\n",
              "    </tr>\n",
              "    <tr>\n",
              "      <th>std</th>\n",
              "      <td>1.116174</td>\n",
              "      <td>0.166599</td>\n",
              "      <td>0.466159</td>\n",
              "      <td>0.633839</td>\n",
              "      <td>7.79159</td>\n",
              "      <td>8.474601</td>\n",
              "      <td>19.245033</td>\n",
              "      <td>8.164537</td>\n",
              "      <td>49.960477</td>\n",
              "      <td>151.039033</td>\n",
              "      <td>181.144454</td>\n",
              "    </tr>\n",
              "    <tr>\n",
              "      <th>min</th>\n",
              "      <td>1.000000</td>\n",
              "      <td>0.000000</td>\n",
              "      <td>0.000000</td>\n",
              "      <td>1.000000</td>\n",
              "      <td>0.82000</td>\n",
              "      <td>0.760000</td>\n",
              "      <td>0.000000</td>\n",
              "      <td>0.000000</td>\n",
              "      <td>0.000000</td>\n",
              "      <td>0.000000</td>\n",
              "      <td>1.000000</td>\n",
              "    </tr>\n",
              "    <tr>\n",
              "      <th>25%</th>\n",
              "      <td>2.000000</td>\n",
              "      <td>0.000000</td>\n",
              "      <td>0.000000</td>\n",
              "      <td>1.000000</td>\n",
              "      <td>13.94000</td>\n",
              "      <td>16.665000</td>\n",
              "      <td>47.000000</td>\n",
              "      <td>7.001500</td>\n",
              "      <td>4.000000</td>\n",
              "      <td>36.000000</td>\n",
              "      <td>42.000000</td>\n",
              "    </tr>\n",
              "    <tr>\n",
              "      <th>50%</th>\n",
              "      <td>3.000000</td>\n",
              "      <td>0.000000</td>\n",
              "      <td>1.000000</td>\n",
              "      <td>1.000000</td>\n",
              "      <td>20.50000</td>\n",
              "      <td>24.240000</td>\n",
              "      <td>62.000000</td>\n",
              "      <td>12.998000</td>\n",
              "      <td>17.000000</td>\n",
              "      <td>118.000000</td>\n",
              "      <td>145.000000</td>\n",
              "    </tr>\n",
              "    <tr>\n",
              "      <th>75%</th>\n",
              "      <td>4.000000</td>\n",
              "      <td>0.000000</td>\n",
              "      <td>1.000000</td>\n",
              "      <td>2.000000</td>\n",
              "      <td>26.24000</td>\n",
              "      <td>31.060000</td>\n",
              "      <td>77.000000</td>\n",
              "      <td>16.997900</td>\n",
              "      <td>49.000000</td>\n",
              "      <td>222.000000</td>\n",
              "      <td>284.000000</td>\n",
              "    </tr>\n",
              "    <tr>\n",
              "      <th>max</th>\n",
              "      <td>4.000000</td>\n",
              "      <td>1.000000</td>\n",
              "      <td>1.000000</td>\n",
              "      <td>4.000000</td>\n",
              "      <td>41.00000</td>\n",
              "      <td>45.455000</td>\n",
              "      <td>100.000000</td>\n",
              "      <td>56.996900</td>\n",
              "      <td>367.000000</td>\n",
              "      <td>886.000000</td>\n",
              "      <td>977.000000</td>\n",
              "    </tr>\n",
              "  </tbody>\n",
              "</table>\n",
              "</div>\n",
              "      <button class=\"colab-df-convert\" onclick=\"convertToInteractive('df-d03eb993-25e9-4480-982c-dc08a6096c7a')\"\n",
              "              title=\"Convert this dataframe to an interactive table.\"\n",
              "              style=\"display:none;\">\n",
              "        \n",
              "  <svg xmlns=\"http://www.w3.org/2000/svg\" height=\"24px\"viewBox=\"0 0 24 24\"\n",
              "       width=\"24px\">\n",
              "    <path d=\"M0 0h24v24H0V0z\" fill=\"none\"/>\n",
              "    <path d=\"M18.56 5.44l.94 2.06.94-2.06 2.06-.94-2.06-.94-.94-2.06-.94 2.06-2.06.94zm-11 1L8.5 8.5l.94-2.06 2.06-.94-2.06-.94L8.5 2.5l-.94 2.06-2.06.94zm10 10l.94 2.06.94-2.06 2.06-.94-2.06-.94-.94-2.06-.94 2.06-2.06.94z\"/><path d=\"M17.41 7.96l-1.37-1.37c-.4-.4-.92-.59-1.43-.59-.52 0-1.04.2-1.43.59L10.3 9.45l-7.72 7.72c-.78.78-.78 2.05 0 2.83L4 21.41c.39.39.9.59 1.41.59.51 0 1.02-.2 1.41-.59l7.78-7.78 2.81-2.81c.8-.78.8-2.07 0-2.86zM5.41 20L4 18.59l7.72-7.72 1.47 1.35L5.41 20z\"/>\n",
              "  </svg>\n",
              "      </button>\n",
              "      \n",
              "  <style>\n",
              "    .colab-df-container {\n",
              "      display:flex;\n",
              "      flex-wrap:wrap;\n",
              "      gap: 12px;\n",
              "    }\n",
              "\n",
              "    .colab-df-convert {\n",
              "      background-color: #E8F0FE;\n",
              "      border: none;\n",
              "      border-radius: 50%;\n",
              "      cursor: pointer;\n",
              "      display: none;\n",
              "      fill: #1967D2;\n",
              "      height: 32px;\n",
              "      padding: 0 0 0 0;\n",
              "      width: 32px;\n",
              "    }\n",
              "\n",
              "    .colab-df-convert:hover {\n",
              "      background-color: #E2EBFA;\n",
              "      box-shadow: 0px 1px 2px rgba(60, 64, 67, 0.3), 0px 1px 3px 1px rgba(60, 64, 67, 0.15);\n",
              "      fill: #174EA6;\n",
              "    }\n",
              "\n",
              "    [theme=dark] .colab-df-convert {\n",
              "      background-color: #3B4455;\n",
              "      fill: #D2E3FC;\n",
              "    }\n",
              "\n",
              "    [theme=dark] .colab-df-convert:hover {\n",
              "      background-color: #434B5C;\n",
              "      box-shadow: 0px 1px 3px 1px rgba(0, 0, 0, 0.15);\n",
              "      filter: drop-shadow(0px 1px 2px rgba(0, 0, 0, 0.3));\n",
              "      fill: #FFFFFF;\n",
              "    }\n",
              "  </style>\n",
              "\n",
              "      <script>\n",
              "        const buttonEl =\n",
              "          document.querySelector('#df-d03eb993-25e9-4480-982c-dc08a6096c7a button.colab-df-convert');\n",
              "        buttonEl.style.display =\n",
              "          google.colab.kernel.accessAllowed ? 'block' : 'none';\n",
              "\n",
              "        async function convertToInteractive(key) {\n",
              "          const element = document.querySelector('#df-d03eb993-25e9-4480-982c-dc08a6096c7a');\n",
              "          const dataTable =\n",
              "            await google.colab.kernel.invokeFunction('convertToInteractive',\n",
              "                                                     [key], {});\n",
              "          if (!dataTable) return;\n",
              "\n",
              "          const docLinkHtml = 'Like what you see? Visit the ' +\n",
              "            '<a target=\"_blank\" href=https://colab.research.google.com/notebooks/data_table.ipynb>data table notebook</a>'\n",
              "            + ' to learn more about interactive tables.';\n",
              "          element.innerHTML = '';\n",
              "          dataTable['output_type'] = 'display_data';\n",
              "          await google.colab.output.renderOutput(dataTable, element);\n",
              "          const docLink = document.createElement('div');\n",
              "          docLink.innerHTML = docLinkHtml;\n",
              "          element.appendChild(docLink);\n",
              "        }\n",
              "      </script>\n",
              "    </div>\n",
              "  </div>\n",
              "  "
            ]
          },
          "metadata": {},
          "execution_count": 11
        }
      ],
      "source": [
        "train.describe()"
      ]
    },
    {
      "cell_type": "markdown",
      "metadata": {
        "id": "g7Wxrh2P12Jx"
      },
      "source": [
        "#1. 파생변수 만들기"
      ]
    },
    {
      "cell_type": "code",
      "execution_count": 12,
      "metadata": {
        "colab": {
          "base_uri": "https://localhost:8080/",
          "height": 0
        },
        "id": "71G_0F-s12Jy",
        "outputId": "c821ce59-9ad6-4a30-8496-cba3a8737ac8"
      },
      "outputs": [
        {
          "output_type": "execute_result",
          "data": {
            "text/plain": [
              "             datetime  season  holiday  workingday  weather  temp   atemp  \\\n",
              "0 2011-01-01 00:00:00       1        0           0        1  9.84  14.395   \n",
              "1 2011-01-01 01:00:00       1        0           0        1  9.02  13.635   \n",
              "2 2011-01-01 02:00:00       1        0           0        1  9.02  13.635   \n",
              "3 2011-01-01 03:00:00       1        0           0        1  9.84  14.395   \n",
              "4 2011-01-01 04:00:00       1        0           0        1  9.84  14.395   \n",
              "\n",
              "   humidity  windspeed  casual  registered  count  year  month  day  hour  \\\n",
              "0        81        0.0       3          13     16  2011      1    1     0   \n",
              "1        80        0.0       8          32     40  2011      1    1     1   \n",
              "2        80        0.0       5          27     32  2011      1    1     2   \n",
              "3        75        0.0       3          10     13  2011      1    1     3   \n",
              "4        75        0.0       0           1      1  2011      1    1     4   \n",
              "\n",
              "   minute  second  \n",
              "0       0       0  \n",
              "1       0       0  \n",
              "2       0       0  \n",
              "3       0       0  \n",
              "4       0       0  "
            ],
            "text/html": [
              "\n",
              "  <div id=\"df-273b1c27-ca31-4af5-8d66-de09392382ac\">\n",
              "    <div class=\"colab-df-container\">\n",
              "      <div>\n",
              "<style scoped>\n",
              "    .dataframe tbody tr th:only-of-type {\n",
              "        vertical-align: middle;\n",
              "    }\n",
              "\n",
              "    .dataframe tbody tr th {\n",
              "        vertical-align: top;\n",
              "    }\n",
              "\n",
              "    .dataframe thead th {\n",
              "        text-align: right;\n",
              "    }\n",
              "</style>\n",
              "<table border=\"1\" class=\"dataframe\">\n",
              "  <thead>\n",
              "    <tr style=\"text-align: right;\">\n",
              "      <th></th>\n",
              "      <th>datetime</th>\n",
              "      <th>season</th>\n",
              "      <th>holiday</th>\n",
              "      <th>workingday</th>\n",
              "      <th>weather</th>\n",
              "      <th>temp</th>\n",
              "      <th>atemp</th>\n",
              "      <th>humidity</th>\n",
              "      <th>windspeed</th>\n",
              "      <th>casual</th>\n",
              "      <th>registered</th>\n",
              "      <th>count</th>\n",
              "      <th>year</th>\n",
              "      <th>month</th>\n",
              "      <th>day</th>\n",
              "      <th>hour</th>\n",
              "      <th>minute</th>\n",
              "      <th>second</th>\n",
              "    </tr>\n",
              "  </thead>\n",
              "  <tbody>\n",
              "    <tr>\n",
              "      <th>0</th>\n",
              "      <td>2011-01-01 00:00:00</td>\n",
              "      <td>1</td>\n",
              "      <td>0</td>\n",
              "      <td>0</td>\n",
              "      <td>1</td>\n",
              "      <td>9.84</td>\n",
              "      <td>14.395</td>\n",
              "      <td>81</td>\n",
              "      <td>0.0</td>\n",
              "      <td>3</td>\n",
              "      <td>13</td>\n",
              "      <td>16</td>\n",
              "      <td>2011</td>\n",
              "      <td>1</td>\n",
              "      <td>1</td>\n",
              "      <td>0</td>\n",
              "      <td>0</td>\n",
              "      <td>0</td>\n",
              "    </tr>\n",
              "    <tr>\n",
              "      <th>1</th>\n",
              "      <td>2011-01-01 01:00:00</td>\n",
              "      <td>1</td>\n",
              "      <td>0</td>\n",
              "      <td>0</td>\n",
              "      <td>1</td>\n",
              "      <td>9.02</td>\n",
              "      <td>13.635</td>\n",
              "      <td>80</td>\n",
              "      <td>0.0</td>\n",
              "      <td>8</td>\n",
              "      <td>32</td>\n",
              "      <td>40</td>\n",
              "      <td>2011</td>\n",
              "      <td>1</td>\n",
              "      <td>1</td>\n",
              "      <td>1</td>\n",
              "      <td>0</td>\n",
              "      <td>0</td>\n",
              "    </tr>\n",
              "    <tr>\n",
              "      <th>2</th>\n",
              "      <td>2011-01-01 02:00:00</td>\n",
              "      <td>1</td>\n",
              "      <td>0</td>\n",
              "      <td>0</td>\n",
              "      <td>1</td>\n",
              "      <td>9.02</td>\n",
              "      <td>13.635</td>\n",
              "      <td>80</td>\n",
              "      <td>0.0</td>\n",
              "      <td>5</td>\n",
              "      <td>27</td>\n",
              "      <td>32</td>\n",
              "      <td>2011</td>\n",
              "      <td>1</td>\n",
              "      <td>1</td>\n",
              "      <td>2</td>\n",
              "      <td>0</td>\n",
              "      <td>0</td>\n",
              "    </tr>\n",
              "    <tr>\n",
              "      <th>3</th>\n",
              "      <td>2011-01-01 03:00:00</td>\n",
              "      <td>1</td>\n",
              "      <td>0</td>\n",
              "      <td>0</td>\n",
              "      <td>1</td>\n",
              "      <td>9.84</td>\n",
              "      <td>14.395</td>\n",
              "      <td>75</td>\n",
              "      <td>0.0</td>\n",
              "      <td>3</td>\n",
              "      <td>10</td>\n",
              "      <td>13</td>\n",
              "      <td>2011</td>\n",
              "      <td>1</td>\n",
              "      <td>1</td>\n",
              "      <td>3</td>\n",
              "      <td>0</td>\n",
              "      <td>0</td>\n",
              "    </tr>\n",
              "    <tr>\n",
              "      <th>4</th>\n",
              "      <td>2011-01-01 04:00:00</td>\n",
              "      <td>1</td>\n",
              "      <td>0</td>\n",
              "      <td>0</td>\n",
              "      <td>1</td>\n",
              "      <td>9.84</td>\n",
              "      <td>14.395</td>\n",
              "      <td>75</td>\n",
              "      <td>0.0</td>\n",
              "      <td>0</td>\n",
              "      <td>1</td>\n",
              "      <td>1</td>\n",
              "      <td>2011</td>\n",
              "      <td>1</td>\n",
              "      <td>1</td>\n",
              "      <td>4</td>\n",
              "      <td>0</td>\n",
              "      <td>0</td>\n",
              "    </tr>\n",
              "  </tbody>\n",
              "</table>\n",
              "</div>\n",
              "      <button class=\"colab-df-convert\" onclick=\"convertToInteractive('df-273b1c27-ca31-4af5-8d66-de09392382ac')\"\n",
              "              title=\"Convert this dataframe to an interactive table.\"\n",
              "              style=\"display:none;\">\n",
              "        \n",
              "  <svg xmlns=\"http://www.w3.org/2000/svg\" height=\"24px\"viewBox=\"0 0 24 24\"\n",
              "       width=\"24px\">\n",
              "    <path d=\"M0 0h24v24H0V0z\" fill=\"none\"/>\n",
              "    <path d=\"M18.56 5.44l.94 2.06.94-2.06 2.06-.94-2.06-.94-.94-2.06-.94 2.06-2.06.94zm-11 1L8.5 8.5l.94-2.06 2.06-.94-2.06-.94L8.5 2.5l-.94 2.06-2.06.94zm10 10l.94 2.06.94-2.06 2.06-.94-2.06-.94-.94-2.06-.94 2.06-2.06.94z\"/><path d=\"M17.41 7.96l-1.37-1.37c-.4-.4-.92-.59-1.43-.59-.52 0-1.04.2-1.43.59L10.3 9.45l-7.72 7.72c-.78.78-.78 2.05 0 2.83L4 21.41c.39.39.9.59 1.41.59.51 0 1.02-.2 1.41-.59l7.78-7.78 2.81-2.81c.8-.78.8-2.07 0-2.86zM5.41 20L4 18.59l7.72-7.72 1.47 1.35L5.41 20z\"/>\n",
              "  </svg>\n",
              "      </button>\n",
              "      \n",
              "  <style>\n",
              "    .colab-df-container {\n",
              "      display:flex;\n",
              "      flex-wrap:wrap;\n",
              "      gap: 12px;\n",
              "    }\n",
              "\n",
              "    .colab-df-convert {\n",
              "      background-color: #E8F0FE;\n",
              "      border: none;\n",
              "      border-radius: 50%;\n",
              "      cursor: pointer;\n",
              "      display: none;\n",
              "      fill: #1967D2;\n",
              "      height: 32px;\n",
              "      padding: 0 0 0 0;\n",
              "      width: 32px;\n",
              "    }\n",
              "\n",
              "    .colab-df-convert:hover {\n",
              "      background-color: #E2EBFA;\n",
              "      box-shadow: 0px 1px 2px rgba(60, 64, 67, 0.3), 0px 1px 3px 1px rgba(60, 64, 67, 0.15);\n",
              "      fill: #174EA6;\n",
              "    }\n",
              "\n",
              "    [theme=dark] .colab-df-convert {\n",
              "      background-color: #3B4455;\n",
              "      fill: #D2E3FC;\n",
              "    }\n",
              "\n",
              "    [theme=dark] .colab-df-convert:hover {\n",
              "      background-color: #434B5C;\n",
              "      box-shadow: 0px 1px 3px 1px rgba(0, 0, 0, 0.15);\n",
              "      filter: drop-shadow(0px 1px 2px rgba(0, 0, 0, 0.3));\n",
              "      fill: #FFFFFF;\n",
              "    }\n",
              "  </style>\n",
              "\n",
              "      <script>\n",
              "        const buttonEl =\n",
              "          document.querySelector('#df-273b1c27-ca31-4af5-8d66-de09392382ac button.colab-df-convert');\n",
              "        buttonEl.style.display =\n",
              "          google.colab.kernel.accessAllowed ? 'block' : 'none';\n",
              "\n",
              "        async function convertToInteractive(key) {\n",
              "          const element = document.querySelector('#df-273b1c27-ca31-4af5-8d66-de09392382ac');\n",
              "          const dataTable =\n",
              "            await google.colab.kernel.invokeFunction('convertToInteractive',\n",
              "                                                     [key], {});\n",
              "          if (!dataTable) return;\n",
              "\n",
              "          const docLinkHtml = 'Like what you see? Visit the ' +\n",
              "            '<a target=\"_blank\" href=https://colab.research.google.com/notebooks/data_table.ipynb>data table notebook</a>'\n",
              "            + ' to learn more about interactive tables.';\n",
              "          element.innerHTML = '';\n",
              "          dataTable['output_type'] = 'display_data';\n",
              "          await google.colab.output.renderOutput(dataTable, element);\n",
              "          const docLink = document.createElement('div');\n",
              "          docLink.innerHTML = docLinkHtml;\n",
              "          element.appendChild(docLink);\n",
              "        }\n",
              "      </script>\n",
              "    </div>\n",
              "  </div>\n",
              "  "
            ]
          },
          "metadata": {},
          "execution_count": 12
        }
      ],
      "source": [
        "train[\"datetime\"] = pd.to_datetime(train[\"datetime\"])\n",
        "train[\"year\"] = train[\"datetime\"].dt.year\n",
        "train[\"month\"] = train[\"datetime\"].dt.month\n",
        "train[\"day\"] = train[\"datetime\"].dt.day\n",
        "train[\"hour\"] = train[\"datetime\"].dt.hour\n",
        "train[\"minute\"] = train[\"datetime\"].dt.minute\n",
        "train[\"second\"] = train[\"datetime\"].dt.second\n",
        "\n",
        "train.head()"
      ]
    },
    {
      "cell_type": "code",
      "execution_count": 13,
      "metadata": {
        "colab": {
          "base_uri": "https://localhost:8080/",
          "height": 0
        },
        "id": "mJJVw3Ma12Jy",
        "outputId": "02dd8a21-b959-4cdb-d135-78d29129a3c4"
      },
      "outputs": [
        {
          "output_type": "execute_result",
          "data": {
            "text/plain": [
              "             datetime  season  holiday  workingday  weather   temp   atemp  \\\n",
              "0 2011-01-20 00:00:00       1        0           1        1  10.66  11.365   \n",
              "1 2011-01-20 01:00:00       1        0           1        1  10.66  13.635   \n",
              "2 2011-01-20 02:00:00       1        0           1        1  10.66  13.635   \n",
              "3 2011-01-20 03:00:00       1        0           1        1  10.66  12.880   \n",
              "4 2011-01-20 04:00:00       1        0           1        1  10.66  12.880   \n",
              "\n",
              "   humidity  windspeed  year  month  day  hour  minute  second  \n",
              "0        56    26.0027  2011      1   20     0       0       0  \n",
              "1        56     0.0000  2011      1   20     1       0       0  \n",
              "2        56     0.0000  2011      1   20     2       0       0  \n",
              "3        56    11.0014  2011      1   20     3       0       0  \n",
              "4        56    11.0014  2011      1   20     4       0       0  "
            ],
            "text/html": [
              "\n",
              "  <div id=\"df-fb07bd30-6f3f-469d-a6fc-b370fc787a90\">\n",
              "    <div class=\"colab-df-container\">\n",
              "      <div>\n",
              "<style scoped>\n",
              "    .dataframe tbody tr th:only-of-type {\n",
              "        vertical-align: middle;\n",
              "    }\n",
              "\n",
              "    .dataframe tbody tr th {\n",
              "        vertical-align: top;\n",
              "    }\n",
              "\n",
              "    .dataframe thead th {\n",
              "        text-align: right;\n",
              "    }\n",
              "</style>\n",
              "<table border=\"1\" class=\"dataframe\">\n",
              "  <thead>\n",
              "    <tr style=\"text-align: right;\">\n",
              "      <th></th>\n",
              "      <th>datetime</th>\n",
              "      <th>season</th>\n",
              "      <th>holiday</th>\n",
              "      <th>workingday</th>\n",
              "      <th>weather</th>\n",
              "      <th>temp</th>\n",
              "      <th>atemp</th>\n",
              "      <th>humidity</th>\n",
              "      <th>windspeed</th>\n",
              "      <th>year</th>\n",
              "      <th>month</th>\n",
              "      <th>day</th>\n",
              "      <th>hour</th>\n",
              "      <th>minute</th>\n",
              "      <th>second</th>\n",
              "    </tr>\n",
              "  </thead>\n",
              "  <tbody>\n",
              "    <tr>\n",
              "      <th>0</th>\n",
              "      <td>2011-01-20 00:00:00</td>\n",
              "      <td>1</td>\n",
              "      <td>0</td>\n",
              "      <td>1</td>\n",
              "      <td>1</td>\n",
              "      <td>10.66</td>\n",
              "      <td>11.365</td>\n",
              "      <td>56</td>\n",
              "      <td>26.0027</td>\n",
              "      <td>2011</td>\n",
              "      <td>1</td>\n",
              "      <td>20</td>\n",
              "      <td>0</td>\n",
              "      <td>0</td>\n",
              "      <td>0</td>\n",
              "    </tr>\n",
              "    <tr>\n",
              "      <th>1</th>\n",
              "      <td>2011-01-20 01:00:00</td>\n",
              "      <td>1</td>\n",
              "      <td>0</td>\n",
              "      <td>1</td>\n",
              "      <td>1</td>\n",
              "      <td>10.66</td>\n",
              "      <td>13.635</td>\n",
              "      <td>56</td>\n",
              "      <td>0.0000</td>\n",
              "      <td>2011</td>\n",
              "      <td>1</td>\n",
              "      <td>20</td>\n",
              "      <td>1</td>\n",
              "      <td>0</td>\n",
              "      <td>0</td>\n",
              "    </tr>\n",
              "    <tr>\n",
              "      <th>2</th>\n",
              "      <td>2011-01-20 02:00:00</td>\n",
              "      <td>1</td>\n",
              "      <td>0</td>\n",
              "      <td>1</td>\n",
              "      <td>1</td>\n",
              "      <td>10.66</td>\n",
              "      <td>13.635</td>\n",
              "      <td>56</td>\n",
              "      <td>0.0000</td>\n",
              "      <td>2011</td>\n",
              "      <td>1</td>\n",
              "      <td>20</td>\n",
              "      <td>2</td>\n",
              "      <td>0</td>\n",
              "      <td>0</td>\n",
              "    </tr>\n",
              "    <tr>\n",
              "      <th>3</th>\n",
              "      <td>2011-01-20 03:00:00</td>\n",
              "      <td>1</td>\n",
              "      <td>0</td>\n",
              "      <td>1</td>\n",
              "      <td>1</td>\n",
              "      <td>10.66</td>\n",
              "      <td>12.880</td>\n",
              "      <td>56</td>\n",
              "      <td>11.0014</td>\n",
              "      <td>2011</td>\n",
              "      <td>1</td>\n",
              "      <td>20</td>\n",
              "      <td>3</td>\n",
              "      <td>0</td>\n",
              "      <td>0</td>\n",
              "    </tr>\n",
              "    <tr>\n",
              "      <th>4</th>\n",
              "      <td>2011-01-20 04:00:00</td>\n",
              "      <td>1</td>\n",
              "      <td>0</td>\n",
              "      <td>1</td>\n",
              "      <td>1</td>\n",
              "      <td>10.66</td>\n",
              "      <td>12.880</td>\n",
              "      <td>56</td>\n",
              "      <td>11.0014</td>\n",
              "      <td>2011</td>\n",
              "      <td>1</td>\n",
              "      <td>20</td>\n",
              "      <td>4</td>\n",
              "      <td>0</td>\n",
              "      <td>0</td>\n",
              "    </tr>\n",
              "  </tbody>\n",
              "</table>\n",
              "</div>\n",
              "      <button class=\"colab-df-convert\" onclick=\"convertToInteractive('df-fb07bd30-6f3f-469d-a6fc-b370fc787a90')\"\n",
              "              title=\"Convert this dataframe to an interactive table.\"\n",
              "              style=\"display:none;\">\n",
              "        \n",
              "  <svg xmlns=\"http://www.w3.org/2000/svg\" height=\"24px\"viewBox=\"0 0 24 24\"\n",
              "       width=\"24px\">\n",
              "    <path d=\"M0 0h24v24H0V0z\" fill=\"none\"/>\n",
              "    <path d=\"M18.56 5.44l.94 2.06.94-2.06 2.06-.94-2.06-.94-.94-2.06-.94 2.06-2.06.94zm-11 1L8.5 8.5l.94-2.06 2.06-.94-2.06-.94L8.5 2.5l-.94 2.06-2.06.94zm10 10l.94 2.06.94-2.06 2.06-.94-2.06-.94-.94-2.06-.94 2.06-2.06.94z\"/><path d=\"M17.41 7.96l-1.37-1.37c-.4-.4-.92-.59-1.43-.59-.52 0-1.04.2-1.43.59L10.3 9.45l-7.72 7.72c-.78.78-.78 2.05 0 2.83L4 21.41c.39.39.9.59 1.41.59.51 0 1.02-.2 1.41-.59l7.78-7.78 2.81-2.81c.8-.78.8-2.07 0-2.86zM5.41 20L4 18.59l7.72-7.72 1.47 1.35L5.41 20z\"/>\n",
              "  </svg>\n",
              "      </button>\n",
              "      \n",
              "  <style>\n",
              "    .colab-df-container {\n",
              "      display:flex;\n",
              "      flex-wrap:wrap;\n",
              "      gap: 12px;\n",
              "    }\n",
              "\n",
              "    .colab-df-convert {\n",
              "      background-color: #E8F0FE;\n",
              "      border: none;\n",
              "      border-radius: 50%;\n",
              "      cursor: pointer;\n",
              "      display: none;\n",
              "      fill: #1967D2;\n",
              "      height: 32px;\n",
              "      padding: 0 0 0 0;\n",
              "      width: 32px;\n",
              "    }\n",
              "\n",
              "    .colab-df-convert:hover {\n",
              "      background-color: #E2EBFA;\n",
              "      box-shadow: 0px 1px 2px rgba(60, 64, 67, 0.3), 0px 1px 3px 1px rgba(60, 64, 67, 0.15);\n",
              "      fill: #174EA6;\n",
              "    }\n",
              "\n",
              "    [theme=dark] .colab-df-convert {\n",
              "      background-color: #3B4455;\n",
              "      fill: #D2E3FC;\n",
              "    }\n",
              "\n",
              "    [theme=dark] .colab-df-convert:hover {\n",
              "      background-color: #434B5C;\n",
              "      box-shadow: 0px 1px 3px 1px rgba(0, 0, 0, 0.15);\n",
              "      filter: drop-shadow(0px 1px 2px rgba(0, 0, 0, 0.3));\n",
              "      fill: #FFFFFF;\n",
              "    }\n",
              "  </style>\n",
              "\n",
              "      <script>\n",
              "        const buttonEl =\n",
              "          document.querySelector('#df-fb07bd30-6f3f-469d-a6fc-b370fc787a90 button.colab-df-convert');\n",
              "        buttonEl.style.display =\n",
              "          google.colab.kernel.accessAllowed ? 'block' : 'none';\n",
              "\n",
              "        async function convertToInteractive(key) {\n",
              "          const element = document.querySelector('#df-fb07bd30-6f3f-469d-a6fc-b370fc787a90');\n",
              "          const dataTable =\n",
              "            await google.colab.kernel.invokeFunction('convertToInteractive',\n",
              "                                                     [key], {});\n",
              "          if (!dataTable) return;\n",
              "\n",
              "          const docLinkHtml = 'Like what you see? Visit the ' +\n",
              "            '<a target=\"_blank\" href=https://colab.research.google.com/notebooks/data_table.ipynb>data table notebook</a>'\n",
              "            + ' to learn more about interactive tables.';\n",
              "          element.innerHTML = '';\n",
              "          dataTable['output_type'] = 'display_data';\n",
              "          await google.colab.output.renderOutput(dataTable, element);\n",
              "          const docLink = document.createElement('div');\n",
              "          docLink.innerHTML = docLinkHtml;\n",
              "          element.appendChild(docLink);\n",
              "        }\n",
              "      </script>\n",
              "    </div>\n",
              "  </div>\n",
              "  "
            ]
          },
          "metadata": {},
          "execution_count": 13
        }
      ],
      "source": [
        "test[\"datetime\"] = pd.to_datetime(test[\"datetime\"])\n",
        "test[\"year\"] = test[\"datetime\"].dt.year\n",
        "test[\"month\"] = test[\"datetime\"].dt.month\n",
        "test[\"day\"] = test[\"datetime\"].dt.day\n",
        "test[\"hour\"] = test[\"datetime\"].dt.hour\n",
        "test[\"minute\"] = test[\"datetime\"].dt.minute\n",
        "test[\"second\"] = test[\"datetime\"].dt.second\n",
        "\n",
        "test.head()"
      ]
    },
    {
      "cell_type": "markdown",
      "metadata": {
        "id": "o8EaJivr12Jz"
      },
      "source": [
        "#2. EDA"
      ]
    },
    {
      "cell_type": "code",
      "execution_count": 14,
      "metadata": {
        "colab": {
          "base_uri": "https://localhost:8080/",
          "height": 0
        },
        "id": "mqQP769C12Jz",
        "outputId": "e40df34a-784b-4bc4-d3ae-e01cf6ab1b45"
      },
      "outputs": [
        {
          "output_type": "display_data",
          "data": {
            "text/plain": [
              "<Figure size 864x720 with 20 Axes>"
            ],
            "image/png": "[encoded data removed]"
          },
          "metadata": {
            "needs_background": "light"
          }
        }
      ],
      "source": [
        "train.hist(figsize=(12, 10), bins=50);"
      ]
    },
    {
      "cell_type": "code",
      "execution_count": 15,
      "metadata": {
        "colab": {
          "base_uri": "https://localhost:8080/",
          "height": 0
        },
        "id": "OVkHewvh12Jz",
        "outputId": "8a153cb9-22e0-480d-8052-faedd812c681"
      },
      "outputs": [
        {
          "output_type": "display_data",
          "data": {
            "text/plain": [
              "<Figure size 864x720 with 16 Axes>"
            ],
            "image/png": "[encoded data removed]"
          },
          "metadata": {
            "needs_background": "light"
          }
        }
      ],
      "source": [
        "test.hist(figsize=(12, 10), bins=50);"
      ]
    },
    {
      "cell_type": "code",
      "execution_count": 16,
      "metadata": {
        "colab": {
          "base_uri": "https://localhost:8080/"
        },
        "id": "c0pgRvGo12Jz",
        "outputId": "cf88da8c-1b01-4491-913c-b0e57be752c1"
      },
      "outputs": [
        {
          "output_type": "execute_result",
          "data": {
            "text/plain": [
              "(1313, 18)"
            ]
          },
          "metadata": {},
          "execution_count": 16
        }
      ],
      "source": [
        "train[train[\"windspeed\"] == 0].shape"
      ]
    },
    {
      "cell_type": "code",
      "execution_count": 17,
      "metadata": {
        "colab": {
          "base_uri": "https://localhost:8080/",
          "height": 0
        },
        "id": "qQhSsySQ12J0",
        "outputId": "5af29693-3ebf-4734-994a-ff0b28939d1c"
      },
      "outputs": [
        {
          "output_type": "execute_result",
          "data": {
            "text/plain": [
              "<matplotlib.axes._subplots.AxesSubplot at 0x7fef4e2639d0>"
            ]
          },
          "metadata": {},
          "execution_count": 17
        },
        {
          "output_type": "display_data",
          "data": {
            "text/plain": [
              "<Figure size 432x288 with 1 Axes>"
            ],
            "image/png": "[encoded data removed]"
          },
          "metadata": {
            "needs_background": "light"
          }
        }
      ],
      "source": [
        "sns.scatterplot(data=train, x=\"windspeed\", y=\"count\")"
      ]
    },
    {
      "cell_type": "code",
      "execution_count": 18,
      "metadata": {
        "colab": {
          "base_uri": "https://localhost:8080/",
          "height": 0
        },
        "id": "d-UpHtKv12J0",
        "outputId": "1dc1036e-abcb-4396-8bea-1d7215281cdd"
      },
      "outputs": [
        {
          "output_type": "execute_result",
          "data": {
            "text/plain": [
              "<matplotlib.axes._subplots.AxesSubplot at 0x7fef4deb3190>"
            ]
          },
          "metadata": {},
          "execution_count": 18
        },
        {
          "output_type": "display_data",
          "data": {
            "text/plain": [
              "<Figure size 432x288 with 1 Axes>"
            ],
            "image/png": "[encoded data removed]"
          },
          "metadata": {
            "needs_background": "light"
          }
        }
      ],
      "source": [
        "sns.scatterplot(data=train, x=\"humidity\", y=\"count\")"
      ]
    },
    {
      "cell_type": "code",
      "execution_count": 19,
      "metadata": {
        "colab": {
          "base_uri": "https://localhost:8080/",
          "height": 0
        },
        "id": "RVbDvVKM12J0",
        "outputId": "ea29d48c-fb16-4f96-a8c9-21d81a420afe"
      },
      "outputs": [
        {
          "output_type": "execute_result",
          "data": {
            "text/plain": [
              "<matplotlib.axes._subplots.AxesSubplot at 0x7fef4d2c96a0>"
            ]
          },
          "metadata": {},
          "execution_count": 19
        },
        {
          "output_type": "display_data",
          "data": {
            "text/plain": [
              "<Figure size 432x288 with 1 Axes>"
            ],
            "image/png": "[encoded data removed]"
          },
          "metadata": {
            "needs_background": "light"
          }
        }
      ],
      "source": [
        "sns.scatterplot(data=train, x=\"temp\", y=\"atemp\")"
      ]
    },
    {
      "cell_type": "code",
      "execution_count": 20,
      "metadata": {
        "colab": {
          "base_uri": "https://localhost:8080/",
          "height": 0
        },
        "id": "hvf7XPBp12J0",
        "outputId": "f4c9c0d6-e629-40aa-a0e8-286bef0422df"
      },
      "outputs": [
        {
          "output_type": "execute_result",
          "data": {
            "text/plain": [
              "                datetime  season  holiday  workingday  weather   temp  atemp  \\\n",
              "8991 2012-08-17 00:00:00       3        0           1        1  27.88  12.12   \n",
              "8992 2012-08-17 01:00:00       3        0           1        1  27.06  12.12   \n",
              "8993 2012-08-17 02:00:00       3        0           1        1  27.06  12.12   \n",
              "8994 2012-08-17 03:00:00       3        0           1        1  26.24  12.12   \n",
              "8995 2012-08-17 04:00:00       3        0           1        1  26.24  12.12   \n",
              "8996 2012-08-17 05:00:00       3        0           1        1  26.24  12.12   \n",
              "8997 2012-08-17 06:00:00       3        0           1        1  25.42  12.12   \n",
              "8998 2012-08-17 07:00:00       3        0           1        1  26.24  12.12   \n",
              "8999 2012-08-17 08:00:00       3        0           1        1  27.88  12.12   \n",
              "9000 2012-08-17 09:00:00       3        0           1        1  28.70  12.12   \n",
              "9001 2012-08-17 10:00:00       3        0           1        1  30.34  12.12   \n",
              "9002 2012-08-17 11:00:00       3        0           1        1  31.16  12.12   \n",
              "9003 2012-08-17 12:00:00       3        0           1        1  33.62  12.12   \n",
              "9004 2012-08-17 13:00:00       3        0           1        1  34.44  12.12   \n",
              "9005 2012-08-17 14:00:00       3        0           1        1  35.26  12.12   \n",
              "9006 2012-08-17 15:00:00       3        0           1        1  35.26  12.12   \n",
              "9007 2012-08-17 16:00:00       3        0           1        2  34.44  12.12   \n",
              "9008 2012-08-17 17:00:00       3        0           1        1  33.62  12.12   \n",
              "9009 2012-08-17 18:00:00       3        0           1        2  33.62  12.12   \n",
              "9010 2012-08-17 19:00:00       3        0           1        2  30.34  12.12   \n",
              "9011 2012-08-17 20:00:00       3        0           1        2  29.52  12.12   \n",
              "9012 2012-08-17 21:00:00       3        0           1        2  27.88  12.12   \n",
              "9013 2012-08-17 22:00:00       3        0           1        3  27.06  12.12   \n",
              "9014 2012-08-17 23:00:00       3        0           1        3  26.24  12.12   \n",
              "\n",
              "      humidity  windspeed  casual  registered  count  year  month  day  hour  \\\n",
              "8991        57    11.0014      21          67     88  2012      8   17     0   \n",
              "8992        65     7.0015      16          38     54  2012      8   17     1   \n",
              "8993        61     8.9981       4          15     19  2012      8   17     2   \n",
              "8994        65     7.0015       0           6      6  2012      8   17     3   \n",
              "8995        73    11.0014       0           9      9  2012      8   17     4   \n",
              "8996        73     7.0015       2          34     36  2012      8   17     5   \n",
              "8997        78     8.9981       6         151    157  2012      8   17     6   \n",
              "8998        73     7.0015      11         368    379  2012      8   17     7   \n",
              "8999        65     8.9981      43         625    668  2012      8   17     8   \n",
              "9000        58     7.0015      58         320    378  2012      8   17     9   \n",
              "9001        55    11.0014      82         149    231  2012      8   17    10   \n",
              "9002        52    19.0012      98         205    303  2012      8   17    11   \n",
              "9003        41    15.0013     110         255    365  2012      8   17    12   \n",
              "9004        36    26.0027     103         254    357  2012      8   17    13   \n",
              "9005        34    27.9993     128         200    328  2012      8   17    14   \n",
              "9006        30    31.0009     127         256    383  2012      8   17    15   \n",
              "9007        32    30.0026     116         372    488  2012      8   17    16   \n",
              "9008        36    22.0028     144         647    791  2012      8   17    17   \n",
              "9009        38    16.9979     108         561    669  2012      8   17    18   \n",
              "9010        55    26.0027      88         403    491  2012      8   17    19   \n",
              "9011        58    15.0013      97         262    359  2012      8   17    20   \n",
              "9012        69    19.9995      57         198    255  2012      8   17    21   \n",
              "9013        83    12.9980      43         170    213  2012      8   17    22   \n",
              "9014        83    15.0013      21         100    121  2012      8   17    23   \n",
              "\n",
              "      minute  second  \n",
              "8991       0       0  \n",
              "8992       0       0  \n",
              "8993       0       0  \n",
              "8994       0       0  \n",
              "8995       0       0  \n",
              "8996       0       0  \n",
              "8997       0       0  \n",
              "8998       0       0  \n",
              "8999       0       0  \n",
              "9000       0       0  \n",
              "9001       0       0  \n",
              "9002       0       0  \n",
              "9003       0       0  \n",
              "9004       0       0  \n",
              "9005       0       0  \n",
              "9006       0       0  \n",
              "9007       0       0  \n",
              "9008       0       0  \n",
              "9009       0       0  \n",
              "9010       0       0  \n",
              "9011       0       0  \n",
              "9012       0       0  \n",
              "9013       0       0  \n",
              "9014       0       0  "
            ],
            "text/html": [
              "\n",
              "  <div id=\"df-8b3e0131-21f5-433e-b3e5-b8c96c5b4739\">\n",
              "    <div class=\"colab-df-container\">\n",
              "      <div>\n",
              "<style scoped>\n",
              "    .dataframe tbody tr th:only-of-type {\n",
              "        vertical-align: middle;\n",
              "    }\n",
              "\n",
              "    .dataframe tbody tr th {\n",
              "        vertical-align: top;\n",
              "    }\n",
              "\n",
              "    .dataframe thead th {\n",
              "        text-align: right;\n",
              "    }\n",
              "</style>\n",
              "<table border=\"1\" class=\"dataframe\">\n",
              "  <thead>\n",
              "    <tr style=\"text-align: right;\">\n",
              "      <th></th>\n",
              "      <th>datetime</th>\n",
              "      <th>season</th>\n",
              "      <th>holiday</th>\n",
              "      <th>workingday</th>\n",
              "      <th>weather</th>\n",
              "      <th>temp</th>\n",
              "      <th>atemp</th>\n",
              "      <th>humidity</th>\n",
              "      <th>windspeed</th>\n",
              "      <th>casual</th>\n",
              "      <th>registered</th>\n",
              "      <th>count</th>\n",
              "      <th>year</th>\n",
              "      <th>month</th>\n",
              "      <th>day</th>\n",
              "      <th>hour</th>\n",
              "      <th>minute</th>\n",
              "      <th>second</th>\n",
              "    </tr>\n",
              "  </thead>\n",
              "  <tbody>\n",
              "    <tr>\n",
              "      <th>8991</th>\n",
              "      <td>2012-08-17 00:00:00</td>\n",
              "      <td>3</td>\n",
              "      <td>0</td>\n",
              "      <td>1</td>\n",
              "      <td>1</td>\n",
              "      <td>27.88</td>\n",
              "      <td>12.12</td>\n",
              "      <td>57</td>\n",
              "      <td>11.0014</td>\n",
              "      <td>21</td>\n",
              "      <td>67</td>\n",
              "      <td>88</td>\n",
              "      <td>2012</td>\n",
              "      <td>8</td>\n",
              "      <td>17</td>\n",
              "      <td>0</td>\n",
              "      <td>0</td>\n",
              "      <td>0</td>\n",
              "    </tr>\n",
              "    <tr>\n",
              "      <th>8992</th>\n",
              "      <td>2012-08-17 01:00:00</td>\n",
              "      <td>3</td>\n",
              "      <td>0</td>\n",
              "      <td>1</td>\n",
              "      <td>1</td>\n",
              "      <td>27.06</td>\n",
              "      <td>12.12</td>\n",
              "      <td>65</td>\n",
              "      <td>7.0015</td>\n",
              "      <td>16</td>\n",
              "      <td>38</td>\n",
              "      <td>54</td>\n",
              "      <td>2012</td>\n",
              "      <td>8</td>\n",
              "      <td>17</td>\n",
              "      <td>1</td>\n",
              "      <td>0</td>\n",
              "      <td>0</td>\n",
              "    </tr>\n",
              "    <tr>\n",
              "      <th>8993</th>\n",
              "      <td>2012-08-17 02:00:00</td>\n",
              "      <td>3</td>\n",
              "      <td>0</td>\n",
              "      <td>1</td>\n",
              "      <td>1</td>\n",
              "      <td>27.06</td>\n",
              "      <td>12.12</td>\n",
              "      <td>61</td>\n",
              "      <td>8.9981</td>\n",
              "      <td>4</td>\n",
              "      <td>15</td>\n",
              "      <td>19</td>\n",
              "      <td>2012</td>\n",
              "      <td>8</td>\n",
              "      <td>17</td>\n",
              "      <td>2</td>\n",
              "      <td>0</td>\n",
              "      <td>0</td>\n",
              "    </tr>\n",
              "    <tr>\n",
              "      <th>8994</th>\n",
              "      <td>2012-08-17 03:00:00</td>\n",
              "      <td>3</td>\n",
              "      <td>0</td>\n",
              "      <td>1</td>\n",
              "      <td>1</td>\n",
              "      <td>26.24</td>\n",
              "      <td>12.12</td>\n",
              "      <td>65</td>\n",
              "      <td>7.0015</td>\n",
              "      <td>0</td>\n",
              "      <td>6</td>\n",
              "      <td>6</td>\n",
              "      <td>2012</td>\n",
              "      <td>8</td>\n",
              "      <td>17</td>\n",
              "      <td>3</td>\n",
              "      <td>0</td>\n",
              "      <td>0</td>\n",
              "    </tr>\n",
              "    <tr>\n",
              "      <th>8995</th>\n",
              "      <td>2012-08-17 04:00:00</td>\n",
              "      <td>3</td>\n",
              "      <td>0</td>\n",
              "      <td>1</td>\n",
              "      <td>1</td>\n",
              "      <td>26.24</td>\n",
              "      <td>12.12</td>\n",
              "      <td>73</td>\n",
              "      <td>11.0014</td>\n",
              "      <td>0</td>\n",
              "      <td>9</td>\n",
              "      <td>9</td>\n",
              "      <td>2012</td>\n",
              "      <td>8</td>\n",
              "      <td>17</td>\n",
              "      <td>4</td>\n",
              "      <td>0</td>\n",
              "      <td>0</td>\n",
              "    </tr>\n",
              "    <tr>\n",
              "      <th>8996</th>\n",
              "      <td>2012-08-17 05:00:00</td>\n",
              "      <td>3</td>\n",
              "      <td>0</td>\n",
              "      <td>1</td>\n",
              "      <td>1</td>\n",
              "      <td>26.24</td>\n",
              "      <td>12.12</td>\n",
              "      <td>73</td>\n",
              "      <td>7.0015</td>\n",
              "      <td>2</td>\n",
              "      <td>34</td>\n",
              "      <td>36</td>\n",
              "      <td>2012</td>\n",
              "      <td>8</td>\n",
              "      <td>17</td>\n",
              "      <td>5</td>\n",
              "      <td>0</td>\n",
              "      <td>0</td>\n",
              "    </tr>\n",
              "    <tr>\n",
              "      <th>8997</th>\n",
              "      <td>2012-08-17 06:00:00</td>\n",
              "      <td>3</td>\n",
              "      <td>0</td>\n",
              "      <td>1</td>\n",
              "      <td>1</td>\n",
              "      <td>25.42</td>\n",
              "      <td>12.12</td>\n",
              "      <td>78</td>\n",
              "      <td>8.9981</td>\n",
              "      <td>6</td>\n",
              "      <td>151</td>\n",
              "      <td>157</td>\n",
              "      <td>2012</td>\n",
              "      <td>8</td>\n",
              "      <td>17</td>\n",
              "      <td>6</td>\n",
              "      <td>0</td>\n",
              "      <td>0</td>\n",
              "    </tr>\n",
              "    <tr>\n",
              "      <th>8998</th>\n",
              "      <td>2012-08-17 07:00:00</td>\n",
              "      <td>3</td>\n",
              "      <td>0</td>\n",
              "      <td>1</td>\n",
              "      <td>1</td>\n",
              "      <td>26.24</td>\n",
              "      <td>12.12</td>\n",
              "      <td>73</td>\n",
              "      <td>7.0015</td>\n",
              "      <td>11</td>\n",
              "      <td>368</td>\n",
              "      <td>379</td>\n",
              "      <td>2012</td>\n",
              "      <td>8</td>\n",
              "      <td>17</td>\n",
              "      <td>7</td>\n",
              "      <td>0</td>\n",
              "      <td>0</td>\n",
              "    </tr>\n",
              "    <tr>\n",
              "      <th>8999</th>\n",
              "      <td>2012-08-17 08:00:00</td>\n",
              "      <td>3</td>\n",
              "      <td>0</td>\n",
              "      <td>1</td>\n",
              "      <td>1</td>\n",
              "      <td>27.88</td>\n",
              "      <td>12.12</td>\n",
              "      <td>65</td>\n",
              "      <td>8.9981</td>\n",
              "      <td>43</td>\n",
              "      <td>625</td>\n",
              "      <td>668</td>\n",
              "      <td>2012</td>\n",
              "      <td>8</td>\n",
              "      <td>17</td>\n",
              "      <td>8</td>\n",
              "      <td>0</td>\n",
              "      <td>0</td>\n",
              "    </tr>\n",
              "    <tr>\n",
              "      <th>9000</th>\n",
              "      <td>2012-08-17 09:00:00</td>\n",
              "      <td>3</td>\n",
              "      <td>0</td>\n",
              "      <td>1</td>\n",
              "      <td>1</td>\n",
              "      <td>28.70</td>\n",
              "      <td>12.12</td>\n",
              "      <td>58</td>\n",
              "      <td>7.0015</td>\n",
              "      <td>58</td>\n",
              "      <td>320</td>\n",
              "      <td>378</td>\n",
              "      <td>2012</td>\n",
              "      <td>8</td>\n",
              "      <td>17</td>\n",
              "      <td>9</td>\n",
              "      <td>0</td>\n",
              "      <td>0</td>\n",
              "    </tr>\n",
              "    <tr>\n",
              "      <th>9001</th>\n",
              "      <td>2012-08-17 10:00:00</td>\n",
              "      <td>3</td>\n",
              "      <td>0</td>\n",
              "      <td>1</td>\n",
              "      <td>1</td>\n",
              "      <td>30.34</td>\n",
              "      <td>12.12</td>\n",
              "      <td>55</td>\n",
              "      <td>11.0014</td>\n",
              "      <td>82</td>\n",
              "      <td>149</td>\n",
              "      <td>231</td>\n",
              "      <td>2012</td>\n",
              "      <td>8</td>\n",
              "      <td>17</td>\n",
              "      <td>10</td>\n",
              "      <td>0</td>\n",
              "      <td>0</td>\n",
              "    </tr>\n",
              "    <tr>\n",
              "      <th>9002</th>\n",
              "      <td>2012-08-17 11:00:00</td>\n",
              "      <td>3</td>\n",
              "      <td>0</td>\n",
              "      <td>1</td>\n",
              "      <td>1</td>\n",
              "      <td>31.16</td>\n",
              "      <td>12.12</td>\n",
              "      <td>52</td>\n",
              "      <td>19.0012</td>\n",
              "      <td>98</td>\n",
              "      <td>205</td>\n",
              "      <td>303</td>\n",
              "      <td>2012</td>\n",
              "      <td>8</td>\n",
              "      <td>17</td>\n",
              "      <td>11</td>\n",
              "      <td>0</td>\n",
              "      <td>0</td>\n",
              "    </tr>\n",
              "    <tr>\n",
              "      <th>9003</th>\n",
              "      <td>2012-08-17 12:00:00</td>\n",
              "      <td>3</td>\n",
              "      <td>0</td>\n",
              "      <td>1</td>\n",
              "      <td>1</td>\n",
              "      <td>33.62</td>\n",
              "      <td>12.12</td>\n",
              "      <td>41</td>\n",
              "      <td>15.0013</td>\n",
              "      <td>110</td>\n",
              "      <td>255</td>\n",
              "      <td>365</td>\n",
              "      <td>2012</td>\n",
              "      <td>8</td>\n",
              "      <td>17</td>\n",
              "      <td>12</td>\n",
              "      <td>0</td>\n",
              "      <td>0</td>\n",
              "    </tr>\n",
              "    <tr>\n",
              "      <th>9004</th>\n",
              "      <td>2012-08-17 13:00:00</td>\n",
              "      <td>3</td>\n",
              "      <td>0</td>\n",
              "      <td>1</td>\n",
              "      <td>1</td>\n",
              "      <td>34.44</td>\n",
              "      <td>12.12</td>\n",
              "      <td>36</td>\n",
              "      <td>26.0027</td>\n",
              "      <td>103</td>\n",
              "      <td>254</td>\n",
              "      <td>357</td>\n",
              "      <td>2012</td>\n",
              "      <td>8</td>\n",
              "      <td>17</td>\n",
              "      <td>13</td>\n",
              "      <td>0</td>\n",
              "      <td>0</td>\n",
              "    </tr>\n",
              "    <tr>\n",
              "      <th>9005</th>\n",
              "      <td>2012-08-17 14:00:00</td>\n",
              "      <td>3</td>\n",
              "      <td>0</td>\n",
              "      <td>1</td>\n",
              "      <td>1</td>\n",
              "      <td>35.26</td>\n",
              "      <td>12.12</td>\n",
              "      <td>34</td>\n",
              "      <td>27.9993</td>\n",
              "      <td>128</td>\n",
              "      <td>200</td>\n",
              "      <td>328</td>\n",
              "      <td>2012</td>\n",
              "      <td>8</td>\n",
              "      <td>17</td>\n",
              "      <td>14</td>\n",
              "      <td>0</td>\n",
              "      <td>0</td>\n",
              "    </tr>\n",
              "    <tr>\n",
              "      <th>9006</th>\n",
              "      <td>2012-08-17 15:00:00</td>\n",
              "      <td>3</td>\n",
              "      <td>0</td>\n",
              "      <td>1</td>\n",
              "      <td>1</td>\n",
              "      <td>35.26</td>\n",
              "      <td>12.12</td>\n",
              "      <td>30</td>\n",
              "      <td>31.0009</td>\n",
              "      <td>127</td>\n",
              "      <td>256</td>\n",
              "      <td>383</td>\n",
              "      <td>2012</td>\n",
              "      <td>8</td>\n",
              "      <td>17</td>\n",
              "      <td>15</td>\n",
              "      <td>0</td>\n",
              "      <td>0</td>\n",
              "    </tr>\n",
              "    <tr>\n",
              "      <th>9007</th>\n",
              "      <td>2012-08-17 16:00:00</td>\n",
              "      <td>3</td>\n",
              "      <td>0</td>\n",
              "      <td>1</td>\n",
              "      <td>2</td>\n",
              "      <td>34.44</td>\n",
              "      <td>12.12</td>\n",
              "      <td>32</td>\n",
              "      <td>30.0026</td>\n",
              "      <td>116</td>\n",
              "      <td>372</td>\n",
              "      <td>488</td>\n",
              "      <td>2012</td>\n",
              "      <td>8</td>\n",
              "      <td>17</td>\n",
              "      <td>16</td>\n",
              "      <td>0</td>\n",
              "      <td>0</td>\n",
              "    </tr>\n",
              "    <tr>\n",
              "      <th>9008</th>\n",
              "      <td>2012-08-17 17:00:00</td>\n",
              "      <td>3</td>\n",
              "      <td>0</td>\n",
              "      <td>1</td>\n",
              "      <td>1</td>\n",
              "      <td>33.62</td>\n",
              "      <td>12.12</td>\n",
              "      <td>36</td>\n",
              "      <td>22.0028</td>\n",
              "      <td>144</td>\n",
              "      <td>647</td>\n",
              "      <td>791</td>\n",
              "      <td>2012</td>\n",
              "      <td>8</td>\n",
              "      <td>17</td>\n",
              "      <td>17</td>\n",
              "      <td>0</td>\n",
              "      <td>0</td>\n",
              "    </tr>\n",
              "    <tr>\n",
              "      <th>9009</th>\n",
              "      <td>2012-08-17 18:00:00</td>\n",
              "      <td>3</td>\n",
              "      <td>0</td>\n",
              "      <td>1</td>\n",
              "      <td>2</td>\n",
              "      <td>33.62</td>\n",
              "      <td>12.12</td>\n",
              "      <td>38</td>\n",
              "      <td>16.9979</td>\n",
              "      <td>108</td>\n",
              "      <td>561</td>\n",
              "      <td>669</td>\n",
              "      <td>2012</td>\n",
              "      <td>8</td>\n",
              "      <td>17</td>\n",
              "      <td>18</td>\n",
              "      <td>0</td>\n",
              "      <td>0</td>\n",
              "    </tr>\n",
              "    <tr>\n",
              "      <th>9010</th>\n",
              "      <td>2012-08-17 19:00:00</td>\n",
              "      <td>3</td>\n",
              "      <td>0</td>\n",
              "      <td>1</td>\n",
              "      <td>2</td>\n",
              "      <td>30.34</td>\n",
              "      <td>12.12</td>\n",
              "      <td>55</td>\n",
              "      <td>26.0027</td>\n",
              "      <td>88</td>\n",
              "      <td>403</td>\n",
              "      <td>491</td>\n",
              "      <td>2012</td>\n",
              "      <td>8</td>\n",
              "      <td>17</td>\n",
              "      <td>19</td>\n",
              "      <td>0</td>\n",
              "      <td>0</td>\n",
              "    </tr>\n",
              "    <tr>\n",
              "      <th>9011</th>\n",
              "      <td>2012-08-17 20:00:00</td>\n",
              "      <td>3</td>\n",
              "      <td>0</td>\n",
              "      <td>1</td>\n",
              "      <td>2</td>\n",
              "      <td>29.52</td>\n",
              "      <td>12.12</td>\n",
              "      <td>58</td>\n",
              "      <td>15.0013</td>\n",
              "      <td>97</td>\n",
              "      <td>262</td>\n",
              "      <td>359</td>\n",
              "      <td>2012</td>\n",
              "      <td>8</td>\n",
              "      <td>17</td>\n",
              "      <td>20</td>\n",
              "      <td>0</td>\n",
              "      <td>0</td>\n",
              "    </tr>\n",
              "    <tr>\n",
              "      <th>9012</th>\n",
              "      <td>2012-08-17 21:00:00</td>\n",
              "      <td>3</td>\n",
              "      <td>0</td>\n",
              "      <td>1</td>\n",
              "      <td>2</td>\n",
              "      <td>27.88</td>\n",
              "      <td>12.12</td>\n",
              "      <td>69</td>\n",
              "      <td>19.9995</td>\n",
              "      <td>57</td>\n",
              "      <td>198</td>\n",
              "      <td>255</td>\n",
              "      <td>2012</td>\n",
              "      <td>8</td>\n",
              "      <td>17</td>\n",
              "      <td>21</td>\n",
              "      <td>0</td>\n",
              "      <td>0</td>\n",
              "    </tr>\n",
              "    <tr>\n",
              "      <th>9013</th>\n",
              "      <td>2012-08-17 22:00:00</td>\n",
              "      <td>3</td>\n",
              "      <td>0</td>\n",
              "      <td>1</td>\n",
              "      <td>3</td>\n",
              "      <td>27.06</td>\n",
              "      <td>12.12</td>\n",
              "      <td>83</td>\n",
              "      <td>12.9980</td>\n",
              "      <td>43</td>\n",
              "      <td>170</td>\n",
              "      <td>213</td>\n",
              "      <td>2012</td>\n",
              "      <td>8</td>\n",
              "      <td>17</td>\n",
              "      <td>22</td>\n",
              "      <td>0</td>\n",
              "      <td>0</td>\n",
              "    </tr>\n",
              "    <tr>\n",
              "      <th>9014</th>\n",
              "      <td>2012-08-17 23:00:00</td>\n",
              "      <td>3</td>\n",
              "      <td>0</td>\n",
              "      <td>1</td>\n",
              "      <td>3</td>\n",
              "      <td>26.24</td>\n",
              "      <td>12.12</td>\n",
              "      <td>83</td>\n",
              "      <td>15.0013</td>\n",
              "      <td>21</td>\n",
              "      <td>100</td>\n",
              "      <td>121</td>\n",
              "      <td>2012</td>\n",
              "      <td>8</td>\n",
              "      <td>17</td>\n",
              "      <td>23</td>\n",
              "      <td>0</td>\n",
              "      <td>0</td>\n",
              "    </tr>\n",
              "  </tbody>\n",
              "</table>\n",
              "</div>\n",
              "      <button class=\"colab-df-convert\" onclick=\"convertToInteractive('df-8b3e0131-21f5-433e-b3e5-b8c96c5b4739')\"\n",
              "              title=\"Convert this dataframe to an interactive table.\"\n",
              "              style=\"display:none;\">\n",
              "        \n",
              "  <svg xmlns=\"http://www.w3.org/2000/svg\" height=\"24px\"viewBox=\"0 0 24 24\"\n",
              "       width=\"24px\">\n",
              "    <path d=\"M0 0h24v24H0V0z\" fill=\"none\"/>\n",
              "    <path d=\"M18.56 5.44l.94 2.06.94-2.06 2.06-.94-2.06-.94-.94-2.06-.94 2.06-2.06.94zm-11 1L8.5 8.5l.94-2.06 2.06-.94-2.06-.94L8.5 2.5l-.94 2.06-2.06.94zm10 10l.94 2.06.94-2.06 2.06-.94-2.06-.94-.94-2.06-.94 2.06-2.06.94z\"/><path d=\"M17.41 7.96l-1.37-1.37c-.4-.4-.92-.59-1.43-.59-.52 0-1.04.2-1.43.59L10.3 9.45l-7.72 7.72c-.78.78-.78 2.05 0 2.83L4 21.41c.39.39.9.59 1.41.59.51 0 1.02-.2 1.41-.59l7.78-7.78 2.81-2.81c.8-.78.8-2.07 0-2.86zM5.41 20L4 18.59l7.72-7.72 1.47 1.35L5.41 20z\"/>\n",
              "  </svg>\n",
              "      </button>\n",
              "      \n",
              "  <style>\n",
              "    .colab-df-container {\n",
              "      display:flex;\n",
              "      flex-wrap:wrap;\n",
              "      gap: 12px;\n",
              "    }\n",
              "\n",
              "    .colab-df-convert {\n",
              "      background-color: #E8F0FE;\n",
              "      border: none;\n",
              "      border-radius: 50%;\n",
              "      cursor: pointer;\n",
              "      display: none;\n",
              "      fill: #1967D2;\n",
              "      height: 32px;\n",
              "      padding: 0 0 0 0;\n",
              "      width: 32px;\n",
              "    }\n",
              "\n",
              "    .colab-df-convert:hover {\n",
              "      background-color: #E2EBFA;\n",
              "      box-shadow: 0px 1px 2px rgba(60, 64, 67, 0.3), 0px 1px 3px 1px rgba(60, 64, 67, 0.15);\n",
              "      fill: #174EA6;\n",
              "    }\n",
              "\n",
              "    [theme=dark] .colab-df-convert {\n",
              "      background-color: #3B4455;\n",
              "      fill: #D2E3FC;\n",
              "    }\n",
              "\n",
              "    [theme=dark] .colab-df-convert:hover {\n",
              "      background-color: #434B5C;\n",
              "      box-shadow: 0px 1px 3px 1px rgba(0, 0, 0, 0.15);\n",
              "      filter: drop-shadow(0px 1px 2px rgba(0, 0, 0, 0.3));\n",
              "      fill: #FFFFFF;\n",
              "    }\n",
              "  </style>\n",
              "\n",
              "      <script>\n",
              "        const buttonEl =\n",
              "          document.querySelector('#df-8b3e0131-21f5-433e-b3e5-b8c96c5b4739 button.colab-df-convert');\n",
              "        buttonEl.style.display =\n",
              "          google.colab.kernel.accessAllowed ? 'block' : 'none';\n",
              "\n",
              "        async function convertToInteractive(key) {\n",
              "          const element = document.querySelector('#df-8b3e0131-21f5-433e-b3e5-b8c96c5b4739');\n",
              "          const dataTable =\n",
              "            await google.colab.kernel.invokeFunction('convertToInteractive',\n",
              "                                                     [key], {});\n",
              "          if (!dataTable) return;\n",
              "\n",
              "          const docLinkHtml = 'Like what you see? Visit the ' +\n",
              "            '<a target=\"_blank\" href=https://colab.research.google.com/notebooks/data_table.ipynb>data table notebook</a>'\n",
              "            + ' to learn more about interactive tables.';\n",
              "          element.innerHTML = '';\n",
              "          dataTable['output_type'] = 'display_data';\n",
              "          await google.colab.output.renderOutput(dataTable, element);\n",
              "          const docLink = document.createElement('div');\n",
              "          docLink.innerHTML = docLinkHtml;\n",
              "          element.appendChild(docLink);\n",
              "        }\n",
              "      </script>\n",
              "    </div>\n",
              "  </div>\n",
              "  "
            ]
          },
          "metadata": {},
          "execution_count": 20
        }
      ],
      "source": [
        "train[(train[\"temp\"] > 20) & (train[\"temp\"] < 40) & (train[\"atemp\"] < 15)]"
      ]
    },
    {
      "cell_type": "code",
      "execution_count": 21,
      "metadata": {
        "colab": {
          "base_uri": "https://localhost:8080/",
          "height": 0
        },
        "id": "hUCknBfl12J1",
        "outputId": "b23a14ad-caca-4bde-b02c-8761797f286c"
      },
      "outputs": [
        {
          "output_type": "execute_result",
          "data": {
            "text/plain": [
              "<matplotlib.axes._subplots.AxesSubplot at 0x7fef4d6b9e80>"
            ]
          },
          "metadata": {},
          "execution_count": 21
        },
        {
          "output_type": "display_data",
          "data": {
            "text/plain": [
              "<Figure size 432x288 with 1 Axes>"
            ],
            "image/png": "[encoded data removed]"
          },
          "metadata": {
            "needs_background": "light"
          }
        }
      ],
      "source": [
        "# 날씨에 따른 평균 자전거 대여수 \n",
        "sns.barplot(data=train, x=\"weather\", y=\"count\")"
      ]
    },
    {
      "cell_type": "code",
      "execution_count": 22,
      "metadata": {
        "scrolled": true,
        "colab": {
          "base_uri": "https://localhost:8080/",
          "height": 0
        },
        "id": "lGjq4nrV12J1",
        "outputId": "e4d1b736-2019-4495-d4ac-d527426ce5c4"
      },
      "outputs": [
        {
          "output_type": "execute_result",
          "data": {
            "text/plain": [
              "                datetime  season  holiday  workingday  weather  temp   atemp  \\\n",
              "5631 2012-01-09 18:00:00       1        0           1        4   8.2  11.365   \n",
              "\n",
              "      humidity  windspeed  casual  registered  count  year  month  day  hour  \\\n",
              "5631        86     6.0032       6         158    164  2012      1    9    18   \n",
              "\n",
              "      minute  second  \n",
              "5631       0       0  "
            ],
            "text/html": [
              "\n",
              "  <div id=\"df-f8f9d810-6777-4a4c-a61f-56c9829b5d10\">\n",
              "    <div class=\"colab-df-container\">\n",
              "      <div>\n",
              "<style scoped>\n",
              "    .dataframe tbody tr th:only-of-type {\n",
              "        vertical-align: middle;\n",
              "    }\n",
              "\n",
              "    .dataframe tbody tr th {\n",
              "        vertical-align: top;\n",
              "    }\n",
              "\n",
              "    .dataframe thead th {\n",
              "        text-align: right;\n",
              "    }\n",
              "</style>\n",
              "<table border=\"1\" class=\"dataframe\">\n",
              "  <thead>\n",
              "    <tr style=\"text-align: right;\">\n",
              "      <th></th>\n",
              "      <th>datetime</th>\n",
              "      <th>season</th>\n",
              "      <th>holiday</th>\n",
              "      <th>workingday</th>\n",
              "      <th>weather</th>\n",
              "      <th>temp</th>\n",
              "      <th>atemp</th>\n",
              "      <th>humidity</th>\n",
              "      <th>windspeed</th>\n",
              "      <th>casual</th>\n",
              "      <th>registered</th>\n",
              "      <th>count</th>\n",
              "      <th>year</th>\n",
              "      <th>month</th>\n",
              "      <th>day</th>\n",
              "      <th>hour</th>\n",
              "      <th>minute</th>\n",
              "      <th>second</th>\n",
              "    </tr>\n",
              "  </thead>\n",
              "  <tbody>\n",
              "    <tr>\n",
              "      <th>5631</th>\n",
              "      <td>2012-01-09 18:00:00</td>\n",
              "      <td>1</td>\n",
              "      <td>0</td>\n",
              "      <td>1</td>\n",
              "      <td>4</td>\n",
              "      <td>8.2</td>\n",
              "      <td>11.365</td>\n",
              "      <td>86</td>\n",
              "      <td>6.0032</td>\n",
              "      <td>6</td>\n",
              "      <td>158</td>\n",
              "      <td>164</td>\n",
              "      <td>2012</td>\n",
              "      <td>1</td>\n",
              "      <td>9</td>\n",
              "      <td>18</td>\n",
              "      <td>0</td>\n",
              "      <td>0</td>\n",
              "    </tr>\n",
              "  </tbody>\n",
              "</table>\n",
              "</div>\n",
              "      <button class=\"colab-df-convert\" onclick=\"convertToInteractive('df-f8f9d810-6777-4a4c-a61f-56c9829b5d10')\"\n",
              "              title=\"Convert this dataframe to an interactive table.\"\n",
              "              style=\"display:none;\">\n",
              "        \n",
              "  <svg xmlns=\"http://www.w3.org/2000/svg\" height=\"24px\"viewBox=\"0 0 24 24\"\n",
              "       width=\"24px\">\n",
              "    <path d=\"M0 0h24v24H0V0z\" fill=\"none\"/>\n",
              "    <path d=\"M18.56 5.44l.94 2.06.94-2.06 2.06-.94-2.06-.94-.94-2.06-.94 2.06-2.06.94zm-11 1L8.5 8.5l.94-2.06 2.06-.94-2.06-.94L8.5 2.5l-.94 2.06-2.06.94zm10 10l.94 2.06.94-2.06 2.06-.94-2.06-.94-.94-2.06-.94 2.06-2.06.94z\"/><path d=\"M17.41 7.96l-1.37-1.37c-.4-.4-.92-.59-1.43-.59-.52 0-1.04.2-1.43.59L10.3 9.45l-7.72 7.72c-.78.78-.78 2.05 0 2.83L4 21.41c.39.39.9.59 1.41.59.51 0 1.02-.2 1.41-.59l7.78-7.78 2.81-2.81c.8-.78.8-2.07 0-2.86zM5.41 20L4 18.59l7.72-7.72 1.47 1.35L5.41 20z\"/>\n",
              "  </svg>\n",
              "      </button>\n",
              "      \n",
              "  <style>\n",
              "    .colab-df-container {\n",
              "      display:flex;\n",
              "      flex-wrap:wrap;\n",
              "      gap: 12px;\n",
              "    }\n",
              "\n",
              "    .colab-df-convert {\n",
              "      background-color: #E8F0FE;\n",
              "      border: none;\n",
              "      border-radius: 50%;\n",
              "      cursor: pointer;\n",
              "      display: none;\n",
              "      fill: #1967D2;\n",
              "      height: 32px;\n",
              "      padding: 0 0 0 0;\n",
              "      width: 32px;\n",
              "    }\n",
              "\n",
              "    .colab-df-convert:hover {\n",
              "      background-color: #E2EBFA;\n",
              "      box-shadow: 0px 1px 2px rgba(60, 64, 67, 0.3), 0px 1px 3px 1px rgba(60, 64, 67, 0.15);\n",
              "      fill: #174EA6;\n",
              "    }\n",
              "\n",
              "    [theme=dark] .colab-df-convert {\n",
              "      background-color: #3B4455;\n",
              "      fill: #D2E3FC;\n",
              "    }\n",
              "\n",
              "    [theme=dark] .colab-df-convert:hover {\n",
              "      background-color: #434B5C;\n",
              "      box-shadow: 0px 1px 3px 1px rgba(0, 0, 0, 0.15);\n",
              "      filter: drop-shadow(0px 1px 2px rgba(0, 0, 0, 0.3));\n",
              "      fill: #FFFFFF;\n",
              "    }\n",
              "  </style>\n",
              "\n",
              "      <script>\n",
              "        const buttonEl =\n",
              "          document.querySelector('#df-f8f9d810-6777-4a4c-a61f-56c9829b5d10 button.colab-df-convert');\n",
              "        buttonEl.style.display =\n",
              "          google.colab.kernel.accessAllowed ? 'block' : 'none';\n",
              "\n",
              "        async function convertToInteractive(key) {\n",
              "          const element = document.querySelector('#df-f8f9d810-6777-4a4c-a61f-56c9829b5d10');\n",
              "          const dataTable =\n",
              "            await google.colab.kernel.invokeFunction('convertToInteractive',\n",
              "                                                     [key], {});\n",
              "          if (!dataTable) return;\n",
              "\n",
              "          const docLinkHtml = 'Like what you see? Visit the ' +\n",
              "            '<a target=\"_blank\" href=https://colab.research.google.com/notebooks/data_table.ipynb>data table notebook</a>'\n",
              "            + ' to learn more about interactive tables.';\n",
              "          element.innerHTML = '';\n",
              "          dataTable['output_type'] = 'display_data';\n",
              "          await google.colab.output.renderOutput(dataTable, element);\n",
              "          const docLink = document.createElement('div');\n",
              "          docLink.innerHTML = docLinkHtml;\n",
              "          element.appendChild(docLink);\n",
              "        }\n",
              "      </script>\n",
              "    </div>\n",
              "  </div>\n",
              "  "
            ]
          },
          "metadata": {},
          "execution_count": 22
        }
      ],
      "source": [
        "# 4폭우와 폭설이 내리는 날이나 시간(4)은 많지 않기 때문에 여기에서도 데이터가 하나 뿐이라서 count 값이 많게 나왔습니다.\n",
        "train[train[\"weather\"] == 4]"
      ]
    },
    {
      "cell_type": "code",
      "execution_count": 23,
      "metadata": {
        "colab": {
          "base_uri": "https://localhost:8080/",
          "height": 0
        },
        "id": "TO6s_bpL12J1",
        "outputId": "1df3f449-849d-4eb7-bdc6-92a966ec7955"
      },
      "outputs": [
        {
          "output_type": "execute_result",
          "data": {
            "text/plain": [
              "                datetime  season  holiday  workingday  weather  temp  atemp  \\\n",
              "154  2011-01-26 16:00:00       1        0           1        4  9.02   9.85   \n",
              "3248 2012-01-21 01:00:00       1        0           0        4  5.74   6.82   \n",
              "\n",
              "      humidity  windspeed  year  month  day  hour  minute  second  \n",
              "154         93    22.0028  2011      1   26    16       0       0  \n",
              "3248        86    12.9980  2012      1   21     1       0       0  "
            ],
            "text/html": [
              "\n",
              "  <div id=\"df-246170b9-74d5-40a3-b84f-47ff815c7e57\">\n",
              "    <div class=\"colab-df-container\">\n",
              "      <div>\n",
              "<style scoped>\n",
              "    .dataframe tbody tr th:only-of-type {\n",
              "        vertical-align: middle;\n",
              "    }\n",
              "\n",
              "    .dataframe tbody tr th {\n",
              "        vertical-align: top;\n",
              "    }\n",
              "\n",
              "    .dataframe thead th {\n",
              "        text-align: right;\n",
              "    }\n",
              "</style>\n",
              "<table border=\"1\" class=\"dataframe\">\n",
              "  <thead>\n",
              "    <tr style=\"text-align: right;\">\n",
              "      <th></th>\n",
              "      <th>datetime</th>\n",
              "      <th>season</th>\n",
              "      <th>holiday</th>\n",
              "      <th>workingday</th>\n",
              "      <th>weather</th>\n",
              "      <th>temp</th>\n",
              "      <th>atemp</th>\n",
              "      <th>humidity</th>\n",
              "      <th>windspeed</th>\n",
              "      <th>year</th>\n",
              "      <th>month</th>\n",
              "      <th>day</th>\n",
              "      <th>hour</th>\n",
              "      <th>minute</th>\n",
              "      <th>second</th>\n",
              "    </tr>\n",
              "  </thead>\n",
              "  <tbody>\n",
              "    <tr>\n",
              "      <th>154</th>\n",
              "      <td>2011-01-26 16:00:00</td>\n",
              "      <td>1</td>\n",
              "      <td>0</td>\n",
              "      <td>1</td>\n",
              "      <td>4</td>\n",
              "      <td>9.02</td>\n",
              "      <td>9.85</td>\n",
              "      <td>93</td>\n",
              "      <td>22.0028</td>\n",
              "      <td>2011</td>\n",
              "      <td>1</td>\n",
              "      <td>26</td>\n",
              "      <td>16</td>\n",
              "      <td>0</td>\n",
              "      <td>0</td>\n",
              "    </tr>\n",
              "    <tr>\n",
              "      <th>3248</th>\n",
              "      <td>2012-01-21 01:00:00</td>\n",
              "      <td>1</td>\n",
              "      <td>0</td>\n",
              "      <td>0</td>\n",
              "      <td>4</td>\n",
              "      <td>5.74</td>\n",
              "      <td>6.82</td>\n",
              "      <td>86</td>\n",
              "      <td>12.9980</td>\n",
              "      <td>2012</td>\n",
              "      <td>1</td>\n",
              "      <td>21</td>\n",
              "      <td>1</td>\n",
              "      <td>0</td>\n",
              "      <td>0</td>\n",
              "    </tr>\n",
              "  </tbody>\n",
              "</table>\n",
              "</div>\n",
              "      <button class=\"colab-df-convert\" onclick=\"convertToInteractive('df-246170b9-74d5-40a3-b84f-47ff815c7e57')\"\n",
              "              title=\"Convert this dataframe to an interactive table.\"\n",
              "              style=\"display:none;\">\n",
              "        \n",
              "  <svg xmlns=\"http://www.w3.org/2000/svg\" height=\"24px\"viewBox=\"0 0 24 24\"\n",
              "       width=\"24px\">\n",
              "    <path d=\"M0 0h24v24H0V0z\" fill=\"none\"/>\n",
              "    <path d=\"M18.56 5.44l.94 2.06.94-2.06 2.06-.94-2.06-.94-.94-2.06-.94 2.06-2.06.94zm-11 1L8.5 8.5l.94-2.06 2.06-.94-2.06-.94L8.5 2.5l-.94 2.06-2.06.94zm10 10l.94 2.06.94-2.06 2.06-.94-2.06-.94-.94-2.06-.94 2.06-2.06.94z\"/><path d=\"M17.41 7.96l-1.37-1.37c-.4-.4-.92-.59-1.43-.59-.52 0-1.04.2-1.43.59L10.3 9.45l-7.72 7.72c-.78.78-.78 2.05 0 2.83L4 21.41c.39.39.9.59 1.41.59.51 0 1.02-.2 1.41-.59l7.78-7.78 2.81-2.81c.8-.78.8-2.07 0-2.86zM5.41 20L4 18.59l7.72-7.72 1.47 1.35L5.41 20z\"/>\n",
              "  </svg>\n",
              "      </button>\n",
              "      \n",
              "  <style>\n",
              "    .colab-df-container {\n",
              "      display:flex;\n",
              "      flex-wrap:wrap;\n",
              "      gap: 12px;\n",
              "    }\n",
              "\n",
              "    .colab-df-convert {\n",
              "      background-color: #E8F0FE;\n",
              "      border: none;\n",
              "      border-radius: 50%;\n",
              "      cursor: pointer;\n",
              "      display: none;\n",
              "      fill: #1967D2;\n",
              "      height: 32px;\n",
              "      padding: 0 0 0 0;\n",
              "      width: 32px;\n",
              "    }\n",
              "\n",
              "    .colab-df-convert:hover {\n",
              "      background-color: #E2EBFA;\n",
              "      box-shadow: 0px 1px 2px rgba(60, 64, 67, 0.3), 0px 1px 3px 1px rgba(60, 64, 67, 0.15);\n",
              "      fill: #174EA6;\n",
              "    }\n",
              "\n",
              "    [theme=dark] .colab-df-convert {\n",
              "      background-color: #3B4455;\n",
              "      fill: #D2E3FC;\n",
              "    }\n",
              "\n",
              "    [theme=dark] .colab-df-convert:hover {\n",
              "      background-color: #434B5C;\n",
              "      box-shadow: 0px 1px 3px 1px rgba(0, 0, 0, 0.15);\n",
              "      filter: drop-shadow(0px 1px 2px rgba(0, 0, 0, 0.3));\n",
              "      fill: #FFFFFF;\n",
              "    }\n",
              "  </style>\n",
              "\n",
              "      <script>\n",
              "        const buttonEl =\n",
              "          document.querySelector('#df-246170b9-74d5-40a3-b84f-47ff815c7e57 button.colab-df-convert');\n",
              "        buttonEl.style.display =\n",
              "          google.colab.kernel.accessAllowed ? 'block' : 'none';\n",
              "\n",
              "        async function convertToInteractive(key) {\n",
              "          const element = document.querySelector('#df-246170b9-74d5-40a3-b84f-47ff815c7e57');\n",
              "          const dataTable =\n",
              "            await google.colab.kernel.invokeFunction('convertToInteractive',\n",
              "                                                     [key], {});\n",
              "          if (!dataTable) return;\n",
              "\n",
              "          const docLinkHtml = 'Like what you see? Visit the ' +\n",
              "            '<a target=\"_blank\" href=https://colab.research.google.com/notebooks/data_table.ipynb>data table notebook</a>'\n",
              "            + ' to learn more about interactive tables.';\n",
              "          element.innerHTML = '';\n",
              "          dataTable['output_type'] = 'display_data';\n",
              "          await google.colab.output.renderOutput(dataTable, element);\n",
              "          const docLink = document.createElement('div');\n",
              "          docLink.innerHTML = docLinkHtml;\n",
              "          element.appendChild(docLink);\n",
              "        }\n",
              "      </script>\n",
              "    </div>\n",
              "  </div>\n",
              "  "
            ]
          },
          "metadata": {},
          "execution_count": 23
        }
      ],
      "source": [
        "test[test[\"weather\"] == 4]"
      ]
    },
    {
      "cell_type": "code",
      "execution_count": 24,
      "metadata": {
        "colab": {
          "base_uri": "https://localhost:8080/",
          "height": 0
        },
        "id": "8SVyAoEA12J1",
        "outputId": "2156a92c-8cf7-4a29-d2b7-f6c06521f1c0"
      },
      "outputs": [
        {
          "output_type": "execute_result",
          "data": {
            "text/plain": [
              "<matplotlib.axes._subplots.AxesSubplot at 0x7fef4d2f9310>"
            ]
          },
          "metadata": {},
          "execution_count": 24
        },
        {
          "output_type": "display_data",
          "data": {
            "text/plain": [
              "<Figure size 432x288 with 1 Axes>"
            ],
            "image/png": "[encoded data removed]"
          },
          "metadata": {
            "needs_background": "light"
          }
        }
      ],
      "source": [
        "# day 는 train과 test 를 나누는 기준입니다. : train은  19일까지만 있고 test 는 20일 이후 데이터가 있습니다.\n",
        "# 1~19일까지 학습한 것을 바탕으로 20일 이후의 데이터를 예측하면 예측이 도움이 되지 않을 수 있습니다.\n",
        "# day는 피처에서 제거하는게 나아보입니다.\n",
        "sns.barplot(data=train, x=\"day\", y=\"count\")"
      ]
    },
    {
      "cell_type": "code",
      "execution_count": 25,
      "metadata": {
        "colab": {
          "base_uri": "https://localhost:8080/",
          "height": 0
        },
        "id": "lrWnDgxm12J1",
        "outputId": "468c644d-3161-449d-8a83-b99a12c7028f"
      },
      "outputs": [
        {
          "output_type": "execute_result",
          "data": {
            "text/plain": [
              "<matplotlib.axes._subplots.AxesSubplot at 0x7fef4d6f07c0>"
            ]
          },
          "metadata": {},
          "execution_count": 25
        },
        {
          "output_type": "display_data",
          "data": {
            "text/plain": [
              "<Figure size 432x288 with 1 Axes>"
            ],
            "image/png": "[encoded data removed]"
          },
          "metadata": {
            "needs_background": "light"
          }
        }
      ],
      "source": [
        "sns.countplot(data=test, x=\"day\")"
      ]
    },
    {
      "cell_type": "code",
      "execution_count": 26,
      "metadata": {
        "colab": {
          "base_uri": "https://localhost:8080/",
          "height": 0
        },
        "id": "9WzKNFwj12J2",
        "outputId": "64a36ff5-e895-407b-c31b-e9d3daf06f36"
      },
      "outputs": [
        {
          "output_type": "execute_result",
          "data": {
            "text/plain": [
              "<matplotlib.axes._subplots.AxesSubplot at 0x7fef4d9243d0>"
            ]
          },
          "metadata": {},
          "execution_count": 26
        },
        {
          "output_type": "display_data",
          "data": {
            "text/plain": [
              "<Figure size 432x288 with 1 Axes>"
            ],
            "image/png": "[encoded data removed]"
          },
          "metadata": {
            "needs_background": "light"
          }
        }
      ],
      "source": [
        "# 월별로 차이가 있어보이고 날씨가 추운 겨울에는 대여량이 적고 5~10월에는 대여량이 많은 것을 알 수 있습니다.\n",
        "sns.barplot(data=train, x=\"month\", y=\"count\")"
      ]
    },
    {
      "cell_type": "code",
      "execution_count": 27,
      "metadata": {
        "colab": {
          "base_uri": "https://localhost:8080/",
          "height": 0
        },
        "id": "viybHj-l12J2",
        "outputId": "f8c4ac6c-6e03-411b-9f1c-34a714d4a042"
      },
      "outputs": [
        {
          "output_type": "execute_result",
          "data": {
            "text/plain": [
              "<matplotlib.axes._subplots.AxesSubplot at 0x7fef4d8c1730>"
            ]
          },
          "metadata": {},
          "execution_count": 27
        },
        {
          "output_type": "display_data",
          "data": {
            "text/plain": [
              "<Figure size 432x288 with 1 Axes>"
            ],
            "image/png": "[encoded data removed]"
          },
          "metadata": {
            "needs_background": "light"
          }
        }
      ],
      "source": [
        "# 2011년과 2012년을 보면 2배까지 차이가 나는 달이 있기도 합니다.\n",
        "# 위 그래프에서는 월을 넣어주는게 더 나아보기는 했지만 연도라는게 2배까지도 차이가 나기 때문에  모델이 예측하는데 도움이 되지 않을 수도 있습니다.\n",
        "sns.barplot(data=train, x=\"month\", y=\"count\", hue=\"year\")"
      ]
    },
    {
      "cell_type": "code",
      "execution_count": 28,
      "metadata": {
        "colab": {
          "base_uri": "https://localhost:8080/",
          "height": 0
        },
        "id": "N4XVlOGD12J2",
        "outputId": "c69ea81a-b3f1-4987-eafc-11cc35c227ad"
      },
      "outputs": [
        {
          "output_type": "execute_result",
          "data": {
            "text/plain": [
              "         count       mean       std   min   25%   50%   75%   max\n",
              "season                                                           \n",
              "1       2686.0   2.006329  0.815331   1.0   1.0   2.0   3.0   3.0\n",
              "2       2733.0   5.001098  0.816421   4.0   4.0   5.0   6.0   6.0\n",
              "3       2733.0   7.998902  0.816421   7.0   7.0   8.0   9.0   9.0\n",
              "4       2734.0  11.000366  0.816721  10.0  10.0  11.0  12.0  12.0"
            ],
            "text/html": [
              "\n",
              "  <div id=\"df-064c90c6-f8a6-4300-b782-bff8eed09e6b\">\n",
              "    <div class=\"colab-df-container\">\n",
              "      <div>\n",
              "<style scoped>\n",
              "    .dataframe tbody tr th:only-of-type {\n",
              "        vertical-align: middle;\n",
              "    }\n",
              "\n",
              "    .dataframe tbody tr th {\n",
              "        vertical-align: top;\n",
              "    }\n",
              "\n",
              "    .dataframe thead th {\n",
              "        text-align: right;\n",
              "    }\n",
              "</style>\n",
              "<table border=\"1\" class=\"dataframe\">\n",
              "  <thead>\n",
              "    <tr style=\"text-align: right;\">\n",
              "      <th></th>\n",
              "      <th>count</th>\n",
              "      <th>mean</th>\n",
              "      <th>std</th>\n",
              "      <th>min</th>\n",
              "      <th>25%</th>\n",
              "      <th>50%</th>\n",
              "      <th>75%</th>\n",
              "      <th>max</th>\n",
              "    </tr>\n",
              "    <tr>\n",
              "      <th>season</th>\n",
              "      <th></th>\n",
              "      <th></th>\n",
              "      <th></th>\n",
              "      <th></th>\n",
              "      <th></th>\n",
              "      <th></th>\n",
              "      <th></th>\n",
              "      <th></th>\n",
              "    </tr>\n",
              "  </thead>\n",
              "  <tbody>\n",
              "    <tr>\n",
              "      <th>1</th>\n",
              "      <td>2686.0</td>\n",
              "      <td>2.006329</td>\n",
              "      <td>0.815331</td>\n",
              "      <td>1.0</td>\n",
              "      <td>1.0</td>\n",
              "      <td>2.0</td>\n",
              "      <td>3.0</td>\n",
              "      <td>3.0</td>\n",
              "    </tr>\n",
              "    <tr>\n",
              "      <th>2</th>\n",
              "      <td>2733.0</td>\n",
              "      <td>5.001098</td>\n",
              "      <td>0.816421</td>\n",
              "      <td>4.0</td>\n",
              "      <td>4.0</td>\n",
              "      <td>5.0</td>\n",
              "      <td>6.0</td>\n",
              "      <td>6.0</td>\n",
              "    </tr>\n",
              "    <tr>\n",
              "      <th>3</th>\n",
              "      <td>2733.0</td>\n",
              "      <td>7.998902</td>\n",
              "      <td>0.816421</td>\n",
              "      <td>7.0</td>\n",
              "      <td>7.0</td>\n",
              "      <td>8.0</td>\n",
              "      <td>9.0</td>\n",
              "      <td>9.0</td>\n",
              "    </tr>\n",
              "    <tr>\n",
              "      <th>4</th>\n",
              "      <td>2734.0</td>\n",
              "      <td>11.000366</td>\n",
              "      <td>0.816721</td>\n",
              "      <td>10.0</td>\n",
              "      <td>10.0</td>\n",
              "      <td>11.0</td>\n",
              "      <td>12.0</td>\n",
              "      <td>12.0</td>\n",
              "    </tr>\n",
              "  </tbody>\n",
              "</table>\n",
              "</div>\n",
              "      <button class=\"colab-df-convert\" onclick=\"convertToInteractive('df-064c90c6-f8a6-4300-b782-bff8eed09e6b')\"\n",
              "              title=\"Convert this dataframe to an interactive table.\"\n",
              "              style=\"display:none;\">\n",
              "        \n",
              "  <svg xmlns=\"http://www.w3.org/2000/svg\" height=\"24px\"viewBox=\"0 0 24 24\"\n",
              "       width=\"24px\">\n",
              "    <path d=\"M0 0h24v24H0V0z\" fill=\"none\"/>\n",
              "    <path d=\"M18.56 5.44l.94 2.06.94-2.06 2.06-.94-2.06-.94-.94-2.06-.94 2.06-2.06.94zm-11 1L8.5 8.5l.94-2.06 2.06-.94-2.06-.94L8.5 2.5l-.94 2.06-2.06.94zm10 10l.94 2.06.94-2.06 2.06-.94-2.06-.94-.94-2.06-.94 2.06-2.06.94z\"/><path d=\"M17.41 7.96l-1.37-1.37c-.4-.4-.92-.59-1.43-.59-.52 0-1.04.2-1.43.59L10.3 9.45l-7.72 7.72c-.78.78-.78 2.05 0 2.83L4 21.41c.39.39.9.59 1.41.59.51 0 1.02-.2 1.41-.59l7.78-7.78 2.81-2.81c.8-.78.8-2.07 0-2.86zM5.41 20L4 18.59l7.72-7.72 1.47 1.35L5.41 20z\"/>\n",
              "  </svg>\n",
              "      </button>\n",
              "      \n",
              "  <style>\n",
              "    .colab-df-container {\n",
              "      display:flex;\n",
              "      flex-wrap:wrap;\n",
              "      gap: 12px;\n",
              "    }\n",
              "\n",
              "    .colab-df-convert {\n",
              "      background-color: #E8F0FE;\n",
              "      border: none;\n",
              "      border-radius: 50%;\n",
              "      cursor: pointer;\n",
              "      display: none;\n",
              "      fill: #1967D2;\n",
              "      height: 32px;\n",
              "      padding: 0 0 0 0;\n",
              "      width: 32px;\n",
              "    }\n",
              "\n",
              "    .colab-df-convert:hover {\n",
              "      background-color: #E2EBFA;\n",
              "      box-shadow: 0px 1px 2px rgba(60, 64, 67, 0.3), 0px 1px 3px 1px rgba(60, 64, 67, 0.15);\n",
              "      fill: #174EA6;\n",
              "    }\n",
              "\n",
              "    [theme=dark] .colab-df-convert {\n",
              "      background-color: #3B4455;\n",
              "      fill: #D2E3FC;\n",
              "    }\n",
              "\n",
              "    [theme=dark] .colab-df-convert:hover {\n",
              "      background-color: #434B5C;\n",
              "      box-shadow: 0px 1px 3px 1px rgba(0, 0, 0, 0.15);\n",
              "      filter: drop-shadow(0px 1px 2px rgba(0, 0, 0, 0.3));\n",
              "      fill: #FFFFFF;\n",
              "    }\n",
              "  </style>\n",
              "\n",
              "      <script>\n",
              "        const buttonEl =\n",
              "          document.querySelector('#df-064c90c6-f8a6-4300-b782-bff8eed09e6b button.colab-df-convert');\n",
              "        buttonEl.style.display =\n",
              "          google.colab.kernel.accessAllowed ? 'block' : 'none';\n",
              "\n",
              "        async function convertToInteractive(key) {\n",
              "          const element = document.querySelector('#df-064c90c6-f8a6-4300-b782-bff8eed09e6b');\n",
              "          const dataTable =\n",
              "            await google.colab.kernel.invokeFunction('convertToInteractive',\n",
              "                                                     [key], {});\n",
              "          if (!dataTable) return;\n",
              "\n",
              "          const docLinkHtml = 'Like what you see? Visit the ' +\n",
              "            '<a target=\"_blank\" href=https://colab.research.google.com/notebooks/data_table.ipynb>data table notebook</a>'\n",
              "            + ' to learn more about interactive tables.';\n",
              "          element.innerHTML = '';\n",
              "          dataTable['output_type'] = 'display_data';\n",
              "          await google.colab.output.renderOutput(dataTable, element);\n",
              "          const docLink = document.createElement('div');\n",
              "          docLink.innerHTML = docLinkHtml;\n",
              "          element.appendChild(docLink);\n",
              "        }\n",
              "      </script>\n",
              "    </div>\n",
              "  </div>\n",
              "  "
            ]
          },
          "metadata": {},
          "execution_count": 28
        }
      ],
      "source": [
        "train.groupby(\"season\")[\"month\"].describe()"
      ]
    },
    {
      "cell_type": "code",
      "execution_count": 29,
      "metadata": {
        "colab": {
          "base_uri": "https://localhost:8080/"
        },
        "id": "ZMVfUPWJ12J2",
        "outputId": "bdd8180a-7893-4db2-dbd4-51f977e8a2a8"
      },
      "outputs": [
        {
          "output_type": "execute_result",
          "data": {
            "text/plain": [
              "season\n",
              "1       [1, 2, 3]\n",
              "2       [4, 5, 6]\n",
              "3       [7, 8, 9]\n",
              "4    [10, 11, 12]\n",
              "Name: month, dtype: object"
            ]
          },
          "metadata": {},
          "execution_count": 29
        }
      ],
      "source": [
        "train.groupby(\"season\")[\"month\"].unique()"
      ]
    },
    {
      "cell_type": "code",
      "execution_count": 30,
      "metadata": {
        "colab": {
          "base_uri": "https://localhost:8080/",
          "height": 0
        },
        "id": "XY2aHbsG12J2",
        "outputId": "8c9325b8-1bf2-4bd3-9270-d6ee659b22eb"
      },
      "outputs": [
        {
          "output_type": "execute_result",
          "data": {
            "text/plain": [
              "<matplotlib.axes._subplots.AxesSubplot at 0x7fef4d8d5a60>"
            ]
          },
          "metadata": {},
          "execution_count": 30
        },
        {
          "output_type": "display_data",
          "data": {
            "text/plain": [
              "<Figure size 432x288 with 1 Axes>"
            ],
            "image/png": "[encoded data removed]"
          },
          "metadata": {
            "needs_background": "light"
          }
        }
      ],
      "source": [
        "# season은 1 = spring, 2 = summer, 3 = fall, 4 = winter 이라고는 하지만\n",
        "# 실제로 월을 보면 분기가 들어있습니다.\n",
        "sns.barplot(data=train, x=\"season\", y=\"count\", hue=\"year\")"
      ]
    },
    {
      "cell_type": "code",
      "execution_count": 31,
      "metadata": {
        "id": "WpuGmtxi12J2"
      },
      "outputs": [],
      "source": [
        "train[\"year-month\"] = train[\"datetime\"].astype(str).str[:7]\n",
        "test[\"year-month\"] = test[\"datetime\"].astype(str).str[:7]"
      ]
    },
    {
      "cell_type": "code",
      "execution_count": 32,
      "metadata": {
        "colab": {
          "base_uri": "https://localhost:8080/",
          "height": 0
        },
        "id": "3pEI5iyC12J3",
        "outputId": "7f1bc11b-5b72-47ee-e9fc-fcfbd33dbcda"
      },
      "outputs": [
        {
          "output_type": "execute_result",
          "data": {
            "text/plain": [
              "<matplotlib.axes._subplots.AxesSubplot at 0x7fef4c47d5b0>"
            ]
          },
          "metadata": {},
          "execution_count": 32
        },
        {
          "output_type": "display_data",
          "data": {
            "text/plain": [
              "<Figure size 1728x216 with 1 Axes>"
            ],
            "image/png": "[encoded data removed]"
          },
          "metadata": {
            "needs_background": "light"
          }
        }
      ],
      "source": [
        "plt.figure(figsize=(24, 3))\n",
        "sns.barplot(data=train, x=\"year-month\", y=\"count\")"
      ]
    },
    {
      "cell_type": "code",
      "execution_count": 33,
      "metadata": {
        "id": "F4lGL2cf12J3"
      },
      "outputs": [],
      "source": [
        "# one-hot-encoding => pd.get_dummies(), 순서가 없는 데이터에 인코딩\n",
        "# ordinal-encoding => category 데이터타입으로 변경하면 ordinal encoding을 할 수 있습니다. 순서가 있는 데이터에 인코딩\n",
        "train[\"year-month-code\"] = train[\"year-month\"].astype(\"category\").cat.codes\n",
        "test[\"year-month-code\"] = test[\"year-month\"].astype(\"category\").cat.codes"
      ]
    },
    {
      "cell_type": "markdown",
      "metadata": {
        "id": "hJ07liGg12J3"
      },
      "source": [
        "# 3. Decison Tree\n",
        "\n",
        "- 교차검증"
      ]
    },
    {
      "cell_type": "code",
      "execution_count": 34,
      "metadata": {
        "id": "40wrhuF212J3",
        "outputId": "2ee7bb21-67be-4d86-f75c-aa27eaa009f8",
        "colab": {
          "base_uri": "https://localhost:8080/",
          "height": 0
        }
      },
      "outputs": [
        {
          "output_type": "execute_result",
          "data": {
            "text/plain": [
              "'count'"
            ],
            "application/vnd.google.colaboratory.intrinsic+json": {
              "type": "string"
            }
          },
          "metadata": {},
          "execution_count": 34
        }
      ],
      "source": [
        "# label_name : 정답값\n",
        "label_name = \"count\"\n",
        "label_name"
      ]
    },
    {
      "cell_type": "code",
      "execution_count": 35,
      "metadata": {
        "id": "__nEHb1712J3",
        "outputId": "9c10d6c3-47a6-4db9-bec6-03130a134d89",
        "colab": {
          "base_uri": "https://localhost:8080/"
        }
      },
      "outputs": [
        {
          "output_type": "execute_result",
          "data": {
            "text/plain": [
              "['datetime',\n",
              " 'season',\n",
              " 'holiday',\n",
              " 'workingday',\n",
              " 'weather',\n",
              " 'temp',\n",
              " 'atemp',\n",
              " 'humidity',\n",
              " 'windspeed',\n",
              " 'casual',\n",
              " 'registered',\n",
              " 'count',\n",
              " 'year',\n",
              " 'month',\n",
              " 'day',\n",
              " 'hour',\n",
              " 'minute',\n",
              " 'second',\n",
              " 'year-month',\n",
              " 'year-month-code']"
            ]
          },
          "metadata": {},
          "execution_count": 35
        }
      ],
      "source": [
        "train.columns.tolist()"
      ]
    },
    {
      "cell_type": "code",
      "execution_count": 36,
      "metadata": {
        "id": "_bUHy3Xx12J3",
        "outputId": "82834353-9281-43a9-a27a-84bbee0e10ca",
        "colab": {
          "base_uri": "https://localhost:8080/"
        }
      },
      "outputs": [
        {
          "output_type": "stream",
          "name": "stdout",
          "text": [
            "['holiday', 'workingday', 'weather', 'temp', 'atemp', 'humidity', 'windspeed', 'year', 'hour']\n"
          ]
        }
      ],
      "source": [
        "feature_names = train.columns.tolist()\n",
        "# 신호와 소음을 구분해서 어떤 피처가 도움이 될지를 찾아내는데, \n",
        "# EDA, 도메인지식을 활용하여 자전거 대여수에 영향을 줄만한 피처를 찾습니다.\n",
        "feature_names = ['holiday', 'workingday', 'weather', \n",
        "                 'temp', 'atemp', 'humidity', 'windspeed', \n",
        "                 'year', 'hour']\n",
        "print(feature_names)"
      ]
    },
    {
      "cell_type": "code",
      "execution_count": 37,
      "metadata": {
        "id": "NpaaVawH12J4",
        "outputId": "afa68d88-0049-4a29-d0ed-33891abf2215",
        "colab": {
          "base_uri": "https://localhost:8080/",
          "height": 0
        }
      },
      "outputs": [
        {
          "output_type": "execute_result",
          "data": {
            "text/plain": [
              "   holiday  workingday  weather  temp   atemp  humidity  windspeed  year  hour\n",
              "0        0           0        1  9.84  14.395        81        0.0  2011     0\n",
              "1        0           0        1  9.02  13.635        80        0.0  2011     1"
            ],
            "text/html": [
              "\n",
              "  <div id=\"df-6297a787-137e-4d58-a1b0-0dee5ba541e2\">\n",
              "    <div class=\"colab-df-container\">\n",
              "      <div>\n",
              "<style scoped>\n",
              "    .dataframe tbody tr th:only-of-type {\n",
              "        vertical-align: middle;\n",
              "    }\n",
              "\n",
              "    .dataframe tbody tr th {\n",
              "        vertical-align: top;\n",
              "    }\n",
              "\n",
              "    .dataframe thead th {\n",
              "        text-align: right;\n",
              "    }\n",
              "</style>\n",
              "<table border=\"1\" class=\"dataframe\">\n",
              "  <thead>\n",
              "    <tr style=\"text-align: right;\">\n",
              "      <th></th>\n",
              "      <th>holiday</th>\n",
              "      <th>workingday</th>\n",
              "      <th>weather</th>\n",
              "      <th>temp</th>\n",
              "      <th>atemp</th>\n",
              "      <th>humidity</th>\n",
              "      <th>windspeed</th>\n",
              "      <th>year</th>\n",
              "      <th>hour</th>\n",
              "    </tr>\n",
              "  </thead>\n",
              "  <tbody>\n",
              "    <tr>\n",
              "      <th>0</th>\n",
              "      <td>0</td>\n",
              "      <td>0</td>\n",
              "      <td>1</td>\n",
              "      <td>9.84</td>\n",
              "      <td>14.395</td>\n",
              "      <td>81</td>\n",
              "      <td>0.0</td>\n",
              "      <td>2011</td>\n",
              "      <td>0</td>\n",
              "    </tr>\n",
              "    <tr>\n",
              "      <th>1</th>\n",
              "      <td>0</td>\n",
              "      <td>0</td>\n",
              "      <td>1</td>\n",
              "      <td>9.02</td>\n",
              "      <td>13.635</td>\n",
              "      <td>80</td>\n",
              "      <td>0.0</td>\n",
              "      <td>2011</td>\n",
              "      <td>1</td>\n",
              "    </tr>\n",
              "  </tbody>\n",
              "</table>\n",
              "</div>\n",
              "      <button class=\"colab-df-convert\" onclick=\"convertToInteractive('df-6297a787-137e-4d58-a1b0-0dee5ba541e2')\"\n",
              "              title=\"Convert this dataframe to an interactive table.\"\n",
              "              style=\"display:none;\">\n",
              "        \n",
              "  <svg xmlns=\"http://www.w3.org/2000/svg\" height=\"24px\"viewBox=\"0 0 24 24\"\n",
              "       width=\"24px\">\n",
              "    <path d=\"M0 0h24v24H0V0z\" fill=\"none\"/>\n",
              "    <path d=\"M18.56 5.44l.94 2.06.94-2.06 2.06-.94-2.06-.94-.94-2.06-.94 2.06-2.06.94zm-11 1L8.5 8.5l.94-2.06 2.06-.94-2.06-.94L8.5 2.5l-.94 2.06-2.06.94zm10 10l.94 2.06.94-2.06 2.06-.94-2.06-.94-.94-2.06-.94 2.06-2.06.94z\"/><path d=\"M17.41 7.96l-1.37-1.37c-.4-.4-.92-.59-1.43-.59-.52 0-1.04.2-1.43.59L10.3 9.45l-7.72 7.72c-.78.78-.78 2.05 0 2.83L4 21.41c.39.39.9.59 1.41.59.51 0 1.02-.2 1.41-.59l7.78-7.78 2.81-2.81c.8-.78.8-2.07 0-2.86zM5.41 20L4 18.59l7.72-7.72 1.47 1.35L5.41 20z\"/>\n",
              "  </svg>\n",
              "      </button>\n",
              "      \n",
              "  <style>\n",
              "    .colab-df-container {\n",
              "      display:flex;\n",
              "      flex-wrap:wrap;\n",
              "      gap: 12px;\n",
              "    }\n",
              "\n",
              "    .colab-df-convert {\n",
              "      background-color: #E8F0FE;\n",
              "      border: none;\n",
              "      border-radius: 50%;\n",
              "      cursor: pointer;\n",
              "      display: none;\n",
              "      fill: #1967D2;\n",
              "      height: 32px;\n",
              "      padding: 0 0 0 0;\n",
              "      width: 32px;\n",
              "    }\n",
              "\n",
              "    .colab-df-convert:hover {\n",
              "      background-color: #E2EBFA;\n",
              "      box-shadow: 0px 1px 2px rgba(60, 64, 67, 0.3), 0px 1px 3px 1px rgba(60, 64, 67, 0.15);\n",
              "      fill: #174EA6;\n",
              "    }\n",
              "\n",
              "    [theme=dark] .colab-df-convert {\n",
              "      background-color: #3B4455;\n",
              "      fill: #D2E3FC;\n",
              "    }\n",
              "\n",
              "    [theme=dark] .colab-df-convert:hover {\n",
              "      background-color: #434B5C;\n",
              "      box-shadow: 0px 1px 3px 1px rgba(0, 0, 0, 0.15);\n",
              "      filter: drop-shadow(0px 1px 2px rgba(0, 0, 0, 0.3));\n",
              "      fill: #FFFFFF;\n",
              "    }\n",
              "  </style>\n",
              "\n",
              "      <script>\n",
              "        const buttonEl =\n",
              "          document.querySelector('#df-6297a787-137e-4d58-a1b0-0dee5ba541e2 button.colab-df-convert');\n",
              "        buttonEl.style.display =\n",
              "          google.colab.kernel.accessAllowed ? 'block' : 'none';\n",
              "\n",
              "        async function convertToInteractive(key) {\n",
              "          const element = document.querySelector('#df-6297a787-137e-4d58-a1b0-0dee5ba541e2');\n",
              "          const dataTable =\n",
              "            await google.colab.kernel.invokeFunction('convertToInteractive',\n",
              "                                                     [key], {});\n",
              "          if (!dataTable) return;\n",
              "\n",
              "          const docLinkHtml = 'Like what you see? Visit the ' +\n",
              "            '<a target=\"_blank\" href=https://colab.research.google.com/notebooks/data_table.ipynb>data table notebook</a>'\n",
              "            + ' to learn more about interactive tables.';\n",
              "          element.innerHTML = '';\n",
              "          dataTable['output_type'] = 'display_data';\n",
              "          await google.colab.output.renderOutput(dataTable, element);\n",
              "          const docLink = document.createElement('div');\n",
              "          docLink.innerHTML = docLinkHtml;\n",
              "          element.appendChild(docLink);\n",
              "        }\n",
              "      </script>\n",
              "    </div>\n",
              "  </div>\n",
              "  "
            ]
          },
          "metadata": {},
          "execution_count": 37
        }
      ],
      "source": [
        "X_train = train[feature_names]\n",
        "X_train.head(2)"
      ]
    },
    {
      "cell_type": "code",
      "execution_count": 38,
      "metadata": {
        "id": "6L43dj_-12J4",
        "outputId": "1d28bb6f-7f7c-4475-a5ac-3d6a2e17b003",
        "colab": {
          "base_uri": "https://localhost:8080/",
          "height": 0
        }
      },
      "outputs": [
        {
          "output_type": "execute_result",
          "data": {
            "text/plain": [
              "   holiday  workingday  weather   temp   atemp  humidity  windspeed  year  \\\n",
              "0        0           1        1  10.66  11.365        56    26.0027  2011   \n",
              "1        0           1        1  10.66  13.635        56     0.0000  2011   \n",
              "\n",
              "   hour  \n",
              "0     0  \n",
              "1     1  "
            ],
            "text/html": [
              "\n",
              "  <div id=\"df-d585b910-79f9-4fa7-9ff7-808dabb1f0f2\">\n",
              "    <div class=\"colab-df-container\">\n",
              "      <div>\n",
              "<style scoped>\n",
              "    .dataframe tbody tr th:only-of-type {\n",
              "        vertical-align: middle;\n",
              "    }\n",
              "\n",
              "    .dataframe tbody tr th {\n",
              "        vertical-align: top;\n",
              "    }\n",
              "\n",
              "    .dataframe thead th {\n",
              "        text-align: right;\n",
              "    }\n",
              "</style>\n",
              "<table border=\"1\" class=\"dataframe\">\n",
              "  <thead>\n",
              "    <tr style=\"text-align: right;\">\n",
              "      <th></th>\n",
              "      <th>holiday</th>\n",
              "      <th>workingday</th>\n",
              "      <th>weather</th>\n",
              "      <th>temp</th>\n",
              "      <th>atemp</th>\n",
              "      <th>humidity</th>\n",
              "      <th>windspeed</th>\n",
              "      <th>year</th>\n",
              "      <th>hour</th>\n",
              "    </tr>\n",
              "  </thead>\n",
              "  <tbody>\n",
              "    <tr>\n",
              "      <th>0</th>\n",
              "      <td>0</td>\n",
              "      <td>1</td>\n",
              "      <td>1</td>\n",
              "      <td>10.66</td>\n",
              "      <td>11.365</td>\n",
              "      <td>56</td>\n",
              "      <td>26.0027</td>\n",
              "      <td>2011</td>\n",
              "      <td>0</td>\n",
              "    </tr>\n",
              "    <tr>\n",
              "      <th>1</th>\n",
              "      <td>0</td>\n",
              "      <td>1</td>\n",
              "      <td>1</td>\n",
              "      <td>10.66</td>\n",
              "      <td>13.635</td>\n",
              "      <td>56</td>\n",
              "      <td>0.0000</td>\n",
              "      <td>2011</td>\n",
              "      <td>1</td>\n",
              "    </tr>\n",
              "  </tbody>\n",
              "</table>\n",
              "</div>\n",
              "      <button class=\"colab-df-convert\" onclick=\"convertToInteractive('df-d585b910-79f9-4fa7-9ff7-808dabb1f0f2')\"\n",
              "              title=\"Convert this dataframe to an interactive table.\"\n",
              "              style=\"display:none;\">\n",
              "        \n",
              "  <svg xmlns=\"http://www.w3.org/2000/svg\" height=\"24px\"viewBox=\"0 0 24 24\"\n",
              "       width=\"24px\">\n",
              "    <path d=\"M0 0h24v24H0V0z\" fill=\"none\"/>\n",
              "    <path d=\"M18.56 5.44l.94 2.06.94-2.06 2.06-.94-2.06-.94-.94-2.06-.94 2.06-2.06.94zm-11 1L8.5 8.5l.94-2.06 2.06-.94-2.06-.94L8.5 2.5l-.94 2.06-2.06.94zm10 10l.94 2.06.94-2.06 2.06-.94-2.06-.94-.94-2.06-.94 2.06-2.06.94z\"/><path d=\"M17.41 7.96l-1.37-1.37c-.4-.4-.92-.59-1.43-.59-.52 0-1.04.2-1.43.59L10.3 9.45l-7.72 7.72c-.78.78-.78 2.05 0 2.83L4 21.41c.39.39.9.59 1.41.59.51 0 1.02-.2 1.41-.59l7.78-7.78 2.81-2.81c.8-.78.8-2.07 0-2.86zM5.41 20L4 18.59l7.72-7.72 1.47 1.35L5.41 20z\"/>\n",
              "  </svg>\n",
              "      </button>\n",
              "      \n",
              "  <style>\n",
              "    .colab-df-container {\n",
              "      display:flex;\n",
              "      flex-wrap:wrap;\n",
              "      gap: 12px;\n",
              "    }\n",
              "\n",
              "    .colab-df-convert {\n",
              "      background-color: #E8F0FE;\n",
              "      border: none;\n",
              "      border-radius: 50%;\n",
              "      cursor: pointer;\n",
              "      display: none;\n",
              "      fill: #1967D2;\n",
              "      height: 32px;\n",
              "      padding: 0 0 0 0;\n",
              "      width: 32px;\n",
              "    }\n",
              "\n",
              "    .colab-df-convert:hover {\n",
              "      background-color: #E2EBFA;\n",
              "      box-shadow: 0px 1px 2px rgba(60, 64, 67, 0.3), 0px 1px 3px 1px rgba(60, 64, 67, 0.15);\n",
              "      fill: #174EA6;\n",
              "    }\n",
              "\n",
              "    [theme=dark] .colab-df-convert {\n",
              "      background-color: #3B4455;\n",
              "      fill: #D2E3FC;\n",
              "    }\n",
              "\n",
              "    [theme=dark] .colab-df-convert:hover {\n",
              "      background-color: #434B5C;\n",
              "      box-shadow: 0px 1px 3px 1px rgba(0, 0, 0, 0.15);\n",
              "      filter: drop-shadow(0px 1px 2px rgba(0, 0, 0, 0.3));\n",
              "      fill: #FFFFFF;\n",
              "    }\n",
              "  </style>\n",
              "\n",
              "      <script>\n",
              "        const buttonEl =\n",
              "          document.querySelector('#df-d585b910-79f9-4fa7-9ff7-808dabb1f0f2 button.colab-df-convert');\n",
              "        buttonEl.style.display =\n",
              "          google.colab.kernel.accessAllowed ? 'block' : 'none';\n",
              "\n",
              "        async function convertToInteractive(key) {\n",
              "          const element = document.querySelector('#df-d585b910-79f9-4fa7-9ff7-808dabb1f0f2');\n",
              "          const dataTable =\n",
              "            await google.colab.kernel.invokeFunction('convertToInteractive',\n",
              "                                                     [key], {});\n",
              "          if (!dataTable) return;\n",
              "\n",
              "          const docLinkHtml = 'Like what you see? Visit the ' +\n",
              "            '<a target=\"_blank\" href=https://colab.research.google.com/notebooks/data_table.ipynb>data table notebook</a>'\n",
              "            + ' to learn more about interactive tables.';\n",
              "          element.innerHTML = '';\n",
              "          dataTable['output_type'] = 'display_data';\n",
              "          await google.colab.output.renderOutput(dataTable, element);\n",
              "          const docLink = document.createElement('div');\n",
              "          docLink.innerHTML = docLinkHtml;\n",
              "          element.appendChild(docLink);\n",
              "        }\n",
              "      </script>\n",
              "    </div>\n",
              "  </div>\n",
              "  "
            ]
          },
          "metadata": {},
          "execution_count": 38
        }
      ],
      "source": [
        "X_test = test[feature_names]\n",
        "X_test.head(2)"
      ]
    },
    {
      "cell_type": "code",
      "execution_count": 39,
      "metadata": {
        "id": "oTmTjInI12J4",
        "outputId": "e502a835-9c07-4f99-b809-f450941853e5",
        "colab": {
          "base_uri": "https://localhost:8080/"
        }
      },
      "outputs": [
        {
          "output_type": "execute_result",
          "data": {
            "text/plain": [
              "0    16\n",
              "1    40\n",
              "Name: count, dtype: int64"
            ]
          },
          "metadata": {},
          "execution_count": 39
        }
      ],
      "source": [
        "y_train = train[label_name]\n",
        "y_train.head(2)"
      ]
    },
    {
      "cell_type": "code",
      "execution_count": 40,
      "metadata": {
        "id": "kQ_v9KZX12J4",
        "outputId": "58efae7d-0cac-446e-f98f-3457ba98e805",
        "colab": {
          "base_uri": "https://localhost:8080/"
        }
      },
      "outputs": [
        {
          "output_type": "execute_result",
          "data": {
            "text/plain": [
              "RandomForestRegressor(n_jobs=-1, random_state=42)"
            ]
          },
          "metadata": {},
          "execution_count": 40
        }
      ],
      "source": [
        "from sklearn.ensemble import RandomForestRegressor\n",
        "\n",
        "model = RandomForestRegressor(random_state=42, n_jobs=-1)\n",
        "model"
      ]
    },
    {
      "cell_type": "markdown",
      "metadata": {
        "id": "5oGtARCZ12J4"
      },
      "source": [
        "## 교차검증"
      ]
    },
    {
      "cell_type": "code",
      "execution_count": 41,
      "metadata": {
        "id": "aR1e80TT12J5",
        "outputId": "359a4581-c196-48b7-d207-0d469953ebea",
        "colab": {
          "base_uri": "https://localhost:8080/"
        }
      },
      "outputs": [
        {
          "output_type": "execute_result",
          "data": {
            "text/plain": [
              "RandomForestRegressor(n_jobs=-1, random_state=42)"
            ]
          },
          "metadata": {},
          "execution_count": 41
        }
      ],
      "source": [
        "model"
      ]
    },
    {
      "cell_type": "code",
      "execution_count": 42,
      "metadata": {
        "id": "seA0F1f212J5",
        "outputId": "559b1668-370a-45d2-cbc4-6d3d57102b94",
        "colab": {
          "base_uri": "https://localhost:8080/"
        }
      },
      "outputs": [
        {
          "output_type": "stream",
          "name": "stderr",
          "text": [
            "[Parallel(n_jobs=-1)]: Using backend LokyBackend with 2 concurrent workers.\n",
            "[Parallel(n_jobs=-1)]: Done   5 out of   5 | elapsed:   14.0s remaining:    0.0s\n",
            "[Parallel(n_jobs=-1)]: Done   5 out of   5 | elapsed:   14.0s finished\n"
          ]
        },
        {
          "output_type": "execute_result",
          "data": {
            "text/plain": [
              "array([ 99.62      ,  88.89      ,  46.623     , ..., 164.37      ,\n",
              "       124.84633333,  62.07      ])"
            ]
          },
          "metadata": {},
          "execution_count": 42
        }
      ],
      "source": [
        "from sklearn.model_selection import cross_val_predict\n",
        "\n",
        "y_valid_pred = cross_val_predict(model, X_train, y_train, cv=5, n_jobs=-1, verbose=2)\n",
        "y_valid_pred"
      ]
    },
    {
      "cell_type": "code",
      "execution_count": 43,
      "metadata": {
        "id": "H7A5T5UV12J5",
        "outputId": "fcc0a23b-c6cc-433f-937c-fe020cc5ec76",
        "colab": {
          "base_uri": "https://localhost:8080/"
        }
      },
      "outputs": [
        {
          "output_type": "execute_result",
          "data": {
            "text/plain": [
              "count    10886.000000\n",
              "mean       191.574132\n",
              "std        181.144454\n",
              "min          1.000000\n",
              "25%         42.000000\n",
              "50%        145.000000\n",
              "75%        284.000000\n",
              "max        977.000000\n",
              "Name: count, dtype: float64"
            ]
          },
          "metadata": {},
          "execution_count": 43
        }
      ],
      "source": [
        "train[\"count\"].describe()"
      ]
    },
    {
      "cell_type": "markdown",
      "metadata": {
        "id": "bU3HsIJhJbcT"
      },
      "source": [
        "# 4. RMSLE(Root Mean Squared Logarithmic Error)"
      ]
    },
    {
      "cell_type": "code",
      "execution_count": 44,
      "metadata": {
        "id": "0ugIpnqnJbcU",
        "outputId": "01736384-36cd-4deb-ec23-45f947cc6ed9",
        "colab": {
          "base_uri": "https://localhost:8080/"
        }
      },
      "outputs": [
        {
          "output_type": "execute_result",
          "data": {
            "text/plain": [
              "0.5516900565715624"
            ]
          },
          "metadata": {},
          "execution_count": 44
        }
      ],
      "source": [
        "from sklearn.metrics import mean_squared_log_error\n",
        "\n",
        "mean_squared_log_error(y_train, y_valid_pred) ** 0.5"
      ]
    },
    {
      "cell_type": "code",
      "execution_count": 45,
      "metadata": {
        "id": "bPoyQjLOJbcU",
        "outputId": "85061057-b5c7-4e0e-9b1c-4dc5155cfe61",
        "colab": {
          "base_uri": "https://localhost:8080/"
        }
      },
      "outputs": [
        {
          "output_type": "execute_result",
          "data": {
            "text/plain": [
              "0.5516900565715624"
            ]
          },
          "metadata": {},
          "execution_count": 45
        }
      ],
      "source": [
        "np.sqrt(np.square(np.log(y_train + 1) - np.log(y_valid_pred + 1)).mean())"
      ]
    },
    {
      "cell_type": "code",
      "execution_count": 46,
      "metadata": {
        "id": "JMQo1hHAJbcV",
        "outputId": "a6ad3e81-06a5-4a68-da0e-56b8b5462bd5",
        "colab": {
          "base_uri": "https://localhost:8080/"
        }
      },
      "outputs": [
        {
          "output_type": "execute_result",
          "data": {
            "text/plain": [
              "0.5516900565715624"
            ]
          },
          "metadata": {},
          "execution_count": 46
        }
      ],
      "source": [
        "rmlse = (((np.log1p(y_train) - np.log1p(y_valid_pred)) ** 2).mean()) ** 0.5\n",
        "rmlse"
      ]
    },
    {
      "cell_type": "markdown",
      "metadata": {
        "id": "316m0DMJEj8Z"
      },
      "source": [
        "# 5. RandomizedSearchCV"
      ]
    },
    {
      "cell_type": "code",
      "execution_count": 47,
      "metadata": {
        "id": "dBv1kNnCEj8Z",
        "outputId": "cbfe5b23-9b7a-4780-8d84-79a4bd972f6f",
        "colab": {
          "base_uri": "https://localhost:8080/"
        }
      },
      "outputs": [
        {
          "output_type": "execute_result",
          "data": {
            "text/plain": [
              "dict_keys(['explained_variance', 'r2', 'max_error', 'neg_median_absolute_error', 'neg_mean_absolute_error', 'neg_mean_absolute_percentage_error', 'neg_mean_squared_error', 'neg_mean_squared_log_error', 'neg_root_mean_squared_error', 'neg_mean_poisson_deviance', 'neg_mean_gamma_deviance', 'accuracy', 'top_k_accuracy', 'roc_auc', 'roc_auc_ovr', 'roc_auc_ovo', 'roc_auc_ovr_weighted', 'roc_auc_ovo_weighted', 'balanced_accuracy', 'average_precision', 'neg_log_loss', 'neg_brier_score', 'adjusted_rand_score', 'rand_score', 'homogeneity_score', 'completeness_score', 'v_measure_score', 'mutual_info_score', 'adjusted_mutual_info_score', 'normalized_mutual_info_score', 'fowlkes_mallows_score', 'precision', 'precision_macro', 'precision_micro', 'precision_samples', 'precision_weighted', 'recall', 'recall_macro', 'recall_micro', 'recall_samples', 'recall_weighted', 'f1', 'f1_macro', 'f1_micro', 'f1_samples', 'f1_weighted', 'jaccard', 'jaccard_macro', 'jaccard_micro', 'jaccard_samples', 'jaccard_weighted'])"
            ]
          },
          "metadata": {},
          "execution_count": 47
        }
      ],
      "source": [
        "import sklearn\n",
        "sklearn.metrics.SCORERS.keys()"
      ]
    },
    {
      "cell_type": "code",
      "execution_count": 48,
      "metadata": {
        "id": "sLSClaDBEj8Z",
        "outputId": "825b918e-4aaf-47ff-953c-482ca966fb9f",
        "colab": {
          "base_uri": "https://localhost:8080/"
        }
      },
      "outputs": [
        {
          "output_type": "execute_result",
          "data": {
            "text/plain": [
              "array([7, 7, 7, 3, 6, 7, 5, 3, 9, 9])"
            ]
          },
          "metadata": {},
          "execution_count": 48
        }
      ],
      "source": [
        "np.random.randint(3, 10, 10)"
      ]
    },
    {
      "cell_type": "code",
      "execution_count": 49,
      "metadata": {
        "id": "3tzIQp5nEj8Z",
        "outputId": "240638b1-9c37-49ee-ccd6-ce11d8fac3d4",
        "colab": {
          "base_uri": "https://localhost:8080/"
        }
      },
      "outputs": [
        {
          "output_type": "execute_result",
          "data": {
            "text/plain": [
              "array([0.58111656, 0.48088954, 0.50504757, 0.8386672 , 0.02216478,\n",
              "       0.03446686, 0.58429197, 0.1454286 , 0.07017253, 0.24124471])"
            ]
          },
          "metadata": {},
          "execution_count": 49
        }
      ],
      "source": [
        "np.random.uniform(0, 1, 10)"
      ]
    },
    {
      "cell_type": "code",
      "execution_count": 50,
      "metadata": {
        "id": "GzI5p_kvEj8a",
        "outputId": "0f276530-7f09-4a3e-d125-ff5a1e552ff0",
        "colab": {
          "base_uri": "https://localhost:8080/"
        }
      },
      "outputs": [
        {
          "output_type": "stream",
          "name": "stdout",
          "text": [
            "Fitting 5 folds for each of 10 candidates, totalling 50 fits\n"
          ]
        },
        {
          "output_type": "execute_result",
          "data": {
            "text/plain": [
              "RandomizedSearchCV(cv=5,\n",
              "                   estimator=RandomForestRegressor(n_jobs=-1, random_state=42),\n",
              "                   n_jobs=-1,\n",
              "                   param_distributions={'max_depth': array([17, 26, 26, 23, 24, 26, 15, 24, 27, 23]),\n",
              "                                        'max_features': array([0.83898174, 0.89161949, 0.87259354, 0.81357331, 0.92880991,\n",
              "       0.97139714, 0.82989864, 0.91961621, 0.83484296, 0.95839673])},\n",
              "                   random_state=42, scoring='neg_root_mean_squared_error',\n",
              "                   verbose=2)"
            ]
          },
          "metadata": {},
          "execution_count": 50
        }
      ],
      "source": [
        "from sklearn.model_selection import RandomizedSearchCV\n",
        "\n",
        "param_distributions = {\"max_depth\": np.random.randint(15, 30, 10), \n",
        "                       \"max_features\": np.random.uniform(0.8, 1, 10)}\n",
        "\n",
        "reg = RandomizedSearchCV(model, \n",
        "                         param_distributions=param_distributions, \n",
        "                         scoring=\"neg_root_mean_squared_error\",\n",
        "                         n_iter=10, cv=5, n_jobs=-1,\n",
        "                         verbose=2, random_state=42)\n",
        "reg.fit(X_train, y_train)"
      ]
    },
    {
      "cell_type": "code",
      "execution_count": 51,
      "metadata": {
        "id": "elmQlKAOEj8a",
        "outputId": "28c48086-03d0-49fd-a23e-1038a5bb8adf",
        "colab": {
          "base_uri": "https://localhost:8080/"
        }
      },
      "outputs": [
        {
          "output_type": "execute_result",
          "data": {
            "text/plain": [
              "RandomForestRegressor(max_depth=17, max_features=0.8389817416525889, n_jobs=-1,\n",
              "                      random_state=42)"
            ]
          },
          "metadata": {},
          "execution_count": 51
        }
      ],
      "source": [
        "reg.best_estimator_"
      ]
    },
    {
      "cell_type": "code",
      "execution_count": 52,
      "metadata": {
        "id": "XuFVD6ETEj8a",
        "outputId": "ddc5e2d9-acef-4bf3-be9a-00adf6cda9c0",
        "colab": {
          "base_uri": "https://localhost:8080/"
        }
      },
      "outputs": [
        {
          "output_type": "execute_result",
          "data": {
            "text/plain": [
              "78.2711736313915"
            ]
          },
          "metadata": {},
          "execution_count": 52
        }
      ],
      "source": [
        "# neg_root_mean_squared_error 로 되어 있어서 스코어가 음수로 나옵니다.\n",
        "rmsle = abs(reg.best_score_)\n",
        "rmsle"
      ]
    },
    {
      "cell_type": "code",
      "execution_count": 53,
      "metadata": {
        "id": "E9mc3iI6Ej8c",
        "outputId": "8e43394e-0580-4080-952a-3235dd1302da",
        "colab": {
          "base_uri": "https://localhost:8080/"
        }
      },
      "outputs": [
        {
          "output_type": "execute_result",
          "data": {
            "text/plain": [
              "RandomForestRegressor(max_depth=17, max_features=0.8389817416525889, n_jobs=-1,\n",
              "                      random_state=42)"
            ]
          },
          "metadata": {},
          "execution_count": 53
        }
      ],
      "source": [
        "best_model = reg.best_estimator_\n",
        "best_model"
      ]
    },
    {
      "cell_type": "code",
      "execution_count": 54,
      "metadata": {
        "id": "HsBu998f12J9"
      },
      "outputs": [],
      "source": [
        "y_predict = best_model.fit(X_train, y_train).predict(X_test)"
      ]
    },
    {
      "cell_type": "code",
      "execution_count": 57,
      "metadata": {
        "id": "lZJEg4SZ12J9",
        "outputId": "d9bb7459-7d92-4b2c-f7f7-0580ed64e97a",
        "colab": {
          "base_uri": "https://localhost:8080/",
          "height": 283
        }
      },
      "outputs": [
        {
          "output_type": "execute_result",
          "data": {
            "text/plain": [
              "<matplotlib.axes._subplots.AxesSubplot at 0x7fef4db6d160>"
            ]
          },
          "metadata": {},
          "execution_count": 57
        },
        {
          "output_type": "display_data",
          "data": {
            "text/plain": [
              "<Figure size 432x288 with 1 Axes>"
            ],
            "image/png": "[encoded data removed]"
          },
          "metadata": {
            "needs_background": "light"
          }
        }
      ],
      "source": [
        "sns.barplot(x=best_model.feature_importances_, y=best_model.feature_names_in_)"
      ]
    },
    {
      "cell_type": "code",
      "source": [
        "submit = pd.read_csv(\"/gdrive/My Drive/Colab Notebooks/data/bike/sampleSubmission.csv\")"
      ],
      "metadata": {
        "id": "8kO8OBXBQOkg"
      },
      "execution_count": 59,
      "outputs": []
    },
    {
      "cell_type": "code",
      "source": [
        "submit[\"count\"] = y_predict"
      ],
      "metadata": {
        "id": "BRz3vjavQsmf"
      },
      "execution_count": 60,
      "outputs": []
    },
    {
      "cell_type": "code",
      "source": [
        "file_name = f\"submission_{rmsle:.5f}.csv\""
      ],
      "metadata": {
        "id": "LS2-o0wdQ6RE"
      },
      "execution_count": 61,
      "outputs": []
    },
    {
      "cell_type": "code",
      "source": [
        "submit.to_csv(file_name, index=False)"
      ],
      "metadata": {
        "id": "799QtY_lQ_-s"
      },
      "execution_count": 64,
      "outputs": []
    },
    {
      "cell_type": "markdown",
      "source": [
        "![image.png](data:image/png;base64,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)"
      ],
      "metadata": {
        "id": "EzcJ48ukRjAC"
      }
    }
  ],
  "metadata": {
    "kernelspec": {
      "display_name": "Python 3 (ipykernel)",
      "language": "python",
      "name": "python3"
    },
    "language_info": {
      "codemirror_mode": {
        "name": "ipython",
        "version": 3
      },
      "file_extension": ".py",
      "mimetype": "text/x-python",
      "name": "python",
      "nbconvert_exporter": "python",
      "pygments_lexer": "ipython3",
      "version": "3.7.13"
    },
    "toc": {
      "base_numbering": 1,
      "nav_menu": {},
      "number_sections": true,
      "sideBar": true,
      "skip_h1_title": false,
      "title_cell": "Table of Contents",
      "title_sidebar": "Contents",
      "toc_cell": false,
      "toc_position": {},
      "toc_section_display": true,
      "toc_window_display": false
    },
    "varInspector": {
      "cols": {
        "lenName": 16,
        "lenType": 16,
        "lenVar": 40
      },
      "kernels_config": {
        "python": {
          "delete_cmd_postfix": "",
          "delete_cmd_prefix": "del ",
          "library": "var_list.py",
          "varRefreshCmd": "print(var_dic_list())"
        },
        "r": {
          "delete_cmd_postfix": ") ",
          "delete_cmd_prefix": "rm(",
          "library": "var_list.r",
          "varRefreshCmd": "cat(var_dic_list()) "
        }
      },
      "types_to_exclude": [
        "module",
        "function",
        "builtin_function_or_method",
        "instance",
        "_Feature"
      ],
      "window_display": false
    },
    "colab": {
      "provenance": [],
      "collapsed_sections": [
        "D1OYuYG112Jn",
        "g7Wxrh2P12Jx",
        "o8EaJivr12Jz",
        "hJ07liGg12J3"
      ]
    }
  },
  "nbformat": 4,
  "nbformat_minor": 0
}