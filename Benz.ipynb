{
  "cells": [
    {
      "cell_type": "markdown",
      "id": "399df29b",
      "metadata": {
        "id": "399df29b"
      },
      "source": [
        "# 0.  Mercedes-Benz Greener Manufacturing\n",
        "    \n",
        "## 데이터셋 출처\n",
        "https://www.kaggle.com/c/mercedes-benz-greener-manufacturing\n",
        "### 목표\n",
        "* 메르세데스 벤츠 사의 제조 과정에서 테스트 단계에 드는 시간을 예측하세요.\n",
        "\n",
        "### 설명\n",
        "* 메르세데스 벤츠 사의 자동차는 다양한 옵션을 선택할 수 있습니다.\n",
        "* 옵션 선택의 경우의 수에 따라 테스트 단계에서 얼마나 시간을 사용할지가 달라집니다.\n",
        "* 경우의 수에 따라 테스트 시간을 정확히 예측할 수 있다면 회사가 시간을 단축하는 전략을 세우는 데 도움이 됩니다.\n",
        "* 기업의 정보 보호를 위해 데이터의 변수들은 익명화되어 있습니다."
      ]
    },
    {
      "cell_type": "markdown",
      "source": [
        "## 라이브러리"
      ],
      "metadata": {
        "id": "UoEgjy-1y6_L"
      },
      "id": "UoEgjy-1y6_L"
    },
    {
      "cell_type": "code",
      "execution_count": null,
      "id": "b39ee43f",
      "metadata": {
        "id": "b39ee43f"
      },
      "outputs": [],
      "source": [
        "import numpy as np\n",
        "import pandas as pd\n",
        "import matplotlib.pyplot as plt\n",
        "import seaborn as sns\n",
        "import os"
      ]
    },
    {
      "cell_type": "markdown",
      "id": "3a62abb9",
      "metadata": {
        "id": "3a62abb9"
      },
      "source": [
        "## 데이터 로드"
      ]
    },
    {
      "cell_type": "code",
      "source": [
        "from google.colab import drive\n",
        "drive.mount('/gdrive')"
      ],
      "metadata": {
        "colab": {
          "base_uri": "https://localhost:8080/"
        },
        "id": "GcPEq7351tgQ",
        "outputId": "c4ea859b-51ea-4aab-b208-9b511839cbfe"
      },
      "id": "GcPEq7351tgQ",
      "execution_count": null,
      "outputs": [
        {
          "output_type": "stream",
          "name": "stdout",
          "text": [
            "Drive already mounted at /gdrive; to attempt to forcibly remount, call drive.mount(\"/gdrive\", force_remount=True).\n"
          ]
        }
      ]
    },
    {
      "cell_type": "code",
      "source": [
        "train = pd.read_csv(\"/gdrive/My Drive/Colab Notebooks/data/benz/train.csv.zip\", index_col=\"ID\")\n",
        "test = pd.read_csv(\"/gdrive/My Drive/Colab Notebooks/data/benz/test.csv.zip\", index_col=\"ID\")\n",
        "submit = pd.read_csv(\"/gdrive/My Drive/Colab Notebooks/data/benz/sample_submission.csv.zip\", index_col=\"ID\")"
      ],
      "metadata": {
        "id": "49IJKnmH1zF7"
      },
      "id": "49IJKnmH1zF7",
      "execution_count": null,
      "outputs": []
    },
    {
      "cell_type": "code",
      "execution_count": null,
      "id": "68c94f0e",
      "metadata": {
        "id": "68c94f0e",
        "outputId": "46e7dc8e-f747-4c11-c259-ce9b02289df1",
        "colab": {
          "base_uri": "https://localhost:8080/",
          "height": 267
        }
      },
      "outputs": [
        {
          "output_type": "execute_result",
          "data": {
            "text/plain": [
              "         y  X0 X1  X2 X3 X4 X5 X6 X8  X10  ...  X375  X376  X377  X378  X379  \\\n",
              "ID                                         ...                                 \n",
              "0   130.81   k  v  at  a  d  u  j  o    0  ...     0     0     1     0     0   \n",
              "6    88.53   k  t  av  e  d  y  l  o    0  ...     1     0     0     0     0   \n",
              "7    76.26  az  w   n  c  d  x  j  x    0  ...     0     0     0     0     0   \n",
              "9    80.62  az  t   n  f  d  x  l  e    0  ...     0     0     0     0     0   \n",
              "13   78.02  az  v   n  f  d  h  d  n    0  ...     0     0     0     0     0   \n",
              "\n",
              "    X380  X382  X383  X384  X385  \n",
              "ID                                \n",
              "0      0     0     0     0     0  \n",
              "6      0     0     0     0     0  \n",
              "7      0     1     0     0     0  \n",
              "9      0     0     0     0     0  \n",
              "13     0     0     0     0     0  \n",
              "\n",
              "[5 rows x 377 columns]"
            ],
            "text/html": [
              "\n",
              "  <div id=\"df-9969a169-0652-4be0-9b18-40a83f95a649\">\n",
              "    <div class=\"colab-df-container\">\n",
              "      <div>\n",
              "<style scoped>\n",
              "    .dataframe tbody tr th:only-of-type {\n",
              "        vertical-align: middle;\n",
              "    }\n",
              "\n",
              "    .dataframe tbody tr th {\n",
              "        vertical-align: top;\n",
              "    }\n",
              "\n",
              "    .dataframe thead th {\n",
              "        text-align: right;\n",
              "    }\n",
              "</style>\n",
              "<table border=\"1\" class=\"dataframe\">\n",
              "  <thead>\n",
              "    <tr style=\"text-align: right;\">\n",
              "      <th></th>\n",
              "      <th>y</th>\n",
              "      <th>X0</th>\n",
              "      <th>X1</th>\n",
              "      <th>X2</th>\n",
              "      <th>X3</th>\n",
              "      <th>X4</th>\n",
              "      <th>X5</th>\n",
              "      <th>X6</th>\n",
              "      <th>X8</th>\n",
              "      <th>X10</th>\n",
              "      <th>...</th>\n",
              "      <th>X375</th>\n",
              "      <th>X376</th>\n",
              "      <th>X377</th>\n",
              "      <th>X378</th>\n",
              "      <th>X379</th>\n",
              "      <th>X380</th>\n",
              "      <th>X382</th>\n",
              "      <th>X383</th>\n",
              "      <th>X384</th>\n",
              "      <th>X385</th>\n",
              "    </tr>\n",
              "    <tr>\n",
              "      <th>ID</th>\n",
              "      <th></th>\n",
              "      <th></th>\n",
              "      <th></th>\n",
              "      <th></th>\n",
              "      <th></th>\n",
              "      <th></th>\n",
              "      <th></th>\n",
              "      <th></th>\n",
              "      <th></th>\n",
              "      <th></th>\n",
              "      <th></th>\n",
              "      <th></th>\n",
              "      <th></th>\n",
              "      <th></th>\n",
              "      <th></th>\n",
              "      <th></th>\n",
              "      <th></th>\n",
              "      <th></th>\n",
              "      <th></th>\n",
              "      <th></th>\n",
              "      <th></th>\n",
              "    </tr>\n",
              "  </thead>\n",
              "  <tbody>\n",
              "    <tr>\n",
              "      <th>0</th>\n",
              "      <td>130.81</td>\n",
              "      <td>k</td>\n",
              "      <td>v</td>\n",
              "      <td>at</td>\n",
              "      <td>a</td>\n",
              "      <td>d</td>\n",
              "      <td>u</td>\n",
              "      <td>j</td>\n",
              "      <td>o</td>\n",
              "      <td>0</td>\n",
              "      <td>...</td>\n",
              "      <td>0</td>\n",
              "      <td>0</td>\n",
              "      <td>1</td>\n",
              "      <td>0</td>\n",
              "      <td>0</td>\n",
              "      <td>0</td>\n",
              "      <td>0</td>\n",
              "      <td>0</td>\n",
              "      <td>0</td>\n",
              "      <td>0</td>\n",
              "    </tr>\n",
              "    <tr>\n",
              "      <th>6</th>\n",
              "      <td>88.53</td>\n",
              "      <td>k</td>\n",
              "      <td>t</td>\n",
              "      <td>av</td>\n",
              "      <td>e</td>\n",
              "      <td>d</td>\n",
              "      <td>y</td>\n",
              "      <td>l</td>\n",
              "      <td>o</td>\n",
              "      <td>0</td>\n",
              "      <td>...</td>\n",
              "      <td>1</td>\n",
              "      <td>0</td>\n",
              "      <td>0</td>\n",
              "      <td>0</td>\n",
              "      <td>0</td>\n",
              "      <td>0</td>\n",
              "      <td>0</td>\n",
              "      <td>0</td>\n",
              "      <td>0</td>\n",
              "      <td>0</td>\n",
              "    </tr>\n",
              "    <tr>\n",
              "      <th>7</th>\n",
              "      <td>76.26</td>\n",
              "      <td>az</td>\n",
              "      <td>w</td>\n",
              "      <td>n</td>\n",
              "      <td>c</td>\n",
              "      <td>d</td>\n",
              "      <td>x</td>\n",
              "      <td>j</td>\n",
              "      <td>x</td>\n",
              "      <td>0</td>\n",
              "      <td>...</td>\n",
              "      <td>0</td>\n",
              "      <td>0</td>\n",
              "      <td>0</td>\n",
              "      <td>0</td>\n",
              "      <td>0</td>\n",
              "      <td>0</td>\n",
              "      <td>1</td>\n",
              "      <td>0</td>\n",
              "      <td>0</td>\n",
              "      <td>0</td>\n",
              "    </tr>\n",
              "    <tr>\n",
              "      <th>9</th>\n",
              "      <td>80.62</td>\n",
              "      <td>az</td>\n",
              "      <td>t</td>\n",
              "      <td>n</td>\n",
              "      <td>f</td>\n",
              "      <td>d</td>\n",
              "      <td>x</td>\n",
              "      <td>l</td>\n",
              "      <td>e</td>\n",
              "      <td>0</td>\n",
              "      <td>...</td>\n",
              "      <td>0</td>\n",
              "      <td>0</td>\n",
              "      <td>0</td>\n",
              "      <td>0</td>\n",
              "      <td>0</td>\n",
              "      <td>0</td>\n",
              "      <td>0</td>\n",
              "      <td>0</td>\n",
              "      <td>0</td>\n",
              "      <td>0</td>\n",
              "    </tr>\n",
              "    <tr>\n",
              "      <th>13</th>\n",
              "      <td>78.02</td>\n",
              "      <td>az</td>\n",
              "      <td>v</td>\n",
              "      <td>n</td>\n",
              "      <td>f</td>\n",
              "      <td>d</td>\n",
              "      <td>h</td>\n",
              "      <td>d</td>\n",
              "      <td>n</td>\n",
              "      <td>0</td>\n",
              "      <td>...</td>\n",
              "      <td>0</td>\n",
              "      <td>0</td>\n",
              "      <td>0</td>\n",
              "      <td>0</td>\n",
              "      <td>0</td>\n",
              "      <td>0</td>\n",
              "      <td>0</td>\n",
              "      <td>0</td>\n",
              "      <td>0</td>\n",
              "      <td>0</td>\n",
              "    </tr>\n",
              "  </tbody>\n",
              "</table>\n",
              "<p>5 rows × 377 columns</p>\n",
              "</div>\n",
              "      <button class=\"colab-df-convert\" onclick=\"convertToInteractive('df-9969a169-0652-4be0-9b18-40a83f95a649')\"\n",
              "              title=\"Convert this dataframe to an interactive table.\"\n",
              "              style=\"display:none;\">\n",
              "        \n",
              "  <svg xmlns=\"http://www.w3.org/2000/svg\" height=\"24px\"viewBox=\"0 0 24 24\"\n",
              "       width=\"24px\">\n",
              "    <path d=\"M0 0h24v24H0V0z\" fill=\"none\"/>\n",
              "    <path d=\"M18.56 5.44l.94 2.06.94-2.06 2.06-.94-2.06-.94-.94-2.06-.94 2.06-2.06.94zm-11 1L8.5 8.5l.94-2.06 2.06-.94-2.06-.94L8.5 2.5l-.94 2.06-2.06.94zm10 10l.94 2.06.94-2.06 2.06-.94-2.06-.94-.94-2.06-.94 2.06-2.06.94z\"/><path d=\"M17.41 7.96l-1.37-1.37c-.4-.4-.92-.59-1.43-.59-.52 0-1.04.2-1.43.59L10.3 9.45l-7.72 7.72c-.78.78-.78 2.05 0 2.83L4 21.41c.39.39.9.59 1.41.59.51 0 1.02-.2 1.41-.59l7.78-7.78 2.81-2.81c.8-.78.8-2.07 0-2.86zM5.41 20L4 18.59l7.72-7.72 1.47 1.35L5.41 20z\"/>\n",
              "  </svg>\n",
              "      </button>\n",
              "      \n",
              "  <style>\n",
              "    .colab-df-container {\n",
              "      display:flex;\n",
              "      flex-wrap:wrap;\n",
              "      gap: 12px;\n",
              "    }\n",
              "\n",
              "    .colab-df-convert {\n",
              "      background-color: #E8F0FE;\n",
              "      border: none;\n",
              "      border-radius: 50%;\n",
              "      cursor: pointer;\n",
              "      display: none;\n",
              "      fill: #1967D2;\n",
              "      height: 32px;\n",
              "      padding: 0 0 0 0;\n",
              "      width: 32px;\n",
              "    }\n",
              "\n",
              "    .colab-df-convert:hover {\n",
              "      background-color: #E2EBFA;\n",
              "      box-shadow: 0px 1px 2px rgba(60, 64, 67, 0.3), 0px 1px 3px 1px rgba(60, 64, 67, 0.15);\n",
              "      fill: #174EA6;\n",
              "    }\n",
              "\n",
              "    [theme=dark] .colab-df-convert {\n",
              "      background-color: #3B4455;\n",
              "      fill: #D2E3FC;\n",
              "    }\n",
              "\n",
              "    [theme=dark] .colab-df-convert:hover {\n",
              "      background-color: #434B5C;\n",
              "      box-shadow: 0px 1px 3px 1px rgba(0, 0, 0, 0.15);\n",
              "      filter: drop-shadow(0px 1px 2px rgba(0, 0, 0, 0.3));\n",
              "      fill: #FFFFFF;\n",
              "    }\n",
              "  </style>\n",
              "\n",
              "      <script>\n",
              "        const buttonEl =\n",
              "          document.querySelector('#df-9969a169-0652-4be0-9b18-40a83f95a649 button.colab-df-convert');\n",
              "        buttonEl.style.display =\n",
              "          google.colab.kernel.accessAllowed ? 'block' : 'none';\n",
              "\n",
              "        async function convertToInteractive(key) {\n",
              "          const element = document.querySelector('#df-9969a169-0652-4be0-9b18-40a83f95a649');\n",
              "          const dataTable =\n",
              "            await google.colab.kernel.invokeFunction('convertToInteractive',\n",
              "                                                     [key], {});\n",
              "          if (!dataTable) return;\n",
              "\n",
              "          const docLinkHtml = 'Like what you see? Visit the ' +\n",
              "            '<a target=\"_blank\" href=https://colab.research.google.com/notebooks/data_table.ipynb>data table notebook</a>'\n",
              "            + ' to learn more about interactive tables.';\n",
              "          element.innerHTML = '';\n",
              "          dataTable['output_type'] = 'display_data';\n",
              "          await google.colab.output.renderOutput(dataTable, element);\n",
              "          const docLink = document.createElement('div');\n",
              "          docLink.innerHTML = docLinkHtml;\n",
              "          element.appendChild(docLink);\n",
              "        }\n",
              "      </script>\n",
              "    </div>\n",
              "  </div>\n",
              "  "
            ]
          },
          "metadata": {},
          "execution_count": 22
        }
      ],
      "source": [
        "train.head()"
      ]
    },
    {
      "cell_type": "code",
      "execution_count": null,
      "id": "7f7cab6b",
      "metadata": {
        "id": "7f7cab6b",
        "outputId": "a501ed11-a37c-4f36-84ec-5c9e57ad5423",
        "colab": {
          "base_uri": "https://localhost:8080/",
          "height": 267
        }
      },
      "outputs": [
        {
          "output_type": "execute_result",
          "data": {
            "text/plain": [
              "    X0 X1  X2 X3 X4 X5 X6 X8  X10  X11  ...  X375  X376  X377  X378  X379  \\\n",
              "ID                                      ...                                 \n",
              "1   az  v   n  f  d  t  a  w    0    0  ...     0     0     0     1     0   \n",
              "2    t  b  ai  a  d  b  g  y    0    0  ...     0     0     1     0     0   \n",
              "3   az  v  as  f  d  a  j  j    0    0  ...     0     0     0     1     0   \n",
              "4   az  l   n  f  d  z  l  n    0    0  ...     0     0     0     1     0   \n",
              "5    w  s  as  c  d  y  i  m    0    0  ...     1     0     0     0     0   \n",
              "\n",
              "    X380  X382  X383  X384  X385  \n",
              "ID                                \n",
              "1      0     0     0     0     0  \n",
              "2      0     0     0     0     0  \n",
              "3      0     0     0     0     0  \n",
              "4      0     0     0     0     0  \n",
              "5      0     0     0     0     0  \n",
              "\n",
              "[5 rows x 376 columns]"
            ],
            "text/html": [
              "\n",
              "  <div id=\"df-e75d18ae-81a0-40fa-b2c9-6351fce314e1\">\n",
              "    <div class=\"colab-df-container\">\n",
              "      <div>\n",
              "<style scoped>\n",
              "    .dataframe tbody tr th:only-of-type {\n",
              "        vertical-align: middle;\n",
              "    }\n",
              "\n",
              "    .dataframe tbody tr th {\n",
              "        vertical-align: top;\n",
              "    }\n",
              "\n",
              "    .dataframe thead th {\n",
              "        text-align: right;\n",
              "    }\n",
              "</style>\n",
              "<table border=\"1\" class=\"dataframe\">\n",
              "  <thead>\n",
              "    <tr style=\"text-align: right;\">\n",
              "      <th></th>\n",
              "      <th>X0</th>\n",
              "      <th>X1</th>\n",
              "      <th>X2</th>\n",
              "      <th>X3</th>\n",
              "      <th>X4</th>\n",
              "      <th>X5</th>\n",
              "      <th>X6</th>\n",
              "      <th>X8</th>\n",
              "      <th>X10</th>\n",
              "      <th>X11</th>\n",
              "      <th>...</th>\n",
              "      <th>X375</th>\n",
              "      <th>X376</th>\n",
              "      <th>X377</th>\n",
              "      <th>X378</th>\n",
              "      <th>X379</th>\n",
              "      <th>X380</th>\n",
              "      <th>X382</th>\n",
              "      <th>X383</th>\n",
              "      <th>X384</th>\n",
              "      <th>X385</th>\n",
              "    </tr>\n",
              "    <tr>\n",
              "      <th>ID</th>\n",
              "      <th></th>\n",
              "      <th></th>\n",
              "      <th></th>\n",
              "      <th></th>\n",
              "      <th></th>\n",
              "      <th></th>\n",
              "      <th></th>\n",
              "      <th></th>\n",
              "      <th></th>\n",
              "      <th></th>\n",
              "      <th></th>\n",
              "      <th></th>\n",
              "      <th></th>\n",
              "      <th></th>\n",
              "      <th></th>\n",
              "      <th></th>\n",
              "      <th></th>\n",
              "      <th></th>\n",
              "      <th></th>\n",
              "      <th></th>\n",
              "      <th></th>\n",
              "    </tr>\n",
              "  </thead>\n",
              "  <tbody>\n",
              "    <tr>\n",
              "      <th>1</th>\n",
              "      <td>az</td>\n",
              "      <td>v</td>\n",
              "      <td>n</td>\n",
              "      <td>f</td>\n",
              "      <td>d</td>\n",
              "      <td>t</td>\n",
              "      <td>a</td>\n",
              "      <td>w</td>\n",
              "      <td>0</td>\n",
              "      <td>0</td>\n",
              "      <td>...</td>\n",
              "      <td>0</td>\n",
              "      <td>0</td>\n",
              "      <td>0</td>\n",
              "      <td>1</td>\n",
              "      <td>0</td>\n",
              "      <td>0</td>\n",
              "      <td>0</td>\n",
              "      <td>0</td>\n",
              "      <td>0</td>\n",
              "      <td>0</td>\n",
              "    </tr>\n",
              "    <tr>\n",
              "      <th>2</th>\n",
              "      <td>t</td>\n",
              "      <td>b</td>\n",
              "      <td>ai</td>\n",
              "      <td>a</td>\n",
              "      <td>d</td>\n",
              "      <td>b</td>\n",
              "      <td>g</td>\n",
              "      <td>y</td>\n",
              "      <td>0</td>\n",
              "      <td>0</td>\n",
              "      <td>...</td>\n",
              "      <td>0</td>\n",
              "      <td>0</td>\n",
              "      <td>1</td>\n",
              "      <td>0</td>\n",
              "      <td>0</td>\n",
              "      <td>0</td>\n",
              "      <td>0</td>\n",
              "      <td>0</td>\n",
              "      <td>0</td>\n",
              "      <td>0</td>\n",
              "    </tr>\n",
              "    <tr>\n",
              "      <th>3</th>\n",
              "      <td>az</td>\n",
              "      <td>v</td>\n",
              "      <td>as</td>\n",
              "      <td>f</td>\n",
              "      <td>d</td>\n",
              "      <td>a</td>\n",
              "      <td>j</td>\n",
              "      <td>j</td>\n",
              "      <td>0</td>\n",
              "      <td>0</td>\n",
              "      <td>...</td>\n",
              "      <td>0</td>\n",
              "      <td>0</td>\n",
              "      <td>0</td>\n",
              "      <td>1</td>\n",
              "      <td>0</td>\n",
              "      <td>0</td>\n",
              "      <td>0</td>\n",
              "      <td>0</td>\n",
              "      <td>0</td>\n",
              "      <td>0</td>\n",
              "    </tr>\n",
              "    <tr>\n",
              "      <th>4</th>\n",
              "      <td>az</td>\n",
              "      <td>l</td>\n",
              "      <td>n</td>\n",
              "      <td>f</td>\n",
              "      <td>d</td>\n",
              "      <td>z</td>\n",
              "      <td>l</td>\n",
              "      <td>n</td>\n",
              "      <td>0</td>\n",
              "      <td>0</td>\n",
              "      <td>...</td>\n",
              "      <td>0</td>\n",
              "      <td>0</td>\n",
              "      <td>0</td>\n",
              "      <td>1</td>\n",
              "      <td>0</td>\n",
              "      <td>0</td>\n",
              "      <td>0</td>\n",
              "      <td>0</td>\n",
              "      <td>0</td>\n",
              "      <td>0</td>\n",
              "    </tr>\n",
              "    <tr>\n",
              "      <th>5</th>\n",
              "      <td>w</td>\n",
              "      <td>s</td>\n",
              "      <td>as</td>\n",
              "      <td>c</td>\n",
              "      <td>d</td>\n",
              "      <td>y</td>\n",
              "      <td>i</td>\n",
              "      <td>m</td>\n",
              "      <td>0</td>\n",
              "      <td>0</td>\n",
              "      <td>...</td>\n",
              "      <td>1</td>\n",
              "      <td>0</td>\n",
              "      <td>0</td>\n",
              "      <td>0</td>\n",
              "      <td>0</td>\n",
              "      <td>0</td>\n",
              "      <td>0</td>\n",
              "      <td>0</td>\n",
              "      <td>0</td>\n",
              "      <td>0</td>\n",
              "    </tr>\n",
              "  </tbody>\n",
              "</table>\n",
              "<p>5 rows × 376 columns</p>\n",
              "</div>\n",
              "      <button class=\"colab-df-convert\" onclick=\"convertToInteractive('df-e75d18ae-81a0-40fa-b2c9-6351fce314e1')\"\n",
              "              title=\"Convert this dataframe to an interactive table.\"\n",
              "              style=\"display:none;\">\n",
              "        \n",
              "  <svg xmlns=\"http://www.w3.org/2000/svg\" height=\"24px\"viewBox=\"0 0 24 24\"\n",
              "       width=\"24px\">\n",
              "    <path d=\"M0 0h24v24H0V0z\" fill=\"none\"/>\n",
              "    <path d=\"M18.56 5.44l.94 2.06.94-2.06 2.06-.94-2.06-.94-.94-2.06-.94 2.06-2.06.94zm-11 1L8.5 8.5l.94-2.06 2.06-.94-2.06-.94L8.5 2.5l-.94 2.06-2.06.94zm10 10l.94 2.06.94-2.06 2.06-.94-2.06-.94-.94-2.06-.94 2.06-2.06.94z\"/><path d=\"M17.41 7.96l-1.37-1.37c-.4-.4-.92-.59-1.43-.59-.52 0-1.04.2-1.43.59L10.3 9.45l-7.72 7.72c-.78.78-.78 2.05 0 2.83L4 21.41c.39.39.9.59 1.41.59.51 0 1.02-.2 1.41-.59l7.78-7.78 2.81-2.81c.8-.78.8-2.07 0-2.86zM5.41 20L4 18.59l7.72-7.72 1.47 1.35L5.41 20z\"/>\n",
              "  </svg>\n",
              "      </button>\n",
              "      \n",
              "  <style>\n",
              "    .colab-df-container {\n",
              "      display:flex;\n",
              "      flex-wrap:wrap;\n",
              "      gap: 12px;\n",
              "    }\n",
              "\n",
              "    .colab-df-convert {\n",
              "      background-color: #E8F0FE;\n",
              "      border: none;\n",
              "      border-radius: 50%;\n",
              "      cursor: pointer;\n",
              "      display: none;\n",
              "      fill: #1967D2;\n",
              "      height: 32px;\n",
              "      padding: 0 0 0 0;\n",
              "      width: 32px;\n",
              "    }\n",
              "\n",
              "    .colab-df-convert:hover {\n",
              "      background-color: #E2EBFA;\n",
              "      box-shadow: 0px 1px 2px rgba(60, 64, 67, 0.3), 0px 1px 3px 1px rgba(60, 64, 67, 0.15);\n",
              "      fill: #174EA6;\n",
              "    }\n",
              "\n",
              "    [theme=dark] .colab-df-convert {\n",
              "      background-color: #3B4455;\n",
              "      fill: #D2E3FC;\n",
              "    }\n",
              "\n",
              "    [theme=dark] .colab-df-convert:hover {\n",
              "      background-color: #434B5C;\n",
              "      box-shadow: 0px 1px 3px 1px rgba(0, 0, 0, 0.15);\n",
              "      filter: drop-shadow(0px 1px 2px rgba(0, 0, 0, 0.3));\n",
              "      fill: #FFFFFF;\n",
              "    }\n",
              "  </style>\n",
              "\n",
              "      <script>\n",
              "        const buttonEl =\n",
              "          document.querySelector('#df-e75d18ae-81a0-40fa-b2c9-6351fce314e1 button.colab-df-convert');\n",
              "        buttonEl.style.display =\n",
              "          google.colab.kernel.accessAllowed ? 'block' : 'none';\n",
              "\n",
              "        async function convertToInteractive(key) {\n",
              "          const element = document.querySelector('#df-e75d18ae-81a0-40fa-b2c9-6351fce314e1');\n",
              "          const dataTable =\n",
              "            await google.colab.kernel.invokeFunction('convertToInteractive',\n",
              "                                                     [key], {});\n",
              "          if (!dataTable) return;\n",
              "\n",
              "          const docLinkHtml = 'Like what you see? Visit the ' +\n",
              "            '<a target=\"_blank\" href=https://colab.research.google.com/notebooks/data_table.ipynb>data table notebook</a>'\n",
              "            + ' to learn more about interactive tables.';\n",
              "          element.innerHTML = '';\n",
              "          dataTable['output_type'] = 'display_data';\n",
              "          await google.colab.output.renderOutput(dataTable, element);\n",
              "          const docLink = document.createElement('div');\n",
              "          docLink.innerHTML = docLinkHtml;\n",
              "          element.appendChild(docLink);\n",
              "        }\n",
              "      </script>\n",
              "    </div>\n",
              "  </div>\n",
              "  "
            ]
          },
          "metadata": {},
          "execution_count": 23
        }
      ],
      "source": [
        "# y가 없음\n",
        "test.head()"
      ]
    },
    {
      "cell_type": "markdown",
      "id": "0e933211",
      "metadata": {
        "id": "0e933211"
      },
      "source": [
        "# 1. EDA"
      ]
    },
    {
      "cell_type": "code",
      "execution_count": null,
      "id": "a71fd337",
      "metadata": {
        "id": "a71fd337",
        "colab": {
          "base_uri": "https://localhost:8080/"
        },
        "outputId": "61447117-8264-4677-a0eb-87a1073d2352"
      },
      "outputs": [
        {
          "output_type": "stream",
          "name": "stdout",
          "text": [
            "<class 'pandas.core.frame.DataFrame'>\n",
            "Int64Index: 4209 entries, 0 to 8417\n",
            "Columns: 377 entries, y to X385\n",
            "dtypes: float64(1), int64(368), object(8)\n",
            "memory usage: 12.1+ MB\n"
          ]
        }
      ],
      "source": [
        "train.info()"
      ]
    },
    {
      "cell_type": "code",
      "execution_count": null,
      "id": "cfa9cc91",
      "metadata": {
        "id": "cfa9cc91",
        "colab": {
          "base_uri": "https://localhost:8080/",
          "height": 330
        },
        "outputId": "fd10a129-5b87-4184-bff1-8c4847e4face"
      },
      "outputs": [
        {
          "output_type": "execute_result",
          "data": {
            "text/plain": [
              "                 y          X10     X11          X12          X13  \\\n",
              "count  4209.000000  4209.000000  4209.0  4209.000000  4209.000000   \n",
              "mean    100.669318     0.013305     0.0     0.075077     0.057971   \n",
              "std      12.679381     0.114590     0.0     0.263547     0.233716   \n",
              "min      72.110000     0.000000     0.0     0.000000     0.000000   \n",
              "25%      90.820000     0.000000     0.0     0.000000     0.000000   \n",
              "50%      99.150000     0.000000     0.0     0.000000     0.000000   \n",
              "75%     109.010000     0.000000     0.0     0.000000     0.000000   \n",
              "max     265.320000     1.000000     0.0     1.000000     1.000000   \n",
              "\n",
              "               X14          X15          X16          X17          X18  ...  \\\n",
              "count  4209.000000  4209.000000  4209.000000  4209.000000  4209.000000  ...   \n",
              "mean      0.428130     0.000475     0.002613     0.007603     0.007840  ...   \n",
              "std       0.494867     0.021796     0.051061     0.086872     0.088208  ...   \n",
              "min       0.000000     0.000000     0.000000     0.000000     0.000000  ...   \n",
              "25%       0.000000     0.000000     0.000000     0.000000     0.000000  ...   \n",
              "50%       0.000000     0.000000     0.000000     0.000000     0.000000  ...   \n",
              "75%       1.000000     0.000000     0.000000     0.000000     0.000000  ...   \n",
              "max       1.000000     1.000000     1.000000     1.000000     1.000000  ...   \n",
              "\n",
              "              X375         X376         X377         X378         X379  \\\n",
              "count  4209.000000  4209.000000  4209.000000  4209.000000  4209.000000   \n",
              "mean      0.318841     0.057258     0.314802     0.020670     0.009503   \n",
              "std       0.466082     0.232363     0.464492     0.142294     0.097033   \n",
              "min       0.000000     0.000000     0.000000     0.000000     0.000000   \n",
              "25%       0.000000     0.000000     0.000000     0.000000     0.000000   \n",
              "50%       0.000000     0.000000     0.000000     0.000000     0.000000   \n",
              "75%       1.000000     0.000000     1.000000     0.000000     0.000000   \n",
              "max       1.000000     1.000000     1.000000     1.000000     1.000000   \n",
              "\n",
              "              X380         X382         X383         X384         X385  \n",
              "count  4209.000000  4209.000000  4209.000000  4209.000000  4209.000000  \n",
              "mean      0.008078     0.007603     0.001663     0.000475     0.001426  \n",
              "std       0.089524     0.086872     0.040752     0.021796     0.037734  \n",
              "min       0.000000     0.000000     0.000000     0.000000     0.000000  \n",
              "25%       0.000000     0.000000     0.000000     0.000000     0.000000  \n",
              "50%       0.000000     0.000000     0.000000     0.000000     0.000000  \n",
              "75%       0.000000     0.000000     0.000000     0.000000     0.000000  \n",
              "max       1.000000     1.000000     1.000000     1.000000     1.000000  \n",
              "\n",
              "[8 rows x 369 columns]"
            ],
            "text/html": [
              "\n",
              "  <div id=\"df-11af4910-028d-4a28-9a34-c78a44e411e6\">\n",
              "    <div class=\"colab-df-container\">\n",
              "      <div>\n",
              "<style scoped>\n",
              "    .dataframe tbody tr th:only-of-type {\n",
              "        vertical-align: middle;\n",
              "    }\n",
              "\n",
              "    .dataframe tbody tr th {\n",
              "        vertical-align: top;\n",
              "    }\n",
              "\n",
              "    .dataframe thead th {\n",
              "        text-align: right;\n",
              "    }\n",
              "</style>\n",
              "<table border=\"1\" class=\"dataframe\">\n",
              "  <thead>\n",
              "    <tr style=\"text-align: right;\">\n",
              "      <th></th>\n",
              "      <th>y</th>\n",
              "      <th>X10</th>\n",
              "      <th>X11</th>\n",
              "      <th>X12</th>\n",
              "      <th>X13</th>\n",
              "      <th>X14</th>\n",
              "      <th>X15</th>\n",
              "      <th>X16</th>\n",
              "      <th>X17</th>\n",
              "      <th>X18</th>\n",
              "      <th>...</th>\n",
              "      <th>X375</th>\n",
              "      <th>X376</th>\n",
              "      <th>X377</th>\n",
              "      <th>X378</th>\n",
              "      <th>X379</th>\n",
              "      <th>X380</th>\n",
              "      <th>X382</th>\n",
              "      <th>X383</th>\n",
              "      <th>X384</th>\n",
              "      <th>X385</th>\n",
              "    </tr>\n",
              "  </thead>\n",
              "  <tbody>\n",
              "    <tr>\n",
              "      <th>count</th>\n",
              "      <td>4209.000000</td>\n",
              "      <td>4209.000000</td>\n",
              "      <td>4209.0</td>\n",
              "      <td>4209.000000</td>\n",
              "      <td>4209.000000</td>\n",
              "      <td>4209.000000</td>\n",
              "      <td>4209.000000</td>\n",
              "      <td>4209.000000</td>\n",
              "      <td>4209.000000</td>\n",
              "      <td>4209.000000</td>\n",
              "      <td>...</td>\n",
              "      <td>4209.000000</td>\n",
              "      <td>4209.000000</td>\n",
              "      <td>4209.000000</td>\n",
              "      <td>4209.000000</td>\n",
              "      <td>4209.000000</td>\n",
              "      <td>4209.000000</td>\n",
              "      <td>4209.000000</td>\n",
              "      <td>4209.000000</td>\n",
              "      <td>4209.000000</td>\n",
              "      <td>4209.000000</td>\n",
              "    </tr>\n",
              "    <tr>\n",
              "      <th>mean</th>\n",
              "      <td>100.669318</td>\n",
              "      <td>0.013305</td>\n",
              "      <td>0.0</td>\n",
              "      <td>0.075077</td>\n",
              "      <td>0.057971</td>\n",
              "      <td>0.428130</td>\n",
              "      <td>0.000475</td>\n",
              "      <td>0.002613</td>\n",
              "      <td>0.007603</td>\n",
              "      <td>0.007840</td>\n",
              "      <td>...</td>\n",
              "      <td>0.318841</td>\n",
              "      <td>0.057258</td>\n",
              "      <td>0.314802</td>\n",
              "      <td>0.020670</td>\n",
              "      <td>0.009503</td>\n",
              "      <td>0.008078</td>\n",
              "      <td>0.007603</td>\n",
              "      <td>0.001663</td>\n",
              "      <td>0.000475</td>\n",
              "      <td>0.001426</td>\n",
              "    </tr>\n",
              "    <tr>\n",
              "      <th>std</th>\n",
              "      <td>12.679381</td>\n",
              "      <td>0.114590</td>\n",
              "      <td>0.0</td>\n",
              "      <td>0.263547</td>\n",
              "      <td>0.233716</td>\n",
              "      <td>0.494867</td>\n",
              "      <td>0.021796</td>\n",
              "      <td>0.051061</td>\n",
              "      <td>0.086872</td>\n",
              "      <td>0.088208</td>\n",
              "      <td>...</td>\n",
              "      <td>0.466082</td>\n",
              "      <td>0.232363</td>\n",
              "      <td>0.464492</td>\n",
              "      <td>0.142294</td>\n",
              "      <td>0.097033</td>\n",
              "      <td>0.089524</td>\n",
              "      <td>0.086872</td>\n",
              "      <td>0.040752</td>\n",
              "      <td>0.021796</td>\n",
              "      <td>0.037734</td>\n",
              "    </tr>\n",
              "    <tr>\n",
              "      <th>min</th>\n",
              "      <td>72.110000</td>\n",
              "      <td>0.000000</td>\n",
              "      <td>0.0</td>\n",
              "      <td>0.000000</td>\n",
              "      <td>0.000000</td>\n",
              "      <td>0.000000</td>\n",
              "      <td>0.000000</td>\n",
              "      <td>0.000000</td>\n",
              "      <td>0.000000</td>\n",
              "      <td>0.000000</td>\n",
              "      <td>...</td>\n",
              "      <td>0.000000</td>\n",
              "      <td>0.000000</td>\n",
              "      <td>0.000000</td>\n",
              "      <td>0.000000</td>\n",
              "      <td>0.000000</td>\n",
              "      <td>0.000000</td>\n",
              "      <td>0.000000</td>\n",
              "      <td>0.000000</td>\n",
              "      <td>0.000000</td>\n",
              "      <td>0.000000</td>\n",
              "    </tr>\n",
              "    <tr>\n",
              "      <th>25%</th>\n",
              "      <td>90.820000</td>\n",
              "      <td>0.000000</td>\n",
              "      <td>0.0</td>\n",
              "      <td>0.000000</td>\n",
              "      <td>0.000000</td>\n",
              "      <td>0.000000</td>\n",
              "      <td>0.000000</td>\n",
              "      <td>0.000000</td>\n",
              "      <td>0.000000</td>\n",
              "      <td>0.000000</td>\n",
              "      <td>...</td>\n",
              "      <td>0.000000</td>\n",
              "      <td>0.000000</td>\n",
              "      <td>0.000000</td>\n",
              "      <td>0.000000</td>\n",
              "      <td>0.000000</td>\n",
              "      <td>0.000000</td>\n",
              "      <td>0.000000</td>\n",
              "      <td>0.000000</td>\n",
              "      <td>0.000000</td>\n",
              "      <td>0.000000</td>\n",
              "    </tr>\n",
              "    <tr>\n",
              "      <th>50%</th>\n",
              "      <td>99.150000</td>\n",
              "      <td>0.000000</td>\n",
              "      <td>0.0</td>\n",
              "      <td>0.000000</td>\n",
              "      <td>0.000000</td>\n",
              "      <td>0.000000</td>\n",
              "      <td>0.000000</td>\n",
              "      <td>0.000000</td>\n",
              "      <td>0.000000</td>\n",
              "      <td>0.000000</td>\n",
              "      <td>...</td>\n",
              "      <td>0.000000</td>\n",
              "      <td>0.000000</td>\n",
              "      <td>0.000000</td>\n",
              "      <td>0.000000</td>\n",
              "      <td>0.000000</td>\n",
              "      <td>0.000000</td>\n",
              "      <td>0.000000</td>\n",
              "      <td>0.000000</td>\n",
              "      <td>0.000000</td>\n",
              "      <td>0.000000</td>\n",
              "    </tr>\n",
              "    <tr>\n",
              "      <th>75%</th>\n",
              "      <td>109.010000</td>\n",
              "      <td>0.000000</td>\n",
              "      <td>0.0</td>\n",
              "      <td>0.000000</td>\n",
              "      <td>0.000000</td>\n",
              "      <td>1.000000</td>\n",
              "      <td>0.000000</td>\n",
              "      <td>0.000000</td>\n",
              "      <td>0.000000</td>\n",
              "      <td>0.000000</td>\n",
              "      <td>...</td>\n",
              "      <td>1.000000</td>\n",
              "      <td>0.000000</td>\n",
              "      <td>1.000000</td>\n",
              "      <td>0.000000</td>\n",
              "      <td>0.000000</td>\n",
              "      <td>0.000000</td>\n",
              "      <td>0.000000</td>\n",
              "      <td>0.000000</td>\n",
              "      <td>0.000000</td>\n",
              "      <td>0.000000</td>\n",
              "    </tr>\n",
              "    <tr>\n",
              "      <th>max</th>\n",
              "      <td>265.320000</td>\n",
              "      <td>1.000000</td>\n",
              "      <td>0.0</td>\n",
              "      <td>1.000000</td>\n",
              "      <td>1.000000</td>\n",
              "      <td>1.000000</td>\n",
              "      <td>1.000000</td>\n",
              "      <td>1.000000</td>\n",
              "      <td>1.000000</td>\n",
              "      <td>1.000000</td>\n",
              "      <td>...</td>\n",
              "      <td>1.000000</td>\n",
              "      <td>1.000000</td>\n",
              "      <td>1.000000</td>\n",
              "      <td>1.000000</td>\n",
              "      <td>1.000000</td>\n",
              "      <td>1.000000</td>\n",
              "      <td>1.000000</td>\n",
              "      <td>1.000000</td>\n",
              "      <td>1.000000</td>\n",
              "      <td>1.000000</td>\n",
              "    </tr>\n",
              "  </tbody>\n",
              "</table>\n",
              "<p>8 rows × 369 columns</p>\n",
              "</div>\n",
              "      <button class=\"colab-df-convert\" onclick=\"convertToInteractive('df-11af4910-028d-4a28-9a34-c78a44e411e6')\"\n",
              "              title=\"Convert this dataframe to an interactive table.\"\n",
              "              style=\"display:none;\">\n",
              "        \n",
              "  <svg xmlns=\"http://www.w3.org/2000/svg\" height=\"24px\"viewBox=\"0 0 24 24\"\n",
              "       width=\"24px\">\n",
              "    <path d=\"M0 0h24v24H0V0z\" fill=\"none\"/>\n",
              "    <path d=\"M18.56 5.44l.94 2.06.94-2.06 2.06-.94-2.06-.94-.94-2.06-.94 2.06-2.06.94zm-11 1L8.5 8.5l.94-2.06 2.06-.94-2.06-.94L8.5 2.5l-.94 2.06-2.06.94zm10 10l.94 2.06.94-2.06 2.06-.94-2.06-.94-.94-2.06-.94 2.06-2.06.94z\"/><path d=\"M17.41 7.96l-1.37-1.37c-.4-.4-.92-.59-1.43-.59-.52 0-1.04.2-1.43.59L10.3 9.45l-7.72 7.72c-.78.78-.78 2.05 0 2.83L4 21.41c.39.39.9.59 1.41.59.51 0 1.02-.2 1.41-.59l7.78-7.78 2.81-2.81c.8-.78.8-2.07 0-2.86zM5.41 20L4 18.59l7.72-7.72 1.47 1.35L5.41 20z\"/>\n",
              "  </svg>\n",
              "      </button>\n",
              "      \n",
              "  <style>\n",
              "    .colab-df-container {\n",
              "      display:flex;\n",
              "      flex-wrap:wrap;\n",
              "      gap: 12px;\n",
              "    }\n",
              "\n",
              "    .colab-df-convert {\n",
              "      background-color: #E8F0FE;\n",
              "      border: none;\n",
              "      border-radius: 50%;\n",
              "      cursor: pointer;\n",
              "      display: none;\n",
              "      fill: #1967D2;\n",
              "      height: 32px;\n",
              "      padding: 0 0 0 0;\n",
              "      width: 32px;\n",
              "    }\n",
              "\n",
              "    .colab-df-convert:hover {\n",
              "      background-color: #E2EBFA;\n",
              "      box-shadow: 0px 1px 2px rgba(60, 64, 67, 0.3), 0px 1px 3px 1px rgba(60, 64, 67, 0.15);\n",
              "      fill: #174EA6;\n",
              "    }\n",
              "\n",
              "    [theme=dark] .colab-df-convert {\n",
              "      background-color: #3B4455;\n",
              "      fill: #D2E3FC;\n",
              "    }\n",
              "\n",
              "    [theme=dark] .colab-df-convert:hover {\n",
              "      background-color: #434B5C;\n",
              "      box-shadow: 0px 1px 3px 1px rgba(0, 0, 0, 0.15);\n",
              "      filter: drop-shadow(0px 1px 2px rgba(0, 0, 0, 0.3));\n",
              "      fill: #FFFFFF;\n",
              "    }\n",
              "  </style>\n",
              "\n",
              "      <script>\n",
              "        const buttonEl =\n",
              "          document.querySelector('#df-11af4910-028d-4a28-9a34-c78a44e411e6 button.colab-df-convert');\n",
              "        buttonEl.style.display =\n",
              "          google.colab.kernel.accessAllowed ? 'block' : 'none';\n",
              "\n",
              "        async function convertToInteractive(key) {\n",
              "          const element = document.querySelector('#df-11af4910-028d-4a28-9a34-c78a44e411e6');\n",
              "          const dataTable =\n",
              "            await google.colab.kernel.invokeFunction('convertToInteractive',\n",
              "                                                     [key], {});\n",
              "          if (!dataTable) return;\n",
              "\n",
              "          const docLinkHtml = 'Like what you see? Visit the ' +\n",
              "            '<a target=\"_blank\" href=https://colab.research.google.com/notebooks/data_table.ipynb>data table notebook</a>'\n",
              "            + ' to learn more about interactive tables.';\n",
              "          element.innerHTML = '';\n",
              "          dataTable['output_type'] = 'display_data';\n",
              "          await google.colab.output.renderOutput(dataTable, element);\n",
              "          const docLink = document.createElement('div');\n",
              "          docLink.innerHTML = docLinkHtml;\n",
              "          element.appendChild(docLink);\n",
              "        }\n",
              "      </script>\n",
              "    </div>\n",
              "  </div>\n",
              "  "
            ]
          },
          "metadata": {},
          "execution_count": 25
        }
      ],
      "source": [
        "train.describe()"
      ]
    },
    {
      "cell_type": "code",
      "execution_count": null,
      "id": "55b7baf1",
      "metadata": {
        "id": "55b7baf1",
        "colab": {
          "base_uri": "https://localhost:8080/"
        },
        "outputId": "54e3e4d6-597d-41fb-f4ee-e062228f177c"
      },
      "outputs": [
        {
          "output_type": "execute_result",
          "data": {
            "text/plain": [
              "X290       1\n",
              "X235       1\n",
              "X11        1\n",
              "X297       1\n",
              "X347       1\n",
              "        ... \n",
              "X1        27\n",
              "X5        29\n",
              "X2        44\n",
              "X0        47\n",
              "y       2545\n",
              "Length: 377, dtype: int64"
            ]
          },
          "metadata": {},
          "execution_count": 26
        }
      ],
      "source": [
        "train_nunique = train.nunique().sort_values()\n",
        "train_nunique"
      ]
    },
    {
      "cell_type": "code",
      "execution_count": null,
      "id": "505642e2",
      "metadata": {
        "id": "505642e2",
        "colab": {
          "base_uri": "https://localhost:8080/"
        },
        "outputId": "eac9e62e-2bb7-4711-d605-5ecc752a11ba"
      },
      "outputs": [
        {
          "output_type": "execute_result",
          "data": {
            "text/plain": [
              "Index(['X290', 'X235', 'X11', 'X297', 'X347', 'X268', 'X107', 'X293', 'X330',\n",
              "       'X289', 'X93', 'X233'],\n",
              "      dtype='object')"
            ]
          },
          "metadata": {},
          "execution_count": 27
        }
      ],
      "source": [
        "train_one_idx = train_nunique[train_nunique == 1].index\n",
        "train_one_idx"
      ]
    },
    {
      "cell_type": "code",
      "execution_count": null,
      "id": "a5322335",
      "metadata": {
        "id": "a5322335"
      },
      "outputs": [],
      "source": [
        "train = train.drop(columns=train_one_idx)\n",
        "test = test.drop(columns=train_one_idx)"
      ]
    },
    {
      "cell_type": "markdown",
      "metadata": {
        "id": "a9a769d9"
      },
      "source": [
        "## 이상치 제거"
      ],
      "id": "a9a769d9"
    },
    {
      "cell_type": "code",
      "source": [
        "sns.scatterplot(data=train, x=train.index, y=\"y\")"
      ],
      "metadata": {
        "colab": {
          "base_uri": "https://localhost:8080/",
          "height": 297
        },
        "id": "ocFChr8fMvZe",
        "outputId": "bc281f3d-0b9e-4b19-9a93-9586c2ecdc2f"
      },
      "id": "ocFChr8fMvZe",
      "execution_count": null,
      "outputs": [
        {
          "output_type": "execute_result",
          "data": {
            "text/plain": [
              "<matplotlib.axes._subplots.AxesSubplot at 0x7f57ab2e24f0>"
            ]
          },
          "metadata": {},
          "execution_count": 29
        },
        {
          "output_type": "display_data",
          "data": {
            "text/plain": [
              "<Figure size 432x288 with 1 Axes>"
            ],
            "image/png": "[encoded data removed]"
          },
          "metadata": {
            "needs_background": "light"
          }
        }
      ]
    },
    {
      "cell_type": "code",
      "execution_count": null,
      "metadata": {
        "id": "8e999af8",
        "outputId": "17a33c37-b0e5-4194-b8e8-28433e79de6e",
        "colab": {
          "base_uri": "https://localhost:8080/",
          "height": 141
        }
      },
      "outputs": [
        {
          "output_type": "execute_result",
          "data": {
            "text/plain": [
              "           y X0 X1  X2 X3 X4  X5 X6 X8  X10  ...  X375  X376  X377  X378  \\\n",
              "ID                                           ...                           \n",
              "1770  265.32  y  r  ai  f  d  ag  l  t    0  ...     0     0     0     0   \n",
              "\n",
              "      X379  X380  X382  X383  X384  X385  \n",
              "ID                                        \n",
              "1770     0     0     0     0     0     0  \n",
              "\n",
              "[1 rows x 365 columns]"
            ],
            "text/html": [
              "\n",
              "  <div id=\"df-303155b8-6c06-4b62-aa42-5cab40cacc55\">\n",
              "    <div class=\"colab-df-container\">\n",
              "      <div>\n",
              "<style scoped>\n",
              "    .dataframe tbody tr th:only-of-type {\n",
              "        vertical-align: middle;\n",
              "    }\n",
              "\n",
              "    .dataframe tbody tr th {\n",
              "        vertical-align: top;\n",
              "    }\n",
              "\n",
              "    .dataframe thead th {\n",
              "        text-align: right;\n",
              "    }\n",
              "</style>\n",
              "<table border=\"1\" class=\"dataframe\">\n",
              "  <thead>\n",
              "    <tr style=\"text-align: right;\">\n",
              "      <th></th>\n",
              "      <th>y</th>\n",
              "      <th>X0</th>\n",
              "      <th>X1</th>\n",
              "      <th>X2</th>\n",
              "      <th>X3</th>\n",
              "      <th>X4</th>\n",
              "      <th>X5</th>\n",
              "      <th>X6</th>\n",
              "      <th>X8</th>\n",
              "      <th>X10</th>\n",
              "      <th>...</th>\n",
              "      <th>X375</th>\n",
              "      <th>X376</th>\n",
              "      <th>X377</th>\n",
              "      <th>X378</th>\n",
              "      <th>X379</th>\n",
              "      <th>X380</th>\n",
              "      <th>X382</th>\n",
              "      <th>X383</th>\n",
              "      <th>X384</th>\n",
              "      <th>X385</th>\n",
              "    </tr>\n",
              "    <tr>\n",
              "      <th>ID</th>\n",
              "      <th></th>\n",
              "      <th></th>\n",
              "      <th></th>\n",
              "      <th></th>\n",
              "      <th></th>\n",
              "      <th></th>\n",
              "      <th></th>\n",
              "      <th></th>\n",
              "      <th></th>\n",
              "      <th></th>\n",
              "      <th></th>\n",
              "      <th></th>\n",
              "      <th></th>\n",
              "      <th></th>\n",
              "      <th></th>\n",
              "      <th></th>\n",
              "      <th></th>\n",
              "      <th></th>\n",
              "      <th></th>\n",
              "      <th></th>\n",
              "      <th></th>\n",
              "    </tr>\n",
              "  </thead>\n",
              "  <tbody>\n",
              "    <tr>\n",
              "      <th>1770</th>\n",
              "      <td>265.32</td>\n",
              "      <td>y</td>\n",
              "      <td>r</td>\n",
              "      <td>ai</td>\n",
              "      <td>f</td>\n",
              "      <td>d</td>\n",
              "      <td>ag</td>\n",
              "      <td>l</td>\n",
              "      <td>t</td>\n",
              "      <td>0</td>\n",
              "      <td>...</td>\n",
              "      <td>0</td>\n",
              "      <td>0</td>\n",
              "      <td>0</td>\n",
              "      <td>0</td>\n",
              "      <td>0</td>\n",
              "      <td>0</td>\n",
              "      <td>0</td>\n",
              "      <td>0</td>\n",
              "      <td>0</td>\n",
              "      <td>0</td>\n",
              "    </tr>\n",
              "  </tbody>\n",
              "</table>\n",
              "<p>1 rows × 365 columns</p>\n",
              "</div>\n",
              "      <button class=\"colab-df-convert\" onclick=\"convertToInteractive('df-303155b8-6c06-4b62-aa42-5cab40cacc55')\"\n",
              "              title=\"Convert this dataframe to an interactive table.\"\n",
              "              style=\"display:none;\">\n",
              "        \n",
              "  <svg xmlns=\"http://www.w3.org/2000/svg\" height=\"24px\"viewBox=\"0 0 24 24\"\n",
              "       width=\"24px\">\n",
              "    <path d=\"M0 0h24v24H0V0z\" fill=\"none\"/>\n",
              "    <path d=\"M18.56 5.44l.94 2.06.94-2.06 2.06-.94-2.06-.94-.94-2.06-.94 2.06-2.06.94zm-11 1L8.5 8.5l.94-2.06 2.06-.94-2.06-.94L8.5 2.5l-.94 2.06-2.06.94zm10 10l.94 2.06.94-2.06 2.06-.94-2.06-.94-.94-2.06-.94 2.06-2.06.94z\"/><path d=\"M17.41 7.96l-1.37-1.37c-.4-.4-.92-.59-1.43-.59-.52 0-1.04.2-1.43.59L10.3 9.45l-7.72 7.72c-.78.78-.78 2.05 0 2.83L4 21.41c.39.39.9.59 1.41.59.51 0 1.02-.2 1.41-.59l7.78-7.78 2.81-2.81c.8-.78.8-2.07 0-2.86zM5.41 20L4 18.59l7.72-7.72 1.47 1.35L5.41 20z\"/>\n",
              "  </svg>\n",
              "      </button>\n",
              "      \n",
              "  <style>\n",
              "    .colab-df-container {\n",
              "      display:flex;\n",
              "      flex-wrap:wrap;\n",
              "      gap: 12px;\n",
              "    }\n",
              "\n",
              "    .colab-df-convert {\n",
              "      background-color: #E8F0FE;\n",
              "      border: none;\n",
              "      border-radius: 50%;\n",
              "      cursor: pointer;\n",
              "      display: none;\n",
              "      fill: #1967D2;\n",
              "      height: 32px;\n",
              "      padding: 0 0 0 0;\n",
              "      width: 32px;\n",
              "    }\n",
              "\n",
              "    .colab-df-convert:hover {\n",
              "      background-color: #E2EBFA;\n",
              "      box-shadow: 0px 1px 2px rgba(60, 64, 67, 0.3), 0px 1px 3px 1px rgba(60, 64, 67, 0.15);\n",
              "      fill: #174EA6;\n",
              "    }\n",
              "\n",
              "    [theme=dark] .colab-df-convert {\n",
              "      background-color: #3B4455;\n",
              "      fill: #D2E3FC;\n",
              "    }\n",
              "\n",
              "    [theme=dark] .colab-df-convert:hover {\n",
              "      background-color: #434B5C;\n",
              "      box-shadow: 0px 1px 3px 1px rgba(0, 0, 0, 0.15);\n",
              "      filter: drop-shadow(0px 1px 2px rgba(0, 0, 0, 0.3));\n",
              "      fill: #FFFFFF;\n",
              "    }\n",
              "  </style>\n",
              "\n",
              "      <script>\n",
              "        const buttonEl =\n",
              "          document.querySelector('#df-303155b8-6c06-4b62-aa42-5cab40cacc55 button.colab-df-convert');\n",
              "        buttonEl.style.display =\n",
              "          google.colab.kernel.accessAllowed ? 'block' : 'none';\n",
              "\n",
              "        async function convertToInteractive(key) {\n",
              "          const element = document.querySelector('#df-303155b8-6c06-4b62-aa42-5cab40cacc55');\n",
              "          const dataTable =\n",
              "            await google.colab.kernel.invokeFunction('convertToInteractive',\n",
              "                                                     [key], {});\n",
              "          if (!dataTable) return;\n",
              "\n",
              "          const docLinkHtml = 'Like what you see? Visit the ' +\n",
              "            '<a target=\"_blank\" href=https://colab.research.google.com/notebooks/data_table.ipynb>data table notebook</a>'\n",
              "            + ' to learn more about interactive tables.';\n",
              "          element.innerHTML = '';\n",
              "          dataTable['output_type'] = 'display_data';\n",
              "          await google.colab.output.renderOutput(dataTable, element);\n",
              "          const docLink = document.createElement('div');\n",
              "          docLink.innerHTML = docLinkHtml;\n",
              "          element.appendChild(docLink);\n",
              "        }\n",
              "      </script>\n",
              "    </div>\n",
              "  </div>\n",
              "  "
            ]
          },
          "metadata": {},
          "execution_count": 30
        }
      ],
      "source": [
        "train[train[\"y\"] > 200]"
      ],
      "id": "8e999af8"
    },
    {
      "cell_type": "code",
      "execution_count": null,
      "metadata": {
        "id": "3d892aec",
        "outputId": "ee02f46e-affe-4dc1-fad7-ded2d2fe3feb",
        "colab": {
          "base_uri": "https://localhost:8080/"
        }
      },
      "outputs": [
        {
          "output_type": "execute_result",
          "data": {
            "text/plain": [
              "(4208, 365)"
            ]
          },
          "metadata": {},
          "execution_count": 31
        }
      ],
      "source": [
        "train = train[train[\"y\"] < 200].copy()\n",
        "train.shape"
      ],
      "id": "3d892aec"
    },
    {
      "cell_type": "markdown",
      "metadata": {
        "id": "d3d47421"
      },
      "source": [
        "#2. Feature Engineering\n",
        "- One-Hot-Encoding"
      ],
      "id": "d3d47421"
    },
    {
      "cell_type": "code",
      "source": [
        "from sklearn.preprocessing import OneHotEncoder\n",
        "\n",
        "ohe = OneHotEncoder(handle_unknown=\"ignore\")\n",
        "train_ohe = ohe.fit_transform(train.drop(columns=\"y\"))\n",
        "test_ohe = ohe.transform(test)\n",
        "\n",
        "train_ohe.shape, test_ohe.shape"
      ],
      "metadata": {
        "colab": {
          "base_uri": "https://localhost:8080/"
        },
        "id": "9x2SoYyVOAwS",
        "outputId": "32664a80-9edb-432e-c15f-06abd0005700"
      },
      "id": "9x2SoYyVOAwS",
      "execution_count": null,
      "outputs": [
        {
          "output_type": "execute_result",
          "data": {
            "text/plain": [
              "((4208, 907), (4209, 907))"
            ]
          },
          "metadata": {},
          "execution_count": 32
        }
      ]
    },
    {
      "cell_type": "markdown",
      "id": "bf6df29e",
      "metadata": {
        "id": "bf6df29e"
      },
      "source": [
        "#3. 데이터 나누기"
      ]
    },
    {
      "cell_type": "code",
      "execution_count": null,
      "id": "b5b6e6ca",
      "metadata": {
        "id": "b5b6e6ca",
        "colab": {
          "base_uri": "https://localhost:8080/"
        },
        "outputId": "5b41b1cb-d413-41b4-8b78-17524c551c57"
      },
      "outputs": [
        {
          "output_type": "execute_result",
          "data": {
            "text/plain": [
              "((4208, 907), (4208,))"
            ]
          },
          "metadata": {},
          "execution_count": 33
        }
      ],
      "source": [
        "X = train_ohe\n",
        "y = train[\"y\"]\n",
        "X.shape, y.shape"
      ]
    },
    {
      "cell_type": "code",
      "execution_count": null,
      "id": "7fc3b1a8",
      "metadata": {
        "id": "7fc3b1a8",
        "colab": {
          "base_uri": "https://localhost:8080/"
        },
        "outputId": "49bd41de-5fb1-430b-8425-dcb492515f51"
      },
      "outputs": [
        {
          "output_type": "execute_result",
          "data": {
            "text/plain": [
              "((3787, 907), (421, 907), (3787,), (421,))"
            ]
          },
          "metadata": {},
          "execution_count": 34
        }
      ],
      "source": [
        "from sklearn.model_selection import train_test_split\n",
        "\n",
        "X_train, X_valid, y_train, y_valid = train_test_split(\n",
        "    X, y, test_size=0.1, random_state=42)\n",
        "\n",
        "X_train.shape, X_valid.shape, y_train.shape, y_valid.shape"
      ]
    },
    {
      "cell_type": "code",
      "source": [
        "X_test = test_ohe\n",
        "X_test.shape"
      ],
      "metadata": {
        "colab": {
          "base_uri": "https://localhost:8080/"
        },
        "id": "wrTeDp5KTPXp",
        "outputId": "c249ec77-c669-4f04-c044-620e7919b8c6"
      },
      "id": "wrTeDp5KTPXp",
      "execution_count": null,
      "outputs": [
        {
          "output_type": "execute_result",
          "data": {
            "text/plain": [
              "(4209, 907)"
            ]
          },
          "metadata": {},
          "execution_count": 41
        }
      ]
    },
    {
      "cell_type": "markdown",
      "id": "8e90a1f1",
      "metadata": {
        "id": "8e90a1f1"
      },
      "source": [
        "# 4. LinearRegression"
      ]
    },
    {
      "cell_type": "code",
      "execution_count": null,
      "id": "ff68f36f",
      "metadata": {
        "id": "ff68f36f",
        "colab": {
          "base_uri": "https://localhost:8080/"
        },
        "outputId": "c44838b5-b015-48dc-b8a4-1869531a2dfc"
      },
      "outputs": [
        {
          "output_type": "execute_result",
          "data": {
            "text/plain": [
              "LinearRegression(n_jobs=-1)"
            ]
          },
          "metadata": {},
          "execution_count": 51
        }
      ],
      "source": [
        "from sklearn.linear_model import LinearRegression\n",
        "\n",
        "model_linear = LinearRegression(n_jobs=-1)\n",
        "model_linear"
      ]
    },
    {
      "cell_type": "code",
      "source": [
        "model_linear.fit(X_train, y_train)"
      ],
      "metadata": {
        "colab": {
          "base_uri": "https://localhost:8080/"
        },
        "id": "ifUOAHQvP_Td",
        "outputId": "2c3ef5c0-81bd-4899-bb8d-391964380bb3"
      },
      "id": "ifUOAHQvP_Td",
      "execution_count": null,
      "outputs": [
        {
          "output_type": "execute_result",
          "data": {
            "text/plain": [
              "LinearRegression(n_jobs=-1)"
            ]
          },
          "metadata": {},
          "execution_count": 52
        }
      ]
    },
    {
      "cell_type": "code",
      "source": [
        "y_predict = model_linear.predict(X_valid)"
      ],
      "metadata": {
        "id": "SUC95wGnQDJX"
      },
      "id": "SUC95wGnQDJX",
      "execution_count": null,
      "outputs": []
    },
    {
      "cell_type": "code",
      "source": [
        "from sklearn.metrics import r2_score\n",
        "\n",
        "score = r2_score(y_valid, y_predict)\n",
        "score"
      ],
      "metadata": {
        "colab": {
          "base_uri": "https://localhost:8080/"
        },
        "id": "cfUhP5jXQNa-",
        "outputId": "57c862c4-43b8-4b25-9081-3348e016c7f9"
      },
      "id": "cfUhP5jXQNa-",
      "execution_count": null,
      "outputs": [
        {
          "output_type": "execute_result",
          "data": {
            "text/plain": [
              "0.49472857438585705"
            ]
          },
          "metadata": {},
          "execution_count": 54
        }
      ]
    },
    {
      "cell_type": "code",
      "source": [
        "y_test = model_linear.predict(X_test)"
      ],
      "metadata": {
        "id": "rH2zWjFRTyjU"
      },
      "id": "rH2zWjFRTyjU",
      "execution_count": null,
      "outputs": []
    },
    {
      "cell_type": "code",
      "execution_count": null,
      "id": "0b63e9d0",
      "metadata": {
        "id": "0b63e9d0"
      },
      "outputs": [],
      "source": [
        "submit[\"y\"] = y_test"
      ]
    },
    {
      "cell_type": "code",
      "source": [
        "file_name = f\"linear_{score:.5f}.csv\""
      ],
      "metadata": {
        "id": "IcfaUAKDT-oz"
      },
      "id": "IcfaUAKDT-oz",
      "execution_count": null,
      "outputs": []
    },
    {
      "cell_type": "code",
      "source": [
        "submit.to_csv(file_name, index=True)"
      ],
      "metadata": {
        "id": "Ia3D8BMuUIYw"
      },
      "id": "Ia3D8BMuUIYw",
      "execution_count": null,
      "outputs": []
    },
    {
      "cell_type": "markdown",
      "source": [
        "![image.png](data:image/png;base64,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)"
      ],
      "metadata": {
        "id": "xXYyFiqbVrcg"
      },
      "id": "xXYyFiqbVrcg"
    },
    {
      "cell_type": "markdown",
      "source": [
        "# 5. Gradient Boosting Tree"
      ],
      "metadata": {
        "id": "lYNS26KRVNlV"
      },
      "id": "lYNS26KRVNlV"
    },
    {
      "cell_type": "code",
      "source": [
        "from sklearn.ensemble import GradientBoostingRegressor\n",
        "model_gbt = GradientBoostingRegressor(random_state=42)\n",
        "model_gbt"
      ],
      "metadata": {
        "colab": {
          "base_uri": "https://localhost:8080/"
        },
        "id": "PlOtb_1OUK9O",
        "outputId": "17a933b7-b8bc-41d7-ffaf-adbeb1d32e34"
      },
      "id": "PlOtb_1OUK9O",
      "execution_count": null,
      "outputs": [
        {
          "output_type": "execute_result",
          "data": {
            "text/plain": [
              "GradientBoostingRegressor(random_state=42)"
            ]
          },
          "metadata": {},
          "execution_count": 50
        }
      ]
    },
    {
      "cell_type": "code",
      "source": [
        "model_gbt.fit(X_train, y_train)"
      ],
      "metadata": {
        "colab": {
          "base_uri": "https://localhost:8080/"
        },
        "id": "2V5IfpLUVV93",
        "outputId": "96f4cd0b-0283-4cc5-8502-fe1821803e6f"
      },
      "id": "2V5IfpLUVV93",
      "execution_count": null,
      "outputs": [
        {
          "output_type": "execute_result",
          "data": {
            "text/plain": [
              "GradientBoostingRegressor(random_state=42)"
            ]
          },
          "metadata": {},
          "execution_count": 59
        }
      ]
    },
    {
      "cell_type": "code",
      "source": [
        "y_predict = model_gbt.predict(X_valid)"
      ],
      "metadata": {
        "id": "n94fZLMBVtnI"
      },
      "id": "n94fZLMBVtnI",
      "execution_count": null,
      "outputs": []
    },
    {
      "cell_type": "code",
      "source": [
        "score = r2_score(y_valid, y_predict)\n",
        "score"
      ],
      "metadata": {
        "colab": {
          "base_uri": "https://localhost:8080/"
        },
        "id": "Or_Uq-p3VwjK",
        "outputId": "0035dd2a-b69e-420a-e094-2c3ee69ad0d2"
      },
      "id": "Or_Uq-p3VwjK",
      "execution_count": null,
      "outputs": [
        {
          "output_type": "execute_result",
          "data": {
            "text/plain": [
              "0.5316456718499794"
            ]
          },
          "metadata": {},
          "execution_count": 61
        }
      ]
    },
    {
      "cell_type": "code",
      "source": [
        "y_test = model_gbt.predict(X_test)"
      ],
      "metadata": {
        "id": "XKLnPf0mVyQN"
      },
      "id": "XKLnPf0mVyQN",
      "execution_count": null,
      "outputs": []
    },
    {
      "cell_type": "code",
      "source": [
        "submit[\"y\"] = y_test"
      ],
      "metadata": {
        "id": "TXB2BgihV09v"
      },
      "id": "TXB2BgihV09v",
      "execution_count": null,
      "outputs": []
    },
    {
      "cell_type": "code",
      "source": [
        "file_name = f\"gbt_{score:.5f}.csv\""
      ],
      "metadata": {
        "id": "0HGVxY7JV1xB"
      },
      "id": "0HGVxY7JV1xB",
      "execution_count": null,
      "outputs": []
    },
    {
      "cell_type": "code",
      "source": [
        "submit.to_csv(file_name, index=True)"
      ],
      "metadata": {
        "id": "bL2bFbtzV2pS"
      },
      "id": "bL2bFbtzV2pS",
      "execution_count": null,
      "outputs": []
    },
    {
      "cell_type": "markdown",
      "source": [
        "![image.png](data:image/png;base64,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)"
      ],
      "metadata": {
        "id": "zl2gLDvhWHns"
      },
      "id": "zl2gLDvhWHns"
    },
    {
      "cell_type": "markdown",
      "source": [
        "#6. XGBoost"
      ],
      "metadata": {
        "id": "SRsjUP0ReMWa"
      },
      "id": "SRsjUP0ReMWa"
    },
    {
      "cell_type": "code",
      "source": [
        "import xgboost as xgb\n",
        "from xgboost import XGBRegressor\n",
        "\n",
        "xgb_model = XGBRegressor(n_jobs=-1, random_state=42)\n",
        "\n",
        "xgb_model"
      ],
      "metadata": {
        "colab": {
          "base_uri": "https://localhost:8080/"
        },
        "id": "_jbYk1mGfvgw",
        "outputId": "178d0ec1-8890-431e-eeee-2ca4c7bfc59b"
      },
      "id": "_jbYk1mGfvgw",
      "execution_count": null,
      "outputs": [
        {
          "output_type": "execute_result",
          "data": {
            "text/plain": [
              "XGBRegressor(n_jobs=-1, random_state=42)"
            ]
          },
          "metadata": {},
          "execution_count": 98
        }
      ]
    },
    {
      "cell_type": "code",
      "source": [
        "xgb_model.fit(X_train, y_train)"
      ],
      "metadata": {
        "colab": {
          "base_uri": "https://localhost:8080/"
        },
        "id": "XyBbYY07fvwy",
        "outputId": "48c8c51c-360a-4fcf-acc7-b3aaab03408a"
      },
      "id": "XyBbYY07fvwy",
      "execution_count": null,
      "outputs": [
        {
          "output_type": "stream",
          "name": "stdout",
          "text": [
            "[10:04:24] WARNING: /workspace/src/objective/regression_obj.cu:152: reg:linear is now deprecated in favor of reg:squarederror.\n"
          ]
        },
        {
          "output_type": "execute_result",
          "data": {
            "text/plain": [
              "XGBRegressor(n_jobs=-1, random_state=42)"
            ]
          },
          "metadata": {},
          "execution_count": 99
        }
      ]
    },
    {
      "cell_type": "code",
      "source": [
        "y_predict = xgb_model.predict(X_valid)"
      ],
      "metadata": {
        "id": "UpEvtx6gfvzC"
      },
      "id": "UpEvtx6gfvzC",
      "execution_count": null,
      "outputs": []
    },
    {
      "cell_type": "code",
      "source": [
        "score = r2_score(y_valid, y_predict)\n",
        "score"
      ],
      "metadata": {
        "colab": {
          "base_uri": "https://localhost:8080/"
        },
        "id": "TtlX7lZ5fv1V",
        "outputId": "1eccfd8b-cf29-4b60-c2d7-b5de68342475"
      },
      "id": "TtlX7lZ5fv1V",
      "execution_count": null,
      "outputs": [
        {
          "output_type": "execute_result",
          "data": {
            "text/plain": [
              "0.5434396045551741"
            ]
          },
          "metadata": {},
          "execution_count": 101
        }
      ]
    },
    {
      "cell_type": "code",
      "source": [
        "y_test = xgb_model.predict(X_test)"
      ],
      "metadata": {
        "id": "GsZjHq5KgbzC"
      },
      "id": "GsZjHq5KgbzC",
      "execution_count": null,
      "outputs": []
    },
    {
      "cell_type": "code",
      "source": [
        "submit[\"y\"] = y_test"
      ],
      "metadata": {
        "id": "12ecvs9vgd4X"
      },
      "id": "12ecvs9vgd4X",
      "execution_count": null,
      "outputs": []
    },
    {
      "cell_type": "code",
      "source": [
        "file_name = f\"xgb_{score:.5f}.csv\""
      ],
      "metadata": {
        "id": "Gu2jjzhFgfQc"
      },
      "id": "Gu2jjzhFgfQc",
      "execution_count": null,
      "outputs": []
    },
    {
      "cell_type": "code",
      "source": [
        "submit.to_csv(file_name, index=True)"
      ],
      "metadata": {
        "id": "Oh3gC1O5r1y1"
      },
      "id": "Oh3gC1O5r1y1",
      "execution_count": null,
      "outputs": []
    },
    {
      "cell_type": "markdown",
      "source": [
        "![image.png](data:image/png;base64,iVBORw0KGgoAAAANSUhEUgAABGEAAABDCAYAAAA8uxgcAAAAAXNSR0IArs4c6QAAAARnQU1BAACxjwv8YQUAAAAJcEhZcwAADsMAAA7DAcdvqGQAAC06SURBVHhe7d0NXFRV/j/wj6sxiYZJUbCClGDtgraB/ixIC9Y0NYzMBW1lKVF+az60EmVKa0gWoom4qVTiw0ZQIqZNWCpGYBqoPwFLYTeFWgQX10mMER9m1Pyfc+8dGMYB0RRz/593r5H7NPeee++h1+t8Oed7OlwQQERERERERERE19SvtJ9ERERERERERHQNMQhDRERERERERNQOGIQhIiIiIiIiImoHDMIQEREREREREbUDBmGIiIiIiIiIiNoBgzBERERERERERO2AQRgiIiIiIiIionbAIAwRERERERERUTtgEIaIiIiIiIiIqB0wCENERERERERE1A4YhCEiIiIiIiIiagcMwhARERERERERtQMGYYiIiIiIiIiI2gGDMERERERERERE7YBBGCIiIiIiIiKidsAgDBERERERERFRO+hwQdCWqZ0Y92QgbbsBLoMmILK/k7b1yhh2ZGBpRjaKawGP+8LwpykRCHTVdrakKhfJ68u0leZaK5OhYCXSS41iyQXBEyLgb3OYsbIAH/89G2u/qQG6eSE4bCKih/vAqZN2gB2m8hws3VKhLPs+FYNhnsqiHQbkL89AyUmxeEcQosf54ec9OSIiIiIiIqL2xSDMdWBYF40BMwoQvKAQq/7gom29XCaUJIVi9PJKbd3CC9Fr9Yjrr9PW7ShKwt3jVmorzbVYpuO5mD5oCvSn5EoQkgrTMMYq2FO9YQpCYnMhQzTWdIMTsfXtMHjYC8ScK8fSEU8iuUKtgtFrD4pyK4sXMX72AgZMzRF3LQQlYveqMFzpkyMiIiIiIiK6Hjgc6QZl2pGEP8oAjNcEZBYfxPffHcTX6RPQu0Ml0p5NQr7sMdICw+HvlJ/DFuTj6+LiZp/FI+2FNozYPOcF6E/poHPUNlkz5iJZBmAcg5C0db9Slu8P5CPp0ZthyotDcq5taEZVlvYCFlU42D+nteO5eHVGDkyO4vraJiIiIiIiIqIbzfULwphqUbb7U6SvmY2n34nEwJRH4Kl9Bi6diKffW4z0/BJU/Kgdf53lJ4QjJDQUyUVKXwyFqTQV48S2kNm5MGjbYCyHPmmKcmzIpFQUih0ly8WyWE8r1Y5pZIKhaCWmR8r9kZi+vAiGc9quVhmRn52h9AqJfCUGgd3VrU4DYzBrXAfgVAb02+wHPqSjBnX4j8dd7nDq7tT8YyfKYSpIwfQcEzyi4hE7QNto7bg417TJmLpgJsZ4aSfo5I7fDw1QFo2nmp5Zo8oMvPpmJS4EvYqEsdo2u0zIT4mF/pQ7ov8q7lXbeknnjCjLEeVWnm0oxsWmQF9u80zOGVCYmYDn5LuyPcZUiqXhcnsCNov7a1KDrElyezTSbTshEREREREREbWi3YMwptoSpGdMxsDUsRjx1QLMrv0ShaerUK3tl6rPHkRh3QbM3huDwasfwcDlc5FV1qDtvT6CI56Abl85li7MRoUMlJyrRNbrKSjcp0PYM0PUoTEnixAfHIrpy3NRVmMCKldi3B+TsLmiHGXiu4bz8qAmpu2L8MdxqSirN6F6XxH0SZEY9Fw2qi8ZiKlESY78GQR/X+uoiQ79HhypLOm/aTlCYKqvEf8GwF1XifzMFCSniE9mASrsxW3EPSW/mgGT+wQkxQTZz8PiORSxMTGIHeGlbRDO1eCL3CKxoIOHq823xL6sNxJQIso/LyEMvVvLGVOUgjmZZ+ARlYjYoLZmgTFAPz0YIX9Jhb5EhsdM2L8hFdNDgjFzi3aTsgzPBWPc7AwUnnKHt7cOB7fIY8KRXCrenc5HPNtK8d4ysLnI6sFUFuD9XPE+j/uhn9XtEhEREREREV1K+wVhztZi8wcT8dCaGMw2lDULulxK9cnPMSP3cfR/JxWFP2gb25tXBF57SbS6S5OwNNcIY+4yJJYC3i/NQaR3B+WQslVxSD+u5kH5ctdmbNxajK/jgc3rlN0XKcw7gYlfFmOrfjO+3puOaHEeU14CVuy003PE2pEKqH1ZvOBhM3rI6Q5tw4GKpt45zRhQrYxGKkHi08MQNTsVS5eIz+xoDAmeAr2MzzQyoWR5AtJqdIh8LQaBXbTNrTB8Fqf0KhnyQDBmFv8WkQv0iBvYvHuNIScB8QWAf/xMjPFQn51dsjfKqytxqHMEEmIC2jwUybQjFS9/ZgT8YrBxVyE2yuebH49gGJH1RgaUlMQ/FGFLnnjOAYniPS3D4uS12K1PxDDZe6emUty5DoGPRyjX1G/Z2ZjrpnpnjvJ93wmPwVfdRERERERERNQm7ROEqf0Ss9PG4s//OWgVGOgKf+dRWDAgFXkRn+LAX7ahKkb9HIjegLyhszHXxRfeViU0nM7C0+9H4vWS69MrxjcyHtHuJuiTJmJ8Uo7SOyQh0gdqGKEG+3fKCIY7psY0JaJ1GhiGiX3VZVu6iMkY466tOAXgT1Fy+I4JWf9Xrm67Jpzg/1wyEqbFYP6HxVr+lkKsesZLyb3y8ltWyXXLV+LlJZXQjVyE2KC2hkAkE47KITwm8Uy+LkG1dX4acY03ZhfA5BWD18Z5ac/OvrJVs7C0UofQ+dMR3IYAkEVxgTZUa9oE+Fq+5xmBt/cW42t9BLxlT6OON6vbv87G2pxyVB8X3/AKw9vvxCN2pI8a8Ln/MUTKfDU5RShW4mIGFH4hx5T5ITyI3WCIiIiIiIjo8lz7IEztp3h+7WykN3bucEDgbZPx4dgN2PDMdIx5yBfeLl2hsyqJrqszvH0fRWREKvImrcGHvfzhoe0DqpC2bRRmF57Q1ttRlwBExwwFakpRUgOEvjLZqneIAZVy9A284eKsbNC4w+Ne2A02BHpbIjAqD+/fKj9Njc+qBd1dtOdhQr3tsWe1nz1cWpjCWQcPv5GIjJmA0L7aEZ1cEDxzJiLFomldidrL5lwl0menoMIxCPNnDW3zdNAuIxLVnicHipEZ0Q0lmXEIWVikBEVkefMXyQS/Xpi6YAJ8WxmGZMkZoxs8D3Ejumkb28LS00fWo+aBI52TmvdGJ6/rMhIJySPhglIs/UsoHu7XB3f3CcTo2dmosASNOvkh9M/yHWWj4P/EHRzfiW0FYtXvCQS3OJU2ERERERERkX3XNghT9yVmr10A/U/a+q98MW3ACvw9cgwC3Ry0jZegc0NgaAryQmcgsrFNbUb6rilYUmbW1tvJuUpsysjVVgB91har/C1OcFd6vByFqdnMRAYcPQzYmwf86EmrXCOC8aj9AUQX0XnAS7lWAcpsUr9UHNip/PT19rA/fOecCcbjRvGxid7oujUef0be095sxCuJhMuQ9mc1cW1I6EQk75bbipA8Uawv1zINm+T5xMf6vjs5IfDZKASLRdN729QhQEc+wfuZ8roGbJ6jJjqWn5ez5U4ga5ZYj1OTHJdky5wxQtkKRD2pXX9iCgrltt0pGC/WL050LOnQ7RZt0RKQaoHHqEXYvXc/vtSnY/HcCQi9y6gGjUQZLG/GNygMHjAha0c5jEX52CzeZPDTj1kFBYmIiIiIiIja5toFYX6qhV4/F+lWAZi/Dl2AFx/ytB8cuARdr8cxNyIFLzZ+uQoLP5+P/DpttR0YcpK0PDB6bJT5YQoSEJ9j0AIsXugTIAtXjvezS7WeH8KBLVir9JC5WNknRWqSX+lcDTZ9pGTbReh9lxrq4oXAx+UxNVi73tLLRDhZhLWr5FAmL4QGaOc4J5P+llvNulSOpQ/3x+/6TUWWVf4XU9EWbJYLfu7qUKqOLvDt6wNfL3tTVjdnzJsjztcPv5vWPKmw6Z/latCkr7vak6ZjN9whzynWL1kHnOVxPvC+9OXFhWpQts8SwHKC7wA/ZSn9swKrZ1OA+D69cXevJBSKMppqSlGYk4G0HUZ49A1A6LiZWPxOvDL7kilH6w0k9Q1CuLvYlvE+Xv0sBxcuDEXo4LYUioiIiIiIiKi5DhcEbfmqMhbOxe93fa70agA8EfnAfMwNdFPWfhZleFNT7xqXHvPxVfiDVxTYuSzHczF90BToEYFVu2SSV9GofyAa6RiJ1C+TMdy5A1CTjahhccg/BTh5+cDD0YTqSuAO50pU1ADRaw8irj9gWBeNATMK4OHlhfru/ogMcIGxNAPpO4yA12R8tDEG/pe6oZOlSHwyHGni/E4DIxDpB5RkZKBQJgYel4av5wYpz8RyLQxehN1pcvgNUPHeGAxJKAG6ByAywg9OJ6uRvyYHZae8RBn1oowtXdyArKhAzCwIQlJhGsa4aptNpUgOCcdSURadaxDGhPlAV1OErA2lMIpSBCfnY9WolgMXJUm9MXp50/Np0RHxfAPF8w1KxO5VYeqMVI1lgrhOoXqdxmejg+/ICATfBVTnZUBfboL3tLXYGOMHXVUGRgcnoMTRD9FzJiPI9QTKMpYhMbcSumfS8XV8UyLgivdCxfPS8vSMSMbXS59o8/AsIiIiIiIiIotr0xPmp4PIKrEEYAB/z5fx158TgPmpDiVflalDRNwex5sPjcIdyg7RBD+8Ah//S1u5htRcJjqELohRk8R2CULsgpHQncpBTIrW48I9DKs+T0fcqAB4yISu3QIQt34ZJnrLnRfz/vMyrA4oQ9qSVCUAo/MJw9ur2xCAkbr4Ie6DNET7OcG4IwNLl8gAjBP8xy3F1ng1ACPpuqu5YZw8b28MHHg/k46tCyLgjyKky5mRVuWgwkncT+b7rQRgWqHzQ+xHa5Ewyg+6IwXKOdM2lMLkKs/ZegDm59PhDmUKbCd4W6bCVp5NOmIH6lCWs1I8m5XQl+sQGJOOD6aJMspjPCPwTqZ4l07lSJsRjXGRLyAx1yCe3yJsfaX5TEzeQWHiWalChz/CAAwRERERERFdkWvSE0b2gum763N15aZH8few2Qi+U129bD/VoXDddDx9uAout83FF5EPi0ZwHfQrn8LzRq3oPebjQHv0hmkLy3CcxqSzlp4a7ojdmI+pPtpmazKnikkHJ6emO7D0DrGrWU8Q4aT4vhnQ3aIlnbUlM/3q7D8dk9EIU0cnOF3G7EOtkjlnTojrOYpztuMLafEW5bM91cqzkS71/IiIiIiIfmEMe7KR/mEO8ivq0c07CE88HYEx/S/xx8/jpUj/e0HjH8ubuSMI0eP87P/B0VQOfeoWbci+C4InRMBfObAGm1Oy1fyPdlkfKxgrkZ+TgbVrS1ANd/QLD8OfRgbB295FL+dYunrOGVGx7RO8n52N4lrA474whD/7BIK9LvHgr7RuHSlA2odyBIXki/CYoRfl37Su63DzR+jjYRgz3AdOLbbdTCjbkIrNWmcNl0ETENnf5upHisQ5dyrltbv/GroGQZgG5Kc/jmePqWv+vVKxJtT3ygIkVgEYi0DvFfj7yN5AyWI8tG2D9pJH4cOp0xF4k7Jy3VTnTEHIX3Jxxx8SsfiFx+Ahbrq+JAVR0RmocIxAZnE8Atv4IKq3pGBtSzNVt1aJiYiIiIjov5gJJUmhGL3cZoYOwft/s7Bxpn/Lba89Seg1ZiXstgBt/9BrpeztYQh503K9IMz7ajnGusn5X0uR2CscaeoOO6zSGFilbmjGURyzWRxjPXFsTQ6eC30Bm49r6xbdh2KxfhlCm08yS1fLuRpkPTcMM/MaM2tqdAhesBmr/tDKgxd16+7wldqKjaA3RN0Kt1O3jNj8l0BMzjFpeVYn4KPvZjaOQmitrut8JuODrBj42+tMUJ6KISEpjXk+gxcUirJrVz9nQOHbsXgupahxMpZm+9vB1Q/CmHbi9dSXtV9ET/z18XRE36OsXB47ARj/O+firbEPw0MOovqpDEuWTMZCLTfMi49uwzRlxqDrSFRa/fRQTP/M8jo13QMQt3o5ou+7WdtARERERER0+UwFCfhdVIZonoqG8UvvI2GsCwxrEjDuzQKcEdtClxZi8Qj7f66V3/3thAxc6DMBi196pHmjuIsH+vnZmUCjMgOjh2gzlyqsgzBGVOwow1F1RyNDXgJi3qvEBcsfojtWIn3MMHX2Va8ILH5nMgKxE0ufi0V6hWiOesVg46bJ8FV6NjTlfJTpGmbFjERvVOKTpARkybZ4K8Ei+nkq3gvHkATlJSHyb8sw9X+AwnenYvp7MpzhhdiNm+2P7BBk3fqNqJfo2/a61VSXLWyCMHuS8JvwlWK/OyJT0zHrUQ+Y/5GB6U8nKME8/7n5+GicTWDonFVd01gHWUpS+mL0kjOije4EJznDr83+9nD1c8JUHVRnxJFuehD9PLXly3GpAIz0q97oZzXEqfg/tdrSddTJXfxPrxj/3LUZH6WnI1N+9PliPZ0BGCIiIiIi+pkM+Dhda7SOmIfFz/nBo7s7/J9LRtLjHdBB7NGv22J/SIhg/OEwlC4HAY8hdGAAAq0/9gIwsmfEG2oAJjhqgjKTaHNO8LY9z4PdUP3Fd8pl/GeJ78iT7s1WZpmFaEzHLopHqJcLXLxGIiF5ujr0pDIV+r1yQdiXjWUFciEIc9LewDODxTkHRyDpnWWYOm0ypvYFqm3+5k1XwblSrH1TjVx4xCxCwkgvuLh6IfSVZMQqcY5KLP3EKrJhw/iDNvVuW+vWySIkvyrrsjuio8K0jc0Zqiu1AM1jeOIxD9zcSdS4vhGYOFbZiJLqi2t69br5agAmaAKiA9RtzZjUXKG7d63AGG1Te7v6QZjTJ5rGBHb2VIbkXJa2BGAUDvBw7q0ti4d9ukFbuv50Ll7wt1Q4OR0z84wQEREREdHPZSpDuRKgAIIHP2iVnsAJgb8PUhcLyrHfdjSJ5qhBHaDh0U00cHdkIHl2AuJTViJrj/2wTfXHYr+8nl884p71urghbYdx0zIsqrkAOEYgVhu+UlFWpDamHZ8Q7SNlk6pvAELlhCZib2GZOuSkomQLquVCwFAE3n4CFXminCkpSM6rR/DTMYiNCWvKMUNXT1UZCpWhYjqEDrTq7tLJB4Gj1DdvKiprHOJj6/LqlgklSxKQViOuNi4eLwxzQgfZscqGi/8jWq+YEpQc0AbwGItQkCsXRDnv81I2NarJxpw38sWCHxJeiYCXnQrrO/kLZE4LgMt1bKNf9SCMoe6QtiTcdMtFv6jVuz9H2UltxVabAzCqm2+6TVsSv6zHaxvHdBEREREREf3XOW5QAxSCt0fz4RMuHr0ApSFbg6O2uVQ0pnq1t8LRZX/CgMgELM3MQPqSJMwMD0ZISqnW60BzJAfxc+QssF6InRsB77Y0Ws+VI/3NXCXnjP/MqMZ8mMZaLdnlAHebpKvucB+gLpXVqq25xmN/a8CWUYEYEi3KKWd0TYrD6EdDkbynhQgT/TzHa7TOFAFwt5nY2MND61Kyr6bFNnfrdaukWd0ylabiZZnnxXEkFr8QhBbHjFhmtHUtR+LwvhgQEooBgZFIO+mFYTPXYn6zYXcG6F97Dfknxe/GS3MQaS8CI+icrn8E7+r3hGlFdd7LGPXVXIx4LxUltoGYNgRgzOazqDtej5p//wffV9Wg3nMyPn8iHTmPL8c7fr/GqR/rlWOIiIiIiIjImgk63+fwp6E+8H5sJjYWFuPr4nxkTvODTuwrWzIPWY1NMSM2z5ul5N3wnjYP0S3kAbEle8Eky7a4YwRe+IPtHDeXaVUK1v7PEmwrFuXMT8fU/qJRfaocS19YiTLLjLT0CyHr1mREtli3kprq1rlypM1IRYXYEzx3FoZ117bbc86I6n2l2G+UIRwTDOXlMMjeOscNOFpdhmqrmILxs3mYmXcGF7wmY35UGyvsdXLVgzAuzj21JeHsCfGoVKayFXj2G3UKKJiyMOq991FmiZdcIgBz9uw5HPnPD0rw5aeffkL3brfAo4cbvO7uCe9ePeHTyxuPePVAp/M/KcfIY+V3iIiIiIiI/mt0bOozYGqw6RFi9bfomztqC83o4DsyBgnv6LExOQK+rk5w6u6OwGlzMFUZNVSKgv8zKLlcTAUpmJ4jzu8+AfMny4Z0G5hKsfRNZZyI2gvGunuDTjvDMRPq1SWNuIZ2G5ZDmkRg1svB6CkTqHoGIHbeTPjKzTU7sf+IcgBdTR112ns+CpNNh4kz57SX5NhSTWhb3ZIqMucgWUmwHI/5o1pPhludNRGjk+S010GY98UBfP/dQXy/V4+4ICNKMuMQEper9sw5WYDkGTk4c8Ed0YnPwb9NFfb6ufo9YTrfov5ySMaqxu5yOt+J+Pv9DzZlSTatwIg0GYhpPQBTb2xAVfW/xS+lA+727IHbb+uOLl0c0alTR3To0EH5yGVHx87KPnmMPFZ+R36XiIiIiIjov4LMPalNBpO/r/m0vWV7c9Wku+5+8G6hbWuSs8GIj8n679WdnOBi02mlbGemGhupWYnRv+2Nu3uJT2AcZLYNoACzHroHdyc1T9JqyElVcnxYesFYp/jwvneourCvCGXWQ6WM5SgqUheH3avm93C5y5JNVYdu1o3pLjrcoSzUw6TFBOgq8vLFMGVBvJNy60FHRpRZXtJgX3irSxdpW90yoHibVm8K4jBA1iv5CbdMmy7qm1iPWicDNgYU5mnHjo3CmLu0GuXkgydHqPmPTDmbUSiL+o+dSFfy2dQgbUxf9Zy91Bm2pPwZgWI9yWqGr+vr6gdhPHtbZc3+EsUHtEXBI3g+Ntz/oPbLI8hAzNJRLQZg5NCjH+uNcO/hiu63ymQ9drL12JDHyGPld+R35TmIiIiIiIhufD4IDlOjMNXvpiBLTcOhJCRdlFqtxGA8woLUP4qfM6Bk3UqkF1kSo1Yia3x//K5fPwxJ0hLlCqZ9n2Ct0sbWwfsul2bBkzYzlSLtLbXFq8yIZJPkwykgWGvg52Lpu5bcMyaUpKZArywPRXCAmqvDI2Colox1C7bsaGrLVXyWrQaBHP3hrQWi6CpyehDBI9TFzW81pQ8x7UlFco66POxRLRn0yRrkZ66E/oClFom69Wy/S9aty9XYo6u0EhWNPb1MOPhPS3rgbnZ6UP3ydbggaMtXSQPy0x/Hs8fUNZdeqdgT2tg3RlGdPxOj9hapQ5Os2PaAkUGUHm53Kj1drJkMlSj79ijOaOs3u3nD19PlolmIzp07j8O1/8Gt3ZzQzamrtpWIiIiIiOgGdbIUiU+GI012hHF0ga+XC45WarkyHCOwalc8grvIHBkv4HdTZes5AElfpmOMu9wWiwemfYIzogWoc/WBt4sJ1fsqlSEdusGLsD1tZNPIBVtHshGl9IYJwryvlmOsW1O4xrAuGgNmFCjXzyyOb0zIa61aHDNEHCMb6E5ePvBADcoq1R4X/vGb8dEzlpluTChJCcXoJfIGdXDx8cIdJsuxOgQv2IxV2qxLdJXViHc8TLxjWZe6e8FXPGZL/ZAzZG3NUhM0l70djJA3a8T7noCMPTPx0M1qfRsg6pt8vxfXrWRRt55ouW7tSUKvMbI3zAR89N1MLQgnA0BJCAlfqczIpHMNwpgwL9TvyIa+VK0LvjPXYuP/tpT/xYCsKLU3TPCCQlFnbK8ufo96id8jsWR//7Vz9XvCoCv6eT+qLYtb/2498tXfrUYewUnYcJ/V0CTBNgeM4Yc63HnH7c0CMMbybMwM6YPfPDAMoyMjMU77jB4SiN/cMwwz15XDaNX9SX5XnkOeizliiIiIiIjohtfFD3EfpCN2oBNwyoCyfWoAxslvAlZ+oQZgJKe7fOErp3/28kNvreHlNCIZX2bI2WZ0MB0pF98VjWRHFwTHpGP7260EYFpzsqh5L5gWeiZ4/GEpNi4IU8pkrBTXlkEVce3QuZvxQWMARtLBf5poXC+IgH93NRmrcmx3P0T+jQGYa8o9DG+vT8QYH/ESj1eq9UMGwkbGY2t60wxZHr0ClB4xugBf9Nbet9OIRdiuzGR0cd368u1WAjCt0PWfiY82JiKyv/j2kQKkL1mpBGBkQCY6bXMrAZhftmvQE0YwlWFJ2mQs1LoMuXimYs9TzXvDSMpsSd/shIdVAEaSiXVlXhc5rEhlQkXmCxg9OxfG7gGInhWjZPX2cBJv/JwJ1Xs/wftvJSFth3ghg+OxcbGoINr/fKTjPxphMpnheuft2hYiIiIiIqIb3EkjjGbxs6MOTrJtZMtkgkkmXLU3vbTyXfG97i1ETa4V0X4znlAHrOhucbJfNismo2jLoYX7o2tGee7nxYKDE5ys2taNTop32KWFd3It6pal3jiK8tzgVeHaBGEEw/aXMXyPNhsSHBD5wAbMDbx4SFDF7p3Q9X+wMQAjp5iWMxzJBLuWHDCWrmsYHI+PZLZlGZsxliJ9pdg2aAIi+8sNJlS8NxUhCQUwBSXiy+Vh8NB+oeUtfl91GO6/vhMODjepG4mIiIiIiIiI2tE1GI6kcnloOmbf6qCtmZG+azLSvtVWrXgPaArASCdPnYLTLV2akvAez0XynAKYvCZglSUAI52qQMGSVGypsIx10sH7maX44H+9lEzLiZuMSmIqSZ5LnrPhpJIymdrivBkNp7XlS5HHygg8NWOu50MhIiIiIiKiJtcsCINfuSE0dDYiG69Qhdc/i8TswtrG4Ig9p06dgWPnpnTa1Z+tgP6UDpGvxCDQEoBpkRw/OBORjsDmFZ+gwupCnW/W4dRpSyrfK3S+AQc3JeOvERGIipiE11bvQp3sotWO9q+IwJp92kprTjfAfMVlM2P/kpeQ24b59+s2voThIyPw/Kt61MoNP+u6l7BvNaJWlGsrV4lhE+YnbEKdzXJDwRwMDl8tau2Vq9W/iGV7GIghIiIiIiIi1bULwkjOD2Nu+AyEWgVi0neNxaCVWSj5Udtkw3z2LBwcLD1oDCgpkHODh+GxgW0c+NUlCI+NFT/3bUPxkaYojE6nw1lx7it2/gg2xoRjUYUfohe+g7eWxeEprMP4iNU40J45fxuO4Jg6hLJV+999EmnNp+5vu7o8ZB0ehqF3a+stOoLCTbWIXrYWq5JC4Sa2/KzrXoqpAQcb2nDzl+O8GceOaoESq+WugyZh1fwweCprV8YzZDhqU7XgFBEREREREf1/79oGYSS3x/FW+FxEWsVQqo2pGLV6CAYvn4v0rw6K9abeAufP/4SOHS3FqkFZnvgR4NOY36Utev8mSPxbgO++V9cleU557itlLlyFZXfE4W/Tfg9P167o2q0n+ox/EwsH6bHmixPaUUDD919g/ZIlSFuhx36rniQNpdnYViF70qxG2pJMlMh99RXYukIeuwkHLVPg15dife4hmL/dhDXyPJmt9LY534CqvExxviVYs7608bja3CUQq9i/QXx/TSka1M0tls1WXcEmGAfcj8YMPg2HULJellucN+8QGpTrNGD/mkx8ebgBO7PFOUWZL/e6tbnZ2H9YfQbrSy1HN9egPQfr+2t0/gj2X1QujUGcN1Ncc8lqbNxjc7NHdqnlyfwCtZbnbquhFsW7Dir30PzdifOVKv1mmhwpxUb5HsV7Lfre6j6c/fBg5+0obuVZ23cI28Tzq7Mup/XjaeG91xWuxvpdTWWr2mT9XM04qH8XRYe0VSIiIiIiImp31z4II7k9jLnRa/Dunb2tpqYyo+Lk55i9eyIGrhwCz5RHlE+b8wR3VIcsFb7+ApYq84RfWweKv0DIkIGw9NGx6D35Y7w69BZl2bxnCZ5PLIPb8DCE3G/GpzHPY+NhZRfM3+9A2sJ3sc9lMEL61SFt0iT8ZfF2uA0NRQA2YdLrm3BC3vrpQ9iZmYgkPRAQJvZ13IQXJ2WjyjYAIYMgSyYhqdwNQ8Vxfeo/wPgYPY6Jc9zSawDuuQO47d4B6Hevm1Lm5mWrw5pJz2Or3eCAGd+WV6CPt6u6eroUaVEvYqv5foREhuKufXMwSRkS5CDO7wPPrl3h6SOu06vrZV/3WHkmkuZm4MTd8nu2T1bcYe4rCFtYgZ7DxXNw3Ys08bwaKT2TXsSnslxhw3FLcRyeTy0VpReO6DHjmYX4l+twjA57AFj3PF7LPaZ8DeXvIuL5TeLhhiLE7wTWp2TiX+qe5uR72H5IOZ/5++1Im70QReLdjR7uioPzopqGGR0W1xLP3Xx/qNjnjJK4SUgrtQQVXXHXbypQ8o39AFPLjmF/1jwkpNehn6wDpz9GxMt6dciU1XsfIt+7WY8XxfVrRf1wvtWMNRv2asGvcmx7V4+UT/eqz+R8GXLfPQbdFc07SERERERERFdD+wRhpJvcMOyPK/DV2BTMdfGFh7bZ1unzZ6x6rLjDd7D4UVSOatshPy4j8fbmRIxxK0Xy6H4YklAAg3bMwX/KeeqD0MtqOE3zHjaX718HveHZ6pT0h7AxtRQhs6chwNsVbv3DEDPZFcvSd6iNYOG2wePwVP+ecAsMw+M9GvBI5Hj06dkTfSaOx1N7Kpryj9T74enY4fB0FfvGxmFqr9VYX2g5i+bQJiw7PA5vKj1zZK+ceMy8dTU+/ccFdPV+AH16AG4+D8DfzxUOStkO4en5lrKNx6vTnJGmt5dfpQ7Har3hpsVg0NkP0RkZeHmsH9y69YR/2HDc9s1BcZQD3Pz84NnNGZ79xXW8na/gug0IEOV+arD8nm0Q5hBy009gytxpCPTuCc/A8ZgS2TQ4SPZMWvObOLVcrt4YEjsHQ3etQ5Hs2eIaitc/fgfRg73h7OqDkFEP4PNy2QXEjKL1egTMmKO+B59QTJkiK9il3fbUJESK7zh7D0f0RF9sK64QW80oSc9Enzj1fHLflDmDUZS1QwuEAL/u4Y2GBvtBGPOhUuw/1EKApv4BPGOpAxMn4ZnDu7FP3pt879+Eiuf4e9xlqR9u72KNrB/3DkLIP3din0yo/H0pioLCEP1NKQ7IAN63u7Et8GH06SxPTkRERERERNdD+wVhNDo3f0RGpGLH5DX47KEZmOv2MAI7ezYGZWpOHoXJZMn74QL/ID/xMwNbdlycC0R3TxiSNhViVZQPqt+bipezKmE6WYAta8ROv0fQ73ZthiXBbDbD4aYrn576NrcKVLWa3OMYar/3wz09tVXBobcv+tYca2yQ6zpqCwpnOLTUIO7vC8/GYx1w173eqDXYDIE5egT7y1bjeSVJsJooeNmeBpw4qe1vRpatDO89bzk2ApNSd6P2dNvyq9SVbcKa119Sv/t8JvZr2y+tDddt9kysie8e7o27LMEgoatL08NtMBxBbW5i43mjnpmDDw0ncEKZ0akBx7ZnYtkrk9R98/JwQUkHrQaYmgXTXFxxl7bYGut319XZVbuHOvy7pgEfJTbdX9QcPapOnGgMvLXMjP2Zr+Ava8paONYBDo3XdIZzD+3e5Hu/z1vJv6Oyqh8dfcTvyw6UlImSle7CPfePg3/gdpR8C1Tt2Y6AgQPE0URERERERHS9tHsQppHODb4DHkfk2Ln4cFI6dsRsQ5X4PHjXfTh9pqmR7jFiIkIdgfRXU1BoL8DQyQXBf9Vj+1Y9Fo9xR9mSJKSf0iH02cfgbRVzkTMjOTo2zbp0ue718cG23Rf3HKld/xJSci0BEnPzmYHOm2FqMcjQitqmwI10okE2sO00n4NisSojo/GT8dnnmPI/TYGn5gbjhfeajl310WfYPl0GuOwxi7Jri9+uxvMr6tBv4hvq95aNRz9tV9tcznVtXfw8rfUZt7DpvOKj3/IWQlyBhryFeKnIDU/Nekvd99fh6CD+U1ndmyTfkbZ4ZXoiemFTGVZ9+DHyloXCWdtrsilzEwf4z/oMeTMeuPzAiLn5OZVraPXjnn4DUVS8A/t23wJ/v67oM3AQivaI9V2eYp0hGCIiIiIiouvp+gVhWtC1iyOMJ0425YbpPhSxc4Kgq1mJcdNWosJuTw/AxcsdRzOn4o/LK6EbHI/Y4S6NzW55LnnOLo6O2pbL5zx8PIYUzEFKXlMilYZvM5GyQjSm+3UXa74IGJqHNXrL/gbsz86GOdCvsUHeZuV5KNRyyaChFBs3OuBBP5uz+PrhqYI8dfiNdP4ItiYvURP+SqJR3lBvCeWoZdtW0BTaqdUnI63QXlIYmcfkEKos1z/RgCpPH/R2VRvwdaW7UawsteCKr2ur6XkqNeF8A4q2yizNKuf+g2DetKkpV454Tmtez8ZBM2Cur1Py1bh1Vct8cLcll4wr+g0yY022ljtGqMrdhBJt+fKp5/s0Vw5NUpn3rEZKdkXj+Wu/r4BnD6vuPD+X8t4zG3MNyften21urB8O/R9Gv00LsezEAPTtJjaI4+/Z+BbWOA5EP7lORERERERE180vLgjj4HATHDvfjB/rm2Yc8vjDUmycOxROBUkY8kA4EteVotoSjDlnQvWebCRGBip5YXQj4vFRcliz2ZTkueQ55bmvmMyNsiwWt2VHYdCIcEQ9OQJhiVV4OGUWHrlNhnsc4D9tIfxzJyH06QhEjY7AovpJeDXManxSW3l7onaJOrwlIiIZDRMT8ZTtaToPxJT5bljzzJPqMJjRk7DReTB8tfZ+n+Hj8e/kcIS+/gUatLK5ZUeoZXv6SUza5Iyg++wHB+65fyB27v2HuuIXhlcN87TvRWBphTP6qHvssr7uicu8bnPyu2+gj34SnpTfDX8RVQPGIUDbi56iXGOrkDBavAvtOVUNGITeDoDz0PHos36S2CavGYUCs48ayBHcwhLxzJEEhIn3EzU6Cmt6hkLOaH6l5PnGHpqDUHm+iHCEJVfBP9Bb691Sjv2Fv4f/fcrK1aG8dz9snaK+94vqR+cBeLB/A7o+oAX/Ot8P/151+HWAX9NsV0RERERERHRddLjQ5umI2s/Zs+dQVf1vuPdwxc26piEUxvJsJM5IQFa5nQEkjj4YM2ce4p70gZNVAOaMyYyaw0fg6fFr3HTTZcxz3ZrzZjScd4DW0eJipxvQ0LFry/tbI2f2mQvMlENaxHnMDl2tcoPYZ5aJXztf+jiFWZRNNMdbLdvpUix7bjeGrvwzelvO+XPuSWrLdVtwqfsz15vh0O3iE7f6vTY+2zaTdcIs6oR1np997yJioy9Wzbp4Vq2rwSx7HHW9ivdARERERERE19QvMggj1Rsb8GO9ET3c7kSnTs1bmSZDJcq+PYoz2vrNbt7w9XSBzibGcu7ceRyu/Q9u7eaEbk43SD8A6yCMtul6aMhLRhrGI2bw9SzFjawORfPeQsP4ORhyFUcjERERERER0Y3rFxuEkeqO1+NEw0ncecftzXrEtIXsAfOfoz/glq5d4Nz9BkqGcfoI9v8TuEeZ4pmIiIiIiIiI/lv8ooMwkuwRY/ihDrc534pbu92CDh1amv1HJW9H5oA5VvcjXG53vnF6wBARERERERHRf7VffBBGkjliZFBFTjPtdEsXLcmuAzp2VPMKnz//E0wmkzK1tZwFSe6XQZurlgOGiIiIiIiIiOhnuiGCMBZm81mcPHUKp06dgfnsWSX4IslgzE03qbMqySmuf9YsSERERERERERE18ANFYQhIiIiIiIiIrpRqeN5iIiIiIiIiIjommIQhoiIiIiIiIioHTAIQ0RERERERETUDhiEISIiIiIiIiJqBwzCEBERERERERG1AwZhiIiIiIiIiIjaAYMwRERERERERETXHPD/AHemuQe05BFXAAAAAElFTkSuQmCC)"
      ],
      "metadata": {
        "id": "t6hT-h0osIE-"
      },
      "id": "t6hT-h0osIE-"
    },
    {
      "cell_type": "markdown",
      "source": [
        "# 7. lgbm"
      ],
      "metadata": {
        "id": "BTYp8PQBWn17"
      },
      "id": "BTYp8PQBWn17"
    },
    {
      "cell_type": "code",
      "source": [
        "import lightgbm as lgbm\n",
        "from lightgbm import LGBMRegressor\n",
        "\n",
        "model_lgbm = LGBMRegressor(n_jobs=-1, random_state=42)\n",
        "model_lgbm"
      ],
      "metadata": {
        "colab": {
          "base_uri": "https://localhost:8080/"
        },
        "id": "wDrYXeY-csWW",
        "outputId": "c517dfe7-5920-4424-fbeb-f7be1b7e1050"
      },
      "id": "wDrYXeY-csWW",
      "execution_count": null,
      "outputs": [
        {
          "output_type": "execute_result",
          "data": {
            "text/plain": [
              "LGBMRegressor(random_state=42)"
            ]
          },
          "metadata": {},
          "execution_count": 106
        }
      ]
    },
    {
      "cell_type": "code",
      "source": [
        "model_lgbm.fit(X_train, y_train)"
      ],
      "metadata": {
        "colab": {
          "base_uri": "https://localhost:8080/"
        },
        "id": "3sYFcAS_csY0",
        "outputId": "3068a987-da86-4b2b-f8ba-5ddbecd037ab"
      },
      "id": "3sYFcAS_csY0",
      "execution_count": null,
      "outputs": [
        {
          "output_type": "execute_result",
          "data": {
            "text/plain": [
              "LGBMRegressor(random_state=42)"
            ]
          },
          "metadata": {},
          "execution_count": 107
        }
      ]
    },
    {
      "cell_type": "code",
      "source": [
        "y_predict = model_lgbm.predict(X_valid)"
      ],
      "metadata": {
        "id": "L8V6EUMHcsbR"
      },
      "id": "L8V6EUMHcsbR",
      "execution_count": null,
      "outputs": []
    },
    {
      "cell_type": "code",
      "source": [
        "from sklearn.metrics import r2_score\n",
        "\n",
        "score = r2_score(y_valid, y_predict)\n",
        "score"
      ],
      "metadata": {
        "colab": {
          "base_uri": "https://localhost:8080/"
        },
        "id": "jbMjk6ZMcsd7",
        "outputId": "95a741a5-710e-4b0c-8295-5cefbb2348b2"
      },
      "id": "jbMjk6ZMcsd7",
      "execution_count": null,
      "outputs": [
        {
          "output_type": "execute_result",
          "data": {
            "text/plain": [
              "0.5099306105986585"
            ]
          },
          "metadata": {},
          "execution_count": 109
        }
      ]
    },
    {
      "cell_type": "code",
      "source": [
        "y_test = model_gbt.predict(X_test)"
      ],
      "metadata": {
        "id": "wi2UOnkRcsgT"
      },
      "id": "wi2UOnkRcsgT",
      "execution_count": null,
      "outputs": []
    },
    {
      "cell_type": "code",
      "source": [
        "submit[\"y\"] = y_test"
      ],
      "metadata": {
        "id": "arDGIPVFc29l"
      },
      "id": "arDGIPVFc29l",
      "execution_count": null,
      "outputs": []
    },
    {
      "cell_type": "code",
      "source": [
        "file_name = f\"lgbm_{score:.5f}.csv\""
      ],
      "metadata": {
        "id": "YYJ8gM7Dc3gJ"
      },
      "id": "YYJ8gM7Dc3gJ",
      "execution_count": null,
      "outputs": []
    },
    {
      "cell_type": "code",
      "source": [
        "submit.to_csv(file_name, index=True)"
      ],
      "metadata": {
        "id": "D1ehlRbuc3k7"
      },
      "id": "D1ehlRbuc3k7",
      "execution_count": null,
      "outputs": []
    },
    {
      "cell_type": "markdown",
      "source": [
        "![image.png](data:image/png;base64,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)"
      ],
      "metadata": {
        "id": "NU1-kHMQssao"
      },
      "id": "NU1-kHMQssao"
    },
    {
      "cell_type": "markdown",
      "source": [
        "#8. catboost"
      ],
      "metadata": {
        "id": "qSKfYsvOeQJU"
      },
      "id": "qSKfYsvOeQJU"
    },
    {
      "cell_type": "code",
      "source": [
        "!pip install catboost"
      ],
      "metadata": {
        "colab": {
          "base_uri": "https://localhost:8080/"
        },
        "id": "uulHs08hWm9t",
        "outputId": "75f42024-55b6-48bb-d3d4-e8f8723a641a"
      },
      "id": "uulHs08hWm9t",
      "execution_count": null,
      "outputs": [
        {
          "output_type": "stream",
          "name": "stdout",
          "text": [
            "Looking in indexes: https://pypi.org/simple, https://us-python.pkg.dev/colab-wheels/public/simple/\n",
            "Collecting catboost\n",
            "  Downloading catboost-1.1.1-cp38-none-manylinux1_x86_64.whl (76.6 MB)\n",
            "\u001b[2K     \u001b[90m━━━━━━━━━━━━━━━━━━━━━━━━━━━━━━━━━━━━━━━━\u001b[0m \u001b[32m76.6/76.6 MB\u001b[0m \u001b[31m10.1 MB/s\u001b[0m eta \u001b[36m0:00:00\u001b[0m\n",
            "\u001b[?25hRequirement already satisfied: numpy>=1.16.0 in /usr/local/lib/python3.8/dist-packages (from catboost) (1.21.6)\n",
            "Requirement already satisfied: pandas>=0.24.0 in /usr/local/lib/python3.8/dist-packages (from catboost) (1.3.5)\n",
            "Requirement already satisfied: scipy in /usr/local/lib/python3.8/dist-packages (from catboost) (1.7.3)\n",
            "Requirement already satisfied: plotly in /usr/local/lib/python3.8/dist-packages (from catboost) (5.5.0)\n",
            "Requirement already satisfied: graphviz in /usr/local/lib/python3.8/dist-packages (from catboost) (0.10.1)\n",
            "Requirement already satisfied: matplotlib in /usr/local/lib/python3.8/dist-packages (from catboost) (3.2.2)\n",
            "Requirement already satisfied: six in /usr/local/lib/python3.8/dist-packages (from catboost) (1.15.0)\n",
            "Requirement already satisfied: python-dateutil>=2.7.3 in /usr/local/lib/python3.8/dist-packages (from pandas>=0.24.0->catboost) (2.8.2)\n",
            "Requirement already satisfied: pytz>=2017.3 in /usr/local/lib/python3.8/dist-packages (from pandas>=0.24.0->catboost) (2022.7.1)\n",
            "Requirement already satisfied: kiwisolver>=1.0.1 in /usr/local/lib/python3.8/dist-packages (from matplotlib->catboost) (1.4.4)\n",
            "Requirement already satisfied: cycler>=0.10 in /usr/local/lib/python3.8/dist-packages (from matplotlib->catboost) (0.11.0)\n",
            "Requirement already satisfied: pyparsing!=2.0.4,!=2.1.2,!=2.1.6,>=2.0.1 in /usr/local/lib/python3.8/dist-packages (from matplotlib->catboost) (3.0.9)\n",
            "Requirement already satisfied: tenacity>=6.2.0 in /usr/local/lib/python3.8/dist-packages (from plotly->catboost) (8.2.0)\n",
            "Installing collected packages: catboost\n",
            "Successfully installed catboost-1.1.1\n"
          ]
        }
      ]
    },
    {
      "cell_type": "code",
      "source": [
        "import catboost as cat\n",
        "from catboost import CatBoostRegressor\n",
        "\n",
        "model_cat = CatBoostRegressor(eval_metric=\"R2\", verbose=False)\n",
        "model_cat"
      ],
      "metadata": {
        "colab": {
          "base_uri": "https://localhost:8080/"
        },
        "id": "LpDCHDLUXe1F",
        "outputId": "e87421c5-d32b-402d-b89c-2839795733eb"
      },
      "id": "LpDCHDLUXe1F",
      "execution_count": null,
      "outputs": [
        {
          "output_type": "execute_result",
          "data": {
            "text/plain": [
              "<catboost.core.CatBoostRegressor at 0x7f57a3412910>"
            ]
          },
          "metadata": {},
          "execution_count": 123
        }
      ]
    },
    {
      "cell_type": "code",
      "source": [
        "model_cat.fit(X_train, y_train)"
      ],
      "metadata": {
        "colab": {
          "base_uri": "https://localhost:8080/"
        },
        "id": "1dE70LH8s7uc",
        "outputId": "25c0f0f4-ecd0-4813-ba0e-a378c1e91040"
      },
      "id": "1dE70LH8s7uc",
      "execution_count": null,
      "outputs": [
        {
          "output_type": "execute_result",
          "data": {
            "text/plain": [
              "<catboost.core.CatBoostRegressor at 0x7f57a3412910>"
            ]
          },
          "metadata": {},
          "execution_count": 124
        }
      ]
    },
    {
      "cell_type": "code",
      "source": [
        "y_predict = model_cat.predict(X_valid)"
      ],
      "metadata": {
        "id": "G2zVMDaNtAsO"
      },
      "id": "G2zVMDaNtAsO",
      "execution_count": null,
      "outputs": []
    },
    {
      "cell_type": "code",
      "source": [
        "from sklearn.metrics import r2_score\n",
        "\n",
        "score = r2_score(y_valid, y_predict)\n",
        "score"
      ],
      "metadata": {
        "colab": {
          "base_uri": "https://localhost:8080/"
        },
        "id": "1XkKLTNXtEA8",
        "outputId": "1c05ec64-bb1a-40c4-a3c8-b677c6f1e90d"
      },
      "id": "1XkKLTNXtEA8",
      "execution_count": null,
      "outputs": [
        {
          "output_type": "execute_result",
          "data": {
            "text/plain": [
              "0.5274388846659475"
            ]
          },
          "metadata": {},
          "execution_count": 126
        }
      ]
    },
    {
      "cell_type": "code",
      "source": [
        "y_test = model_cat.predict(X_test)"
      ],
      "metadata": {
        "id": "xHslRyoRtNfd"
      },
      "id": "xHslRyoRtNfd",
      "execution_count": null,
      "outputs": []
    },
    {
      "cell_type": "code",
      "source": [
        "submit[\"y\"] = y_test"
      ],
      "metadata": {
        "id": "yAEzeBaatSsz"
      },
      "execution_count": null,
      "outputs": [],
      "id": "yAEzeBaatSsz"
    },
    {
      "cell_type": "code",
      "source": [
        "file_name = f\"cat_{score:.5f}.csv\""
      ],
      "metadata": {
        "id": "Wh8GrUNGtSsz"
      },
      "execution_count": null,
      "outputs": [],
      "id": "Wh8GrUNGtSsz"
    },
    {
      "cell_type": "code",
      "source": [
        "submit.to_csv(file_name, index=True)"
      ],
      "metadata": {
        "id": "quPiHA9DtSsz"
      },
      "execution_count": null,
      "outputs": [],
      "id": "quPiHA9DtSsz"
    },
    {
      "cell_type": "markdown",
      "source": [
        "![image.png](data:image/png;base64,iVBORw0KGgoAAAANSUhEUgAABGIAAABJCAYAAAB2F4B5AAAAAXNSR0IArs4c6QAAAARnQU1BAACxjwv8YQUAAAAJcEhZcwAADsMAAA7DAcdvqGQAACrkSURBVHhe7d0LWFVV3j/wr6NyEhUToyBBStBpQJsAHwvShGE0LzhkhloSFUrjeEuyC9EYkkXUhPimYoViEZSImidJCSPQDNJXoALOvwJqEAzyjBh4xM5Rmv9ee+8Dh5uCIlnv9/M8Z9iXtde+9jyzfq71W33+KwEREREREREREV1xf1D/EhERERERERHRFcZADBERERERERFRL2EghoiIiIiIiIiolzAQQ0RERERERETUSxiIISIiIiIiIiLqJQzEEBERERERERH1EgZiiIiIiIiIiIh6CQMxRERERERERES9hIEYIiIiIiIiIqJewkAMEREREREREVEvYSCGiIiIiIiIiKiXMBBDRERERERERNRLGIghIiIiIiIiIuolDMQQEREREREREfUSBmKIiIiIiIiIiHoJAzFERERERERERL2EgRgiIiIiIiIiol7CQAwRERERERERUS9hIIaIiIiIiIiIqJf0+a9EXaarzfkGlO7bgsT0XJTXD4GrbxDCFsyEu426vxNVH8Vju05dacUOfguC4WlxvP5QCjakpKOgBhji6ou/3R+MuePs1L0NKEzdgpwT6mo77esTjLo92PBRubzsfm84pjrLix3S525BclGDtNRxXURERERERES/JwzE9IaiLQhY/QEwYzUyHvVQN17E+Wqk/WMqIrKN6gaVtS9iMxMx11Fd70DeC6MwP0ldaUU6Nk861l4sG1EYG4jZb1bIe1po4LlGi53zXaRlPdJCfRCRq+xpz7I+1XkdNkwLRJxabdj2MkSOU5bbOZWFFROXQNsoVjqoi4iIiIiIiOh3hkOTekOTHqXFOpTWqetdUJX2uByE0fjHYP//K8P335Zgf4wvNI25iHgsBeXn1YLt6FH1nfg7BbE5BfiywPIXh3uukwsBxVuwQgRhXBYg9Qup/u+kX04M/KyNKFy1FtpTopAd7lnXto4CHNm+GK5it4sHxpjrU5UmPo64Cg001uqGTjUgc/Xj0DZ2pSwRERERERHR70PvBWKMNSg98iGSt63C/a+HYEL8JDirvwkbFuL+t9chOacQ5T+p5a8GYmjQnnisCAlEQGAg5q+Mh1YnhtFYkMqUZ29pLhOwKBrJh/TqTqDwTWnbM+nKSvozcpmIvS37O6aD9o0i6a8bIiOC4KqRFvtp4DovApFjpeWiLcj8VpTriB56eVSQE0Y528BmaOufpp9cCPqqatiMdcPc8AXwMQ8Hcg7CwnliIQulao8WjU3bOjQo0W5BOTQIDA+Gu1qfrCIFz/1LOtA3CtFyPZ0z5krPdY8RTqFRWDle3dgFDbo9iFsZojzrkMcRt0eHBsugVJt31vp9GFG4aY68Peqj1u+xascSeXtoatseQkREREREREQ954oHYow1hUhOWYwJCfMw/bNXsKrmIPLOVqJK3S9UnStDXt37WPVFOPy3TsKEN9cgrdSg7v216KFd4YeAxxKgLRQNeSNK3k/AigA/RDQ34qWG/atzMDksFplKShQY/zcFUSF+mH85DfraUhRWS3+tfTFGjBBq5gKvqWJMUjUKdZ0Fc4xoEMd6O0JTkYvk+HjESb/k7IpWAQu76THI0GoRO92cD0aoRrmI/8ADjpabLem2ICbVKF3KYoRNsUjoIoZSvRiNQjHE6PkgjLIM0LR1Jh9xz6XA6LgAseG+6GpaGP2eJZgY8Dg2vF+IE03SnZbuwYbHAjExMgvKG1Heh3hnmeUauLo6Nr+P0PfF89LAfaw7yot1SN77uXqMUIGcd7JQWtwAT49WD5yIiIiIiIioR125QMy5GmS+uxB3bgvHKn1pq8DLxVSd+RhPZc3AuNcTkPcfdWMvMx5KwNN7paa6RzgyDuchQ5uJL3Oi4Cc139NeTEGpKNSgQ9kZF7jPWov9B7VyYGP/x2sxFUbkvfGRXMbzUWn7S0GiNBD0UgfBjw5UVyBH/B3vCCd5Q4vr7eRBQcgpF9GWDuirIceEvozF7MlhiFqfgA3SLypsKiau2IOqToc0iV4h0YgpAjQzF+KeDhPsNiDzjQS5N0zIswta9YbR74lGVK50v1ERF8xfIwdL3oxGYrVUx/Ph8Bmobr4YYz42PCMCLh5YqS3AkQzpWR/OQbSvdFU7XkKynJxYh0w5580CJB3cjnVxG6X3koywCVPgeqoccijmjr8hRAyF2pOJPHMkpjIf2mLp79gFmOqmbCIiIiIiIiK6Eq5MIKbmIFYlzsPffyyTG7+KQfC0nYVXxicgO/hDfPvYAVSGK79vw95H9pRVWGPnDleLK9KfTcP974TghcLe7x1TkJsCkSY3ZNkCuJuDBc7B2PRFAb7UBsNVBDRsPDB3zUZkxM2Ek+iJcqoBVRVV8nGoblD+9jbpmpb+TxSWLn8JOwvU3C95iQhxARr2PoON2S39QCzpc6MR+lQujC4L8G7MlI57qehSELdHuiuPCDw4QYyXUp3KwourxLHheF5O8nsBui14en0FNDPXYqWvRR0XU3gAySKp7/zFCBurHtfPESGbRN4arXx/gpJvJhcfpOWjvFZ6BxpvRCavRWSoN+TwVz8PTA0Wx+9BfqHyhvT/ewCF0l/POb5K7hsiIiIiIiKiK6TnAzE1H2L59lVIbo5CWMFn2GK8N+99vP/QCsy90x2udoOgsTizZpAtXN3/ipDgBGQv2ob3Rnpa9ASpROKBWViV17vBGCXhrbi21sECc86U5lwrhxLwj8leuHn0GPzZywt3PZyAPGXXpRvqCHfx96QR9fKGFj+fVx6su0MnA3o0jvCcGYyVj86E+1B1m70vIp8NlhaMSCtqP2Sqam8kHghNQblLMJLejYBnh71ULHrDLAuCa3NvGCNy1oqkuy5Y+krrXjLtnK9A8qp4lFv74uVnOgn2dEJ/XL3ugUOkK7CgUXPXyBs9sPStcHgOrUDaqhBM9vHCLaO9MHmR9E4sRnJ5zlgsf19pBwpF+Ax5uWJaKA8ETrhgVx4iIiIiIiKiy9azgZi6g1i1/RVof1HX/+COZeM3462QufBxsFI3XoTGAT6B8cgOfAohzS1uE5IPL8b6UpO6fuUNGawunFP/dqQ4AbND4pGJuxGdnIkjBQX4+ot3EKLuvmSOjvASf4sLUd6qA4sR5aX58pKXcydBA2OD3DOn4Yy6rmoOKJ3/WfmrEkGY0KXpahAmCn6d5obppDdM7Qd4R+SMgR6Zq5VEuOL3tJqfOO0ZaT0yS+kZ9UU6ouQcNKVI/LuaTDdwIeKOiG35iFsorb8pF2hHY62+kDbX35Zm3GLsPFyCI/u3I+mVCIRMAMqz4jH/gQSUmodl/ckXc6THZ0w/gNJTnyNnr7TNNwjTOhyORURERERERNRzei4Q80sNtNo1SLYIwvxzyit44k7n1j0YukgzcgbWBMfjieaDK/Hqxy8jpxtTQF8O9/Ee8t/kvbktQ4zO5CJqzCjcPDIWeVKjXv9NkZz7xu/v4VKD3wV2oqfM8VIUKKXbu0gQoZnGE973iRvfg+17LXLBVIugh/TXOgjenuqDMVajtNiiu0dxAsZ7eeHPy9It8sEYkZf5kbzkeXNLX6Oq95cgQA7CBGHT1gsEYTrtDSPpOwTXj3WD+1jHi7/nvnZSOamsy0Vy5Aht7svG3ROeYmFbFnKag0xG5KwaI72PUYgR8alTFcjLTkfingrYuHjA774FiE7agDBRtKIIJeZ8Q/3c4He/I9CYguTVWmilTVNn3a0MXSIiIiIiIiK6gvr8V6IuX5aGvDX4y+GP1Zwwzgi5/WWs8XGQ1y6LPNSppZeN3fCX8dmcOy4puNMtZ4oQc88cJFZo4D4zGH43AVXZKdDqjHBdth0Z4R7AoWj8OSQFRpcgREfMhCsq8EFCPHYXifwwC7DzuwgleKBLwF0B8aiydkPgPF9MfTAcUy/W+6I6HaFTI5HTqJ7f7gRytu1BaaNIiJuJnQ+JpCh6pIX6ICIX8IvLQ9IsO2X4z9ypcs8TmwnBCPGwgfHfuUjeo5Pzv+zcrQw9asiOxMSwdIgONxp7N7i2iUKM+fvmlqTCxdL1B0rX7xGF/WnBrQMxnSiMHYXZbwJh28sQOU7d2CHzPfgiNi8Rc+0tt1ncl/REC2MDpToroHGbiRB/J6D5vhZjZ0a49KzzEeUVguRGF0yNWIIH3QajKjcBUUlFMErXfnBncMuQt4oUBEyOVpIuYwrWFWxEoHkoFxEREREREdEV0jM9Yn4pQ1qhOQgDeDo/jX9eThDmlzoUflYqBwngMAP/unNWc28F/fHN2P1vdeVKGuiByHeTsXKCBqV7tmDD+i3Q6jTwCU/Gu8s85ECQZkIEdkZ4w6YiHVFhIZj/WDqwIKL90CS3BdgkyjXqoE1KwHZ5OuyLcAzCpl1RCLSHcv6kPSiVnoJfhBbvykEYQYPr7UWmFRu4yn8l/VwQkpyJ2PkiUJQiz5gk9xDxD0eqRf4X4ym98nzFcq0OpcWtfydEYlxZA7RvxKOqo94wV0wH9yVt83ziHaSGe0Oj24NE+b500jsQ9xUOuYOQSMy7KwYhHnpkxj6O+SFhiEjSSfcuvaetFkEYwcUXc5ROT8DMQPgxCENERERERES9oEd6xIjeMGMPf6ys9P8r3gpaBb8blNVu+6UOeTtW4P7jlbAbtgafhNwlNcfroN0yC8vNkYPhL+Pb3ugVYybyrjRK7fzBLUl6WzlvRMNpY+f7zUQ5owY2A4sQM3IOEtXNbfm9koek+1q6qBgbGmBs6vz8RqO0r6OH0dXrukpd7L5gbU7S24GLvTMiIiIiot8Q/dF0JL+3Bznl9Rji6ou/3R+MuePadGtvpwGFb2/pJL2DHfwWBMPT/O+e5xtQfuADvJOejoIaSOfwxt2zpHPc4dju/0+La9mtzYX2q2rAwRNzgoJxzyQX2LQq141zS7pWJ/W0q+m7aqjIxe630rFdfANDXOBzdxAevM8bTm3bfG3qdLo1CHMe/hv8XCw+KJXl/YnvKnBGEOZOc/vVv6seCMQYkJM8Aw+fVNY8RyZgW6D7pQVJLIIwZj6um/HWzFFA4TrceeB9tdfNLLy3dAV8+ssrv0HVyIxPV4fFtGc3cQFCxrX/iIiIiIiI6P+aliH6bbk+uh0ZEUpv/Y5d6B+ALVIDnK+GdkUgVuxtNVOIzGb6WmSsmwknueEqXUv8HDywXicttabxj0LGhmC4Nl9MF8/drTqp51xN35Wav3RlVvOojWZDp2CddiMCzXPVdFqnDabGabFplrlg5/encVuMd9PCO5ktuHdc/tAkYwk+U4MwIjfM9D/1XBDG84Y1eGXGKLk+zW2T8VDz1b6Pgq/Vxd8kR0wND8fKTn4MwhARERERkWDMjcUDcmNSA78nt+NgQQ52Pukrt5HK33wQT3fQyG1mrFeDG24I+59kpCZb/hbDRx2e35CdoNbjgbDkHHxZkIeMV4LgKvbtfQabP1dqMR6Nxwo5YCJdS5RWnjX2iDYKftbSvuxo/CNJJ5eTdfHc3aqTeszV9F2hIQsbVylBGM9Hk6VrEd9ADOaKjBynsvD0lnz1fIB+d7QShLF2w9w1idL5EhF9nyjYgMyV0UirVcpB+q6U+3NEyKYcfP1tGb40f1e6BLy422JSnF/B5QdiKsuQpy6i/x3wupQpgDsJwrw27y44ma/wD6PgZTHcqeDHGnWJiIiIiIjo90iP3ckpSiN0+ktY9w8POA11hOc/4vDydLHRCO2Oj5pzdbZzSi/P8gp4Y+pMb/hMsPxJdan/gl5elK6cY/5irJzgCJuhdnC/bzEWeouNRlTVKo3y0k9TlPrEtTzkJs8aazc2GOtemiLvL9/4AQrNM7d28dzdqpN6yNX1XeHbQqTJOUqDsTTcW7oW8Q0EYckCuSCMldVKT5nzOqS9litv81u9GbHzfaXz+SIkZiM2LVuMpcvcgBqlTn1VhXJu3I3Au5VhUDbSd7VwnrwRhVVdyNt6BV1+IObs6ZYhNgOc24/fupiuBGFkVnCyHaUuA1VnDeoSERERERHR75CxFDql3Qk//zvQ0m/eBj7+vspirg4lSouzvTo9ysVfR+nI2nwkx0cjalU8EncUQW8R3PCMKMP330m/NUqPCJnIy6g2uWys1a0iiaNgf53FtQCawdcrC406lJl7JHTx3N2qk3rG1fZdjYtQyn0XBT+LeIKxsV5ZGDxEOb6yEJlyRxZv3H2HnZxTJjk+HnHrc1E/MVgeXTLXQ7kbO89JygzGKETBt/IC0JCP3CyxoEHgreYJcH4dlx2I0de1BFDQf3DLA1ZVHfkYpWfUlba6HIRRXNN/mLoElJ+qaT9+jIiIiIiI6PeiuecB4OrUOoGqnZO5IVmNE6fUxbYaG5Tj6xLwgE8IotanIDk1ATFPzcHEe+JR2Fk7TVK1IxZxxdKC4wLMmaQ0bp1c1Ub6tiSkmZtw56uxOzVdXclHhTlo0sVzd6tO6hlX2XfVocp0xKwVw9IcETZvkhIsOlWtdgJxg35vIMZPDpPOnYAN62MRMccPAfFFai8YiXMwXk8Nh5+9DjFTx2B8gFReutbEMy6YGrEdL0+/wLl7weX3iLmAquynMeuzNZj+dkL7l9GFIIzJdA51p+pR/cOP+L6yGvXOi/Hx35KxZ8abeN3jRjT+VC+XISIiIiIiotaM1u5YOn8K3F2mIFKbhy8LCnAweTE8L5gnw4jyt8MwOTJXWnJB2Npw+KhJTe2mLUaYaKc35iLCzwuTAwMx+XY/RNW5wV0p0qyr5+5OnXR16Onvqi3jtykInRGJnEaROHgtVnq37e6xBXHpntiUUyCdOwepy0RiYSNK1z+ORBHkEc43oKq4CCUNIjRjhF6ng14Mfzqlx4mqUlRdIFjUGy47EGNna5EU5txp6RYVxtLNePirz5VxZcY0zHr7HZSaYyYXCcKcO3cetT/+Rw7A/PLLLxg6ZDCchjvA5eYRcB05Am4jXTHJZTj6Nf0ilxFlxTFERERERES/G32vURekJpWhzTgRi3+PvqavutCGxm0mVq7ZiAztWoSMtYPNUBs4TQjH839XZpYpzM5vkwdEasxuehAB0WpjebsWkeMsGsEDPRD5bjIiZ3nABg0orzbC9eFkfLo2CEPkAr5wUSet6fK5u1En9ZCr7buyYCxOwAP3RqtBmM5nbwp5NgJ+zjbSuR3hE/4SIseKrdXIL1WCQFVpCzE7Nle6Dl/E5qhDpL6QzuvbgMLUSAREdjBDUy+6/B4xAwa3RCobKpu7OGncF+Kt2+5Ac0cn42ZMTxTBmAsHYeobDKis+gEajRVudh6O64YNxcCB1ujXry/69Okj/8SytfUAeZ8oI8qKY8SxREREREREvwt2LvBUgxA5xa2n4S394iNlwdEDrq1Hl7Q404CGU9Kvzb/+29g5qUsWzjcgLzYQAf8qgtHaDUs7aiwbpbr6uWNu1Dv4UjRsCzKxaZk3NF/lKhO4SNcyRp6SWtLVc3enTuoZV9t3pWrIj0VAYDwKGzVwX9ZBEMbeBT7qomaQ5R4baNQsJvVyziE98rKLlA3zQjHX3HfExg33TFeGwhn3ZCLvV4zEXH4gxnlU88MADrYkwpE4+b2M99sGYzbM6jQII4Yh/VTfAMfh9hh6rY0cdLkYUUaUFceIY0UdREREREREv31u8AtSWsxVb8QjzTziozodcRuVFacgX+Ufxs/rUbhjC5LzW/oilO94EH/28sKfp8Uiz9xoPqODNj1fXtSMdlXaauerkRk5B/PFdL/WHlj53nas7KCxbMyPV+q7bSkSdWortjYXca/JGVDher96LZKunrs7dVJP6cZ3JdEXpSMxNb85EW9Pf1dC1d5IzJ6/BeXQwPPJ7dgZ3kFPGEdv3O2hLGZm5qPBPCjm2w+wXU4+rIGX2n2quTdPUQXKmwfPGFH2tZxmWDIEmo4vpVf0+a9EXb5EBuQkz8DDJ5U1u5EJOBrY+j+VqpynMesLdZiShbY9YUQgZbjDDXKPF0tGfQVKvzmBn9X1axxc4e5sJ09BZen8+SYcr/kR1w6xwRCbQepWIiIiIiKi36gzRYi5Zw4SRccFazu4u9jhRIWa78I6GEmHo+A3EGjY+zj+vHSPtNEbsQeTMVe0R09lYcXEJdDKZZVjjdU6lIskrNa+WPdxIgLtpYb2jjCMf0qdRqcjj27H9xFSC1hqWKf9YyoistsMZxFcFmDn7gh4mvN+dPHc3aqTek4Xvys0SO/xNuk9Sos+MTlInSd9WD39XdWmI9QnEjnq5vak7+A76TuQloxF8QiYnSDP2qSxd4OrnRFVxRXyMCONfwz2bwqCUz+p3NFYBMwRgR1Rzhdzg1xQfygd2iK5JNwjtiPjUTdp+ddx+T1iMAhern9Vl6WH/d0u5LTp4iP3jLnVomeMpG1OGP1/6nDD9de1CsI06NIRETAGt9w+FbNDQjBf/c2e7INbRkv/se7QtUTBJOJYUYeoizljiIiIiIjoN0/NobJygg3QqEdpsdJYtvFYgKQctbEssbnJHe7W0oKLB0aZG15Dp2BdjnSsvx006rHlpzSw8w9HqjkQ0h39HDF3nRax80U+FzNRXwR27mwTMOnqubtTJ/WcLn5XsHaEu5voOuICzz+qH1ZPf1fdoPEIx86MGIR42MBYq5POLYIwNvCcv7Y5CCOXGyd9P6LcOOmaa3ORvH6LHIQRQZmwxMxfNQgj9ECPGImxFOsTF+NVNbGPnXMCjt7bvgOZPIvSV5/DySIII4hkuyLPixhipDCiPPVxzF6VhYah3gh7JhwPTnGDk430AZw3ouqLD/DOa7FIPCQ9SP8oZKwLhqvFf6CnfmqA0WiC/Q3XqVuIiIiIiIh+40RuDpP0t68GNqJt1JbRCKO0r+3IAZnUjmo4bYRmsE3H+7urO/V1tWxPXyN1zcW+K+m9GJuk76qjoTy/5jsT+YUa0eXvCtY26Oj2fg09E4iR6D99GtOOmocfWSHk9vexxqf98KDyI59DM+6O5iCMmH5azHwkku6ac8JU7QjDZNGFyT8KO+OC4S7iMw1FSN4ibZu4ACHjxAYx/dVSJfOybwwOvtkS/RK39H3lcTjeeAOsrPorG4mIiIiIiIiIfmU9MDRJYXfnCqy61kpdMyH58GIkfqOuWnAd3xKEEc40NsJm8MCWxLynshC3OhdGlwVIMgdhhMZy5K5PwEfl5nFPGrg+tAHvPuoC5EYiZl/LeChRl6jTcEYMWqMuOWuAqUldvpgmEwwiYkqtmOr5UIiIiIiIiOjCeiwQgz84IDBwFUKaa6zEC3tDsCqvRl3vWGPjz7Ae0DKPedXezdA2ahDybDh8zEGYTmnguSwCIdZA5uYP5EQ8ZgOu0aDxrDm97yVqMqBsXxz+GRyM0OBFeH7rYdR1NVjRQ0o2B2NbsbpyId0JpLR1tggbn9biwm9KUZfxJKbNDMby59Tyl3PeiyneitDNOnWlh+j34eXofahrs2zIXQ3/OVulr/bS1WifwMajlxiMMZRjf9yT0ncWjMee3YpCi8zWXf4GiIiIiIiI6KrXc4EYwfYurJnzFAItgjHJh+dhwpY0FP6kbmrDdO4crKzMPWn0KMwV830H4e4JXRy8NdAXd8+T/hYfQEGtsknQaDQ4J9V9yZpqkRE+B2vLPRD26ut4bWMk7sUOPBK8FWW9GYwx1OJkBwnE2yp54x4kqlOld5ch913UTJsG59aTVXWgFnn7ahC2cTuSYgPhIG25nPNelNGAMkMXbr47mkw4eUINllgsD5q4CEkvB8E8xfylcA6YhpqErgW0WqvDgRciUTJ2GV5PSkLUfCtsW74eJWfV3V38BoiIiIiIiOjq13e1RF3uGYNHY5qzC+rKcvClGrBoMP4v0r54FxnFlejz842wvXYwhmiUVv/Jup8wzPZaKEOTvsWuFeko9J6HFUHuGCKXUBl00G7JRpP/w5g9pnVXmWtOFCNxfy5u/styTHRSton6TtbVw3Zoq1q6zPTZa3j8P8F4+8lJGDbIClbXDMH1HlMw7kQ03qsPwCQXJXhk+P4TZKRk4FBxLTQ33oLr1bQ4hqJ05J9xxrnDqdiVqUMf51vh0FSO/Smp+KSwDjYuozBMdASqL8Kug+fgcj4P6e9lIr8cuNndEQPUYNaJz5NROSIE42+UVpoMqMxJR/qHB1B23Ao3jnaQy9VkrUdq1jf47od61Oit8McxDhBX19m1tVaLrHVZcLwvCKPNj9VwDIUZu5Dx8SFUGhzg5DwEVn8woGTbVnwgXWD1aT3+fcYBN1Ykd+u8NVnpqLxGgy+3p+LLPu74k4M5ANfC8M0+7JKeQ4m4v0HHsK16BELvECEfSVMtSnanQ9vqupRd0EvPdrf0bA/oUNPXAaNvtLjZ2sPYtfV9HCo/gxuHmfD5YWDCjFswwPAN9h9Ul0+X4ZPcOjhJ92Bq9e6+QI2VM0Y7DFArk9QWIWPbDhz4rBym60fCaah6HwMGozErFTVe0zC6w2fdme/x+VsD4P2kLxz69sUAu5EY9NVWVI4KxJ+Gqt+A/RT0O7gVGdL91V07Ci7XtX92sq4+h5F9UbjrO1ynvrMLPlsiIiIiIiLqMVemqeVwF9aEbcMbN4yymLLahPIzH2PVkYWYsGUynOMnyb8u5wruqwxfynvhcWyQ5/6+sr4t+AQBkycojVQLoxbvxnNTlMat6eh6LI8phcO0IATcZsKH4cuRcVzeBdP3nyLx1TdQbOePAK86JC5ahMfWfQqHKYHwxj4semEfDKLg2WP4PDUGsVrAO0ja13cfnliUjsp2vW4MKFm/CLE6B0yRyo2pfxePhGvlYTWDR47H6OuBYX8cD68/Kg3r1tdWh22LlmO/RY+hZmfLUVbujpuGm9eLkBj6BPabbkNASCBuKl6NRfLwICupfjc4DxoEZzfpPCMHdfu8J3WpiF2TgtM3i+PaBxIMWc8i6NVyOE+TnoP9F0iUnlczuYfSE/hQXFfQNAwuiMTyhCLpq5LUavHUQ6/i3/bTMDvodmDHcjyfJQ8+AnRvIHj5PunhBiLA4zR2xafi38qe1sR7+PSYXJ/87la9inzp3c2eZo+yl0Jbhhwdl84lPXfTbYHSPlsURi5CYpG6D/a46ZZyFH4lv9lucMO8lEcwRl1D0zGUfT0Cw2zVdcmBren4wUO6B+9BKFy1HLuOqTssdec5vBCDber9tn22DroYLF+vPlsiIiIiIiLqUVfu37z7O2DqA5vx2bx4rLFzh9pRpZ2zTT+jqekXdc0R7v7Sn3wdqs4rW5rZzcSmzBjMdShC3GwvTI7OhV4tU/Z1rvS/vnC5WVkXRJ19+1767f27zBXOjupKh44hI6EIAauWwdvVHg7jghC+2B4bkw81N2CH+c/HveNGwMEnCDOGGzApRGpsjxiBMQsfwb1Hy1sCAvUeuH/lNDjbS/vmRWLpyK3YldemGXxsHzYen49/LfuLUu6RKERcuxUZOmCQ6+0YMxxwcLsdnh72sJKv7Rjuf9l8bY/guWW2SNR2kG+l/iRqXEdAdLiRDfBAWEoKnp7nAYchI+ApNcyHfVWGOqlWBw8POA+xhfM46TyutpdwXgO8H1mNe/3FcW0DMceQlXwaS9aIY0fA2ecRLAlpGShkykvCtlsileuyd8Xklasx5fAO5NdLO+0D8cLu1xHm7wpbezcEzLod+3Ui24sJ+bu08H5KOqd4D26BWLJEfGAXN+zeRQiRjrF1nYawhe44UCAyEJlQmJyKMZFKfWLfktX+yE87pATVJDcOd4XB0HEgxnSsCCXHLhakEQG3GJTMW4RJFp25Ji1chgA36R6k7ywkyAqfH+0gqtad5zDfAyeVo+Rnu9FhEcLVZ+u9LBIBX61HRkfBHiIiIiIiIrosV3zwgcbBEyHBCTi0eBv23vkU1jjcBZ8Bzs2BmeozJ2A0mhNg2MHT10P6m4KPDrVPiqEZHYTYfXlICnVD1dtL8XRaBYxncvHRNmmnxyR4XaeUE0wmE6z691fXum+YQzkqL5js4yRqvvfA6BHqqsRqlDvGVp9sbpSro69UtrCyGN3Syjh3i/wsVrjpj66o0as9GcxO1KKkdCuWy4mDleTBG48acLrDiaHEtZXi7eXmssFYlHAENWe7lmikrnQftr2gJI4NXZ6KEnX7xXXhvJ3moZGOPT4KN9mrq5JBdi0P16CvRU1WTHO9oQ+txnv60zgt51Ex4OSnqdj47CJl30vZ8jEi98rJmjYBNTt73KQuXojluxtka6/eQx1+qDZgZ0zL/YWu1qLy9Oku9B4xoST1WTy2rfQCZZVeT2uxEi/ca/EgBIvr0fRt35tIcWnPQTzbsdI311LrCIy+9RhqTqirRERERERE1GN6LwuExgHu42cgZN4avLcoGYfCD6BS+t1x0604+3NLQ91p+kIEWgPJz8Uj74y60VI/O/j9U4tP92uxbq4jStfHIrlRg8CH74ZrP7WMRMyYZG3dMhtTd/3RzQ0HjrTvQVKz60nEm4d7SE3qVjMGNZlg7DTQcAE1LcEb4bRBqr+jxrbvSiSlpDT/UvZ+jCXj1H3t+OPxt1vKJu3ci09XiCBXB0zSdauL+GYrlm+ug9fCF5XjNj4CL3VX13TjvO20f56Wxsx/taVe6af96DUE2AOG7FfxZL4D7n3mNWXfP6epRwhSHW3fkbp4aUYg7NWWa0h6bzeyNwbCPIrI2OaaW1jB85m9yH7qdouAR2s1uyKx1rAIry7z6LTMhXT+HKyg6VsHkzn5r9DmORjbDIUzmaxgdSnfMhEREREREV1Q7wViOjFooDUaTp9pyRUzdApWrvaFpnoL5i/bgvKOgjESOxdHnEhdigferIDGPworp7VkoxF1iToHWlurW7rPdtojmJy7GvHZLUNADN+kIn6z1KAeJ5rd7vCeko1tWvN+A0rS02Hy8WhulHeZLht5am4ZGIqQkWGFOzza1OLugXtzs5WhOEJTLfbHrUeh+fR9rWCoN4dzlGs7kNsS3qnRxiExr6PhLCMw6tgx1Jgb4qcNqHR2wyh7JRRQV3QEBfJSJy71vO20eZ5NBuTvN/fokN7HuIkw7dvXkjtHek7bXkhHmQkw1dfJ+WscBinXXHbEnFvGHl4TTdiW3pLvpDJrHwrV5e5T6vswq2WidNPRrYhPL2+uv+b7cjgPb9ObpQtqslbj2Vx/vPjUBNheYgCk8+dgCy9/W+xK/USZfl36dvJTtc09neRnK327JebXdlyLbbkT4HWLuk5EREREREQ95lcPxFhZ9Yf1gGvwU/1pdQvgdN8GZKyZApvcWEy+fQ5idhShyhyQOW9E1dF0xIT4yHliNNOjsDMuCE4WvWFEXaJOUfclE7lSNq7EsPRQTJw+B6H3TEdQTCXuin8Gk+QYiRU8l70Kz6xFCLw/GKGzg7G2fhGeC7IYq9RVrs6oWa8MdQkOjoNhYQzubVvNgAlY8rIDtj10jzLsZPYiZNj6Y4za5h8z7RH8EDcHgS98AoN6bQ7pwcq13X8PFu2zhe+tHQUI3OHlexgl36irHkF4Tv+SelwwNpTbtiSR7cCln7ctceyLGKNVn+ecJ1A5fj681b0YIV3XvEpEz5behfqcKsdPxCgrwHbKIxiza5G0TZwzFLkmN/UgwCEoBg/VRiNIej+hs0OxbUQgxGznl0rUN+/YagSK+oLnICiuEp4+5mE9OpTk/QWet8orXafXIv6lQygrXo85f/0rJvopv41H1f1ddKHnYBsYgxfdPkf0Q9K+JUk46eXf0tNJPNuFJ7FWuh/xbAOX7IPny8vh2dlQOiIiIiIiIrpkff7b5WmLrpxz586jsuoHOA63xzUapUkrNOjSEfNUNNJ0HQwmsXbD3NUvIfIeN9hYBGF+NppQfbwWzk43on9/ix2Xo8kEQ5MV1I4G7Z01wNB3UOf7L0TMdLMGiBDDW6R6TFaDLjokxCSSwQ64eDmZSbo2XPjaxExHjx3xx6bFLQ33y7onoQvn7czF7s9Ub4LVkPYVX/C4Lj7bLhPfhEn6JiyDFcVvIDjDHUnPtJ9tqzd1+hxEbxjztuPpeCzGClEWw6rke5IOHdTBsyUiIiIiIqKecVUEYoT6BgN+qm/AcIcb0K9f6xakUV+B0m9O4Gd1/RoHV7g720HTJs5y/nwTjtf8iGuH2GCIjTLF9FXPMhCjbup9dTjwyuuwWhgJ71/vIn7j6pD/0mswPLIak7s/MumKq9v3LObvssfji/1xEyqR/8YbKJn2Ol4JvAovloiIiIiI6HfsqgnECHWn6nHacAY3XH9dq54xXSF6wvx44j8YPGggbIdazPt7tTtbi5KvgdHy9M9EV47h+8PIzRazWNniJn9/THZjEIaIiIiIiKi3XVWBGEH0jNH/pw7DbK/FtUMGo0+fPuqejonLFzlhTtb9BLvrbH87PWGIiIiIiIiI6P+cqy4QI4icMSKwIqagthk8UE28a4W+fZXcwk1Nv8BoNMrTXovZkcR+EbjpsZwwRERERERERERXwFUZiDEzmc7hTGMjGht/huncOTkAI4iATP/+ymxLYvrry5odiYiIiIiIiIiol1zVgRgiIiIiIiIiot8TZawPERERERERERFdcQzEEBERERERERH1EgZiiIiIiIiIiIh6CQMxRERERERERES9hIEYIiIiIiIiIqJewkAMEREREREREVEvYSCGiIiIiIiIiKiXMBBDRERERERERNRLGIghIiIiIiIiIuolDMQQEREREREREfUK4P8DFfy7Xgij0HkAAAAASUVORK5CYII=)"
      ],
      "metadata": {
        "id": "aKeCLIoONxpR"
      },
      "id": "aKeCLIoONxpR"
    }
  ],
  "metadata": {
    "colab": {
      "provenance": [],
      "toc_visible": true
    },
    "kernelspec": {
      "display_name": "Python 3 (ipykernel)",
      "language": "python",
      "name": "python3"
    },
    "language_info": {
      "codemirror_mode": {
        "name": "ipython",
        "version": 3
      },
      "file_extension": ".py",
      "mimetype": "text/x-python",
      "name": "python",
      "nbconvert_exporter": "python",
      "pygments_lexer": "ipython3",
      "version": "3.7.13"
    },
    "toc": {
      "base_numbering": 1,
      "nav_menu": {},
      "number_sections": true,
      "sideBar": true,
      "skip_h1_title": false,
      "title_cell": "Table of Contents",
      "title_sidebar": "Contents",
      "toc_cell": false,
      "toc_position": {},
      "toc_section_display": true,
      "toc_window_display": false
    },
    "varInspector": {
      "cols": {
        "lenName": 16,
        "lenType": 16,
        "lenVar": 40
      },
      "kernels_config": {
        "python": {
          "delete_cmd_postfix": "",
          "delete_cmd_prefix": "del ",
          "library": "var_list.py",
          "varRefreshCmd": "print(var_dic_list())"
        },
        "r": {
          "delete_cmd_postfix": ") ",
          "delete_cmd_prefix": "rm(",
          "library": "var_list.r",
          "varRefreshCmd": "cat(var_dic_list()) "
        }
      },
      "types_to_exclude": [
        "module",
        "function",
        "builtin_function_or_method",
        "instance",
        "_Feature"
      ],
      "window_display": false
    }
  },
  "nbformat": 4,
  "nbformat_minor": 5
}